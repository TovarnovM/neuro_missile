{
 "cells": [
  {
   "cell_type": "code",
   "execution_count": 1,
   "metadata": {},
   "outputs": [],
   "source": [
    "import numpy as np\n",
    "from drone_sac import AgentParallel3layers, BufferParallel\n",
    "from drone_gym import DroneGym3\n",
    "from tqdm.notebook import tqdm\n",
    "import torch as T\n",
    "import matplotlib.pyplot as plt"
   ]
  },
  {
   "cell_type": "code",
   "execution_count": 2,
   "metadata": {},
   "outputs": [],
   "source": [
    "env = DroneGym3.make()\n",
    "agent = AgentParallel3layers(\n",
    "    input_dims=env.obs_max.shape, \n",
    "    n_actions=2, \n",
    "    action_space_high=env.action_space.high,\n",
    "    device_name='cpu')\n",
    "buffer = BufferParallel(agent)\n",
    "\n",
    "agent_md = AgentParallel3layers(\n",
    "    input_dims=env.obs_missile_max.shape, \n",
    "    n_actions=2, \n",
    "    action_space_high=env.action_space.high,\n",
    "    device_name='cpu')\n",
    "buffer_md = BufferParallel(agent_md)\n",
    "\n",
    "import pickle\n",
    "with open('agent_dict3.bin', 'rb') as f:\n",
    "    agent_dict = pickle.load(f)\n",
    "agent.from_dict(agent_dict)\n",
    "\n",
    "import pickle\n",
    "with open('agent_dict3_md.bin', 'rb') as f:\n",
    "    agent_dict_md = pickle.load(f)\n",
    "agent_md.from_dict(agent_dict_md)"
   ]
  },
  {
   "cell_type": "code",
   "execution_count": 9,
   "metadata": {},
   "outputs": [],
   "source": [
    "env.record_history = True\n",
    "env.antiflip = False\n",
    "n = 0\n",
    "\n",
    "observation, observation_md = env.reset()\n",
    "done = False\n",
    "done_md = False\n",
    "while (not done) and (not done_md):\n",
    "    action = agent.choose_action_determ(observation)\n",
    "    action_md = agent_md.choose_action_determ(observation_md)\n",
    "\n",
    "    (observation_, reward, done, info), (observation_md_, reward_md, done_md, info_md) = env.step(action, action_md)\n",
    "\n",
    "    buffer.store_transition(observation, action, reward, observation_, done)\n",
    "    buffer_md.store_transition(observation_md, action_md, reward_md, observation_md_, done_md)\n",
    "\n",
    "    observation = observation_\n",
    "    observation_md = observation_md_\n",
    "    n+=1"
   ]
  },
  {
   "cell_type": "code",
   "execution_count": 10,
   "metadata": {},
   "outputs": [
    {
     "data": {
      "text/plain": [
       "[<matplotlib.lines.Line2D at 0x1f6250dac70>]"
      ]
     },
     "execution_count": 10,
     "metadata": {},
     "output_type": "execute_result"
    },
    {
     "data": {
      "image/png": "[encoded data removed]",
      "text/plain": [
       "<Figure size 432x288 with 1 Axes>"
      ]
     },
     "metadata": {
      "needs_background": "light"
     },
     "output_type": "display_data"
    }
   ],
   "source": [
    "from ipywidgets import interact, interactive, fixed\n",
    "import ipywidgets\n",
    "import matplotlib.pyplot as plt\n",
    "gym = env\n",
    "\n",
    "xs = []\n",
    "ys = []\n",
    "f1s = []\n",
    "f2s = []\n",
    "rewards = []\n",
    "rewards_md = []\n",
    "ts = []\n",
    "dts = []\n",
    "scores = [0]\n",
    "vels = []\n",
    "xsm = []\n",
    "ysm = []\n",
    "omegas = []\n",
    "for d in gym.history:\n",
    "    gym.set_state(d['state'])\n",
    "    xs.append(gym.drone.pos.x)\n",
    "    ys.append(gym.drone.pos.y)\n",
    "    omegas.append(gym.drone.omega)\n",
    "    f1, f2 = d['actions']\n",
    "    f1s.append(f1)\n",
    "    f2s.append(f2)\n",
    "    ts.append(gym.time_curr)\n",
    "    rewards.append(d['reward'])\n",
    "    rewards_md.append(d['reward_md'])\n",
    "    dts.append(d['delta_t1'])\n",
    "    scores.append(scores[-1]+d['reward'])\n",
    "    vels.append(gym.drone.vel.len())\n",
    "    xsm.append(gym.missiledrone.pos.x)\n",
    "    ysm.append(gym.missiledrone.pos.y)\n",
    "scores = scores[1:]\n",
    "i1=0\n",
    "i2=-1\n",
    "# plt.plot(ts[i1:i2], rewards[i1:i2])\n",
    "plt.plot(ts[i1:i2], f1s[i1:i2])\n",
    "plt.plot(ts[i1:i2], f2s[i1:i2])\n",
    "# plt.plot(ts[i1:i2], dts[i1:i2])"
   ]
  },
  {
   "cell_type": "code",
   "execution_count": 11,
   "metadata": {},
   "outputs": [
    {
     "data": {
      "application/vnd.jupyter.widget-view+json": {
       "model_id": "17bd1cfbdb0c4bc898522aec41250741",
       "version_major": 2,
       "version_minor": 0
      },
      "text/plain": [
       "interactive(children=(IntSlider(value=0, description='i', max=1488), Checkbox(value=True, description='(зел) о…"
      ]
     },
     "metadata": {},
     "output_type": "display_data"
    }
   ],
   "source": [
    "@interact(i=ipywidgets.IntSlider(min=0,max=len(gym.history)-1,step=1, value=0),\n",
    "         ideal_traj=ipywidgets.Checkbox(value=True, description ='(зел) оценка траетктории до цели'),\n",
    "         drone_traject=ipywidgets.Checkbox(value=True, description ='(синяя) траектория дрона '),\n",
    "         missile_traject=ipywidgets.Checkbox(value=True, description ='(красная) траектория ракеты '))\n",
    "def plot_history(i,ideal_traj,drone_traject, missile_traject):\n",
    "    d = gym.history[i]\n",
    "    i1=0#max(0,i-30)\n",
    "    i2=i+1\n",
    "    gym.set_state(d['state'])\n",
    "    fig, (ax, ax2, ax3) = plt.subplots(1,3, figsize=(14,7))\n",
    "    gym.plot(ax, drone_mashtb=150, vec_mashtb=10, actions=d['actions'],\n",
    "             drone_mashtb_md=150, vec_mashtb_md=10, actions_md=d['actions_missiledrone'],\n",
    "             ideal_traj=ideal_traj, missile_d=True, ideal_traj_md=True)\n",
    "    if drone_traject:\n",
    "        ax.plot(xs[i1:i],ys[i1:i],ls=':',c='blue')\n",
    "    if missile_traject:\n",
    "        ax.plot(xsm[i1:i],ysm[i1:i],ls=':',c='red')\n",
    "    ax.set_aspect('equal', adjustable='box')\n",
    "    \n",
    "    \n",
    "#     ax2.plot(ts[i1:i2], f1s[i1:i2])\n",
    "#     ax2.plot(ts[i1:i2], f2s[i1:i2])\n",
    "    ax2.grid()\n",
    "#     ax2.plot(ts[:i2], vels[:i2])\n",
    "    ax2.plot(ts[:i2], omegas[:i2])\n",
    "    \n",
    "    ax3.plot(ts[:i2], rewards[:i2])\n",
    "    ax3.plot(ts[:i2], rewards_md[:i2])\n",
    "    ax3.grid()\n",
    "    ax.grid()\n",
    "    plt.show()"
   ]
  },
  {
   "cell_type": "code",
   "execution_count": 12,
   "metadata": {},
   "outputs": [
    {
     "data": {
      "text/plain": [
       "{'result_md': 'success', 'final_reward_md': 100, 'info_md': 'missiledrone win'}"
      ]
     },
     "execution_count": 12,
     "metadata": {},
     "output_type": "execute_result"
    }
   ],
   "source": [
    "info"
   ]
  },
  {
   "cell_type": "code",
   "execution_count": null,
   "metadata": {},
   "outputs": [],
   "source": []
  },
  {
   "cell_type": "code",
   "execution_count": 1,
   "metadata": {},
   "outputs": [
    {
     "name": "stderr",
     "output_type": "stream",
     "text": [
      "<frozen importlib._bootstrap>:219: RuntimeWarning: easyvec.vectors.Vec3 size changed, may indicate binary incompatibility. Expected 40 from C header, got 48 from PyObject\n"
     ]
    }
   ],
   "source": [
    "from drone_gym import Drone2d"
   ]
  },
  {
   "cell_type": "code",
   "execution_count": 2,
   "metadata": {},
   "outputs": [],
   "source": [
    "drone = Drone2d.get_DJI()"
   ]
  },
  {
   "cell_type": "code",
   "execution_count": 3,
   "metadata": {},
   "outputs": [
    {
     "data": {
      "text/plain": [
       "{'t': 0.0,\n",
       " 'pos': Vec2(0.0, 0.0),\n",
       " 'vel': Vec2(0.0, 0.0),\n",
       " 'alpha': 0.0,\n",
       " 'omega': 0.0}"
      ]
     },
     "execution_count": 3,
     "metadata": {},
     "output_type": "execute_result"
    }
   ],
   "source": [
    "drone.to_dict()"
   ]
  },
  {
   "cell_type": "code",
   "execution_count": 4,
   "metadata": {},
   "outputs": [],
   "source": [
    "drone.from_dict(\n",
    "{'t': 0.0,\n",
    " 'pos': (0.0, 0.0),\n",
    " 'vel': (0.01, 0.0),\n",
    " 'alpha': 0.0,\n",
    " 'omega': 0.0}\n",
    ")"
   ]
  },
  {
   "cell_type": "code",
   "execution_count": 6,
   "metadata": {},
   "outputs": [
    {
     "name": "stdout",
     "output_type": "stream",
     "text": [
      "Norm t3=0.6422404915409151\n",
      "Norm t1=2.720402936861196 t3=4.401611951841415\n",
      "Norm t1=4.2943173854175445 t3=4.294323798720978\n"
     ]
    },
    {
     "data": {
      "text/plain": [
       "4.294323798720978"
      ]
     },
     "execution_count": 6,
     "metadata": {},
     "output_type": "execute_result"
    }
   ],
   "source": [
    "drone.get_delta_t_minimum_moving_trg((5,5), (1,0),(2,0),10,3,1e-5)"
   ]
  },
  {
   "cell_type": "code",
   "execution_count": null,
   "metadata": {},
   "outputs": [],
   "source": []
  }
 ],
 "metadata": {
  "kernelspec": {
   "display_name": "env_neuro_missile",
   "language": "python",
   "name": "env_neuro_missile"
  },
  "language_info": {
   "codemirror_mode": {
    "name": "ipython",
    "version": 3
   },
   "file_extension": ".py",
   "mimetype": "text/x-python",
   "name": "python",
   "nbconvert_exporter": "python",
   "pygments_lexer": "ipython3",
   "version": "3.8.5"
  }
 },
 "nbformat": 4,
 "nbformat_minor": 4
}
