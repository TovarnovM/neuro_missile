{
 "cells": [
  {
   "cell_type": "code",
   "execution_count": 1,
   "metadata": {},
   "outputs": [
    {
     "name": "stderr",
     "output_type": "stream",
     "text": [
      "<frozen importlib._bootstrap>:219: RuntimeWarning: easyvec.vectors.Vec3 size changed, may indicate binary incompatibility. Expected 40 from C header, got 48 from PyObject\n"
     ]
    }
   ],
   "source": [
    "import numpy as np\n",
    "from drone_sac import AgentParallel3layers, BufferParallel\n",
    "from drone_gym import DroneGym3\n",
    "from tqdm.notebook import tqdm\n",
    "import torch as T\n",
    "import matplotlib.pyplot as plt"
   ]
  },
  {
   "cell_type": "code",
   "execution_count": 2,
   "metadata": {},
   "outputs": [
    {
     "data": {
      "text/html": [
       "<table style=\"border: 2px solid white;\">\n",
       "<tr>\n",
       "<td style=\"vertical-align: top; border: 0px solid white\">\n",
       "<h3 style=\"text-align: left;\">Client</h3>\n",
       "<ul style=\"text-align: left; list-style: none; margin: 0; padding: 0;\">\n",
       "  <li><b>Scheduler: </b>tcp://127.0.0.1:4998</li>\n",
       "  <li><b>Dashboard: </b><a href='http://127.0.0.1:8787/status' target='_blank'>http://127.0.0.1:8787/status</a></li>\n",
       "</ul>\n",
       "</td>\n",
       "<td style=\"vertical-align: top; border: 0px solid white\">\n",
       "<h3 style=\"text-align: left;\">Cluster</h3>\n",
       "<ul style=\"text-align: left; list-style:none; margin: 0; padding: 0;\">\n",
       "  <li><b>Workers: </b>21</li>\n",
       "  <li><b>Cores: </b>21</li>\n",
       "  <li><b>Memory: </b>63.93 GiB</li>\n",
       "</ul>\n",
       "</td>\n",
       "</tr>\n",
       "</table>"
      ],
      "text/plain": [
       "<Client: 'tcp://127.0.0.1:4998' processes=21 threads=21, memory=63.93 GiB>"
      ]
     },
     "execution_count": 2,
     "metadata": {},
     "output_type": "execute_result"
    }
   ],
   "source": [
    "from distributed import Client, LocalCluster\n",
    "\n",
    "n_workers  = 21\n",
    "cl = Client(LocalCluster(n_workers=n_workers, threads_per_worker=1))\n",
    "cl"
   ]
  },
  {
   "cell_type": "code",
   "execution_count": 3,
   "metadata": {},
   "outputs": [],
   "source": [
    "def generate_data3(agent_dict, agent_dict_md, n_points):\n",
    "    try:\n",
    "        import sys\n",
    "        sys.path.append(r'D:\\neuro_missile\\src\\cydrone')\n",
    "        sys.path.append(r'D:\\neuro_missile\\src̚\\drone_3_3')\n",
    "        import numpy as np\n",
    "        from drone_sac import AgentParallel3layers, BufferParallel\n",
    "        from drone_gym import DroneGym3\n",
    "        \n",
    "#         import pickle\n",
    "#         with open('agent_dict.bin', 'rb') as f:\n",
    "#             agent_dict = pickle.load(f)\n",
    "        \n",
    "        env = DroneGym3.make()\n",
    "        agent = AgentParallel3layers(\n",
    "            input_dims=env.obs_max.shape, \n",
    "            n_actions=2, \n",
    "            action_space_high=env.action_space.high,\n",
    "            device_name='cpu')\n",
    "        agent.from_dict(agent_dict)\n",
    "        buffer = BufferParallel(agent)\n",
    "\n",
    "        agent_md = AgentParallel3layers(\n",
    "            input_dims=env.obs_missile_max.shape, \n",
    "            n_actions=2, \n",
    "            action_space_high=env.action_space.high,\n",
    "            device_name='cpu')\n",
    "        agent_md.from_dict(agent_dict_md)\n",
    "        buffer_md = BufferParallel(agent_md)\n",
    "        \n",
    "        env.record_history = False\n",
    "        env.antiflip = False\n",
    "        n = 0\n",
    "        while n < n_points:\n",
    "            observation, observation_md = env.reset()\n",
    "            done = False\n",
    "            done_md = False\n",
    "            while (not done) and (not done_md):\n",
    "                action = agent.choose_action(observation)\n",
    "                action_md = agent_md.choose_action(observation_md)\n",
    "                \n",
    "                (observation_, reward, done, info), (observation_md_, reward_md, done_md, info_md) = env.step(action, action_md)\n",
    "                \n",
    "                buffer.store_transition(observation, action, reward, observation_, done)\n",
    "                buffer_md.store_transition(observation_md, action_md, reward_md, observation_md_, done_md)\n",
    "                \n",
    "                observation = observation_\n",
    "                observation_md = observation_md_\n",
    "                n += 1\n",
    "                if n >= n_points * 10:\n",
    "                    return True, buffer.to_dict(), buffer_md.to_dict(), info\n",
    "            return True, buffer.to_dict(), buffer_md.to_dict(), info\n",
    "    except Exception as e:\n",
    "        return False, {'error': str(e)}, {}, {}"
   ]
  },
  {
   "cell_type": "code",
   "execution_count": 4,
   "metadata": {},
   "outputs": [],
   "source": [
    "env = DroneGym3.make()\n",
    "agent = AgentParallel3layers(input_dims=env.obs_max.shape, n_actions=2, action_space_high=env.action_space.high)\n",
    "buffer = BufferParallel(agent)\n",
    "\n",
    "agent_md = AgentParallel3layers(\n",
    "    input_dims=env.obs_missile_max.shape, \n",
    "    n_actions=2, \n",
    "    action_space_high=env.action_space.high)\n",
    "\n",
    "buffer_md = BufferParallel(agent_md)\n",
    "\n",
    "# import pickle\n",
    "# with open('agent_dict3.bin', 'rb') as f:\n",
    "#     agent_dict = pickle.load(f)\n",
    "# agent.from_dict(agent_dict)\n",
    "\n",
    "# import pickle\n",
    "# with open('agent_dict3_md.bin', 'rb') as f:\n",
    "#     agent_dict_md = pickle.load(f)\n",
    "# agent_md.from_dict(agent_dict_md)"
   ]
  },
  {
   "cell_type": "code",
   "execution_count": 5,
   "metadata": {},
   "outputs": [],
   "source": [
    "def run_parallel_sim(n):\n",
    "    d = agent.to_dict()\n",
    "    d_md = agent_md.to_dict()\n",
    "    dicts_futs = cl.scatter([d] * n_workers)\n",
    "    dicts_futs_md = cl.scatter([d_md] * n_workers)\n",
    "    n_pointss = [n] * n_workers\n",
    "    futs = cl.map(generate_data3, dicts_futs, dicts_futs_md, n_pointss, pure=False)\n",
    "    return futs \n",
    "\n",
    "\n",
    "def extend_buff(futs):\n",
    "    results = cl.gather(futs)\n",
    "    for suc, points, points_md, info in results:\n",
    "        infos.append(info)\n",
    "        if suc:\n",
    "            buffer.extend_from_dict(points)\n",
    "            buffer_md.extend_from_dict(points_md)\n",
    "            \n",
    "def learn(batch_size, refresh=True):\n",
    "    if refresh:\n",
    "        buffer.refresh()\n",
    "        buffer_md.refresh()\n",
    "    losses = []\n",
    "    losses_md = []\n",
    "    for batch, batch_md in zip(buffer.iter_batches(batch_size), buffer_md.iter_batches(batch_size)):\n",
    "        losses.append(agent.learn(*batch))\n",
    "        losses_md.append(agent_md.learn(*batch_md))\n",
    "    return np.mean(losses, axis=0), np.mean(losses_md, axis=0)\n",
    "\n",
    "def plot_losses(ax_value, ax_actor, ax_critic, losses, losses_md):\n",
    "    ax_value.plot([val for val, act, crit in losses], label='drone value')\n",
    "    ax_actor.plot([act for val, act, crit in losses], label='drone actor')\n",
    "    ax_critic.plot([crit for val, act, crit in losses], label='drone critic')\n",
    "    \n",
    "    ax_value.plot([val for val, act, crit in losses_md], label='drone_missile value')\n",
    "    ax_actor.plot([act for val, act, crit in losses_md], label='drone_missile actor')\n",
    "    ax_critic.plot([crit for val, act, crit in losses_md], label='drone_missile critic')\n",
    "    \n",
    "    ax_value.grid()\n",
    "    ax_actor.grid()\n",
    "    ax_critic.grid()\n",
    "    \n",
    "    ax_value.legend()\n",
    "    ax_actor.legend()\n",
    "    ax_critic.legend()"
   ]
  },
  {
   "cell_type": "code",
   "execution_count": 6,
   "metadata": {},
   "outputs": [],
   "source": [
    "infos = []"
   ]
  },
  {
   "cell_type": "code",
   "execution_count": 7,
   "metadata": {},
   "outputs": [
    {
     "data": {
      "text/plain": [
       "(array([1.5665889e+00, 1.5714519e-01, 1.7936858e+02], dtype=float32),\n",
       " array([ 2.2844265e+00, -2.6874888e-01,  2.8784512e+02], dtype=float32))"
      ]
     },
     "execution_count": 7,
     "metadata": {},
     "output_type": "execute_result"
    }
   ],
   "source": [
    "futs = run_parallel_sim(2000)\n",
    "extend_buff(futs)\n",
    "learn(256)"
   ]
  },
  {
   "cell_type": "code",
   "execution_count": 8,
   "metadata": {},
   "outputs": [],
   "source": [
    "losses = []\n",
    "losses_md = []"
   ]
  },
  {
   "cell_type": "code",
   "execution_count": 15,
   "metadata": {},
   "outputs": [
    {
     "data": {
      "application/vnd.jupyter.widget-view+json": {
       "model_id": "b8a0b14aa9b1413f9a040c7ac41f4adf",
       "version_major": 2,
       "version_minor": 0
      },
      "text/plain": [
       "  0%|          | 0/3000 [00:00<?, ?it/s]"
      ]
     },
     "metadata": {},
     "output_type": "display_data"
    },
    {
     "ename": "KeyboardInterrupt",
     "evalue": "",
     "output_type": "error",
     "traceback": [
      "\u001b[1;31m---------------------------------------------------------------------------\u001b[0m",
      "\u001b[1;31mKeyboardInterrupt\u001b[0m                         Traceback (most recent call last)",
      "\u001b[1;32m<ipython-input-15-4ac027154111>\u001b[0m in \u001b[0;36m<module>\u001b[1;34m\u001b[0m\n\u001b[0;32m     10\u001b[0m         \u001b[0malpha\u001b[0m\u001b[1;33m,\u001b[0m\u001b[0mbeta\u001b[0m\u001b[1;33m=\u001b[0m\u001b[0mnp\u001b[0m\u001b[1;33m.\u001b[0m\u001b[0mrandom\u001b[0m\u001b[1;33m.\u001b[0m\u001b[0muniform\u001b[0m\u001b[1;33m(\u001b[0m\u001b[1;36m0.00001\u001b[0m\u001b[1;33m,\u001b[0m \u001b[1;36m0.0003\u001b[0m\u001b[1;33m,\u001b[0m \u001b[0msize\u001b[0m\u001b[1;33m=\u001b[0m\u001b[1;36m2\u001b[0m\u001b[1;33m)\u001b[0m\u001b[1;33m\u001b[0m\u001b[1;33m\u001b[0m\u001b[0m\n\u001b[0;32m     11\u001b[0m         \u001b[0magent_md\u001b[0m\u001b[1;33m.\u001b[0m\u001b[0mchange_lr\u001b[0m\u001b[1;33m(\u001b[0m\u001b[0malpha\u001b[0m\u001b[1;33m=\u001b[0m\u001b[0malpha\u001b[0m\u001b[1;33m,\u001b[0m \u001b[0mbeta\u001b[0m\u001b[1;33m=\u001b[0m\u001b[0mbeta\u001b[0m\u001b[1;33m)\u001b[0m\u001b[1;33m\u001b[0m\u001b[1;33m\u001b[0m\u001b[0m\n\u001b[1;32m---> 12\u001b[1;33m         \u001b[0mlos\u001b[0m\u001b[1;33m,\u001b[0m \u001b[0mlos_md\u001b[0m \u001b[1;33m=\u001b[0m \u001b[0mlearn\u001b[0m\u001b[1;33m(\u001b[0m\u001b[1;36m512\u001b[0m\u001b[1;33m*\u001b[0m\u001b[1;36m4\u001b[0m\u001b[1;33m,\u001b[0m \u001b[1;32mFalse\u001b[0m\u001b[1;33m)\u001b[0m\u001b[1;33m\u001b[0m\u001b[1;33m\u001b[0m\u001b[0m\n\u001b[0m\u001b[0;32m     13\u001b[0m         \u001b[0mlosses\u001b[0m\u001b[1;33m.\u001b[0m\u001b[0mappend\u001b[0m\u001b[1;33m(\u001b[0m\u001b[0mlos\u001b[0m\u001b[1;33m)\u001b[0m\u001b[1;33m\u001b[0m\u001b[1;33m\u001b[0m\u001b[0m\n\u001b[0;32m     14\u001b[0m         \u001b[0mlosses_md\u001b[0m\u001b[1;33m.\u001b[0m\u001b[0mappend\u001b[0m\u001b[1;33m(\u001b[0m\u001b[0mlos_md\u001b[0m\u001b[1;33m)\u001b[0m\u001b[1;33m\u001b[0m\u001b[1;33m\u001b[0m\u001b[0m\n",
      "\u001b[1;32m<ipython-input-5-76bdd9b9f375>\u001b[0m in \u001b[0;36mlearn\u001b[1;34m(batch_size, refresh)\u001b[0m\n\u001b[0;32m     25\u001b[0m     \u001b[1;32mfor\u001b[0m \u001b[0mbatch\u001b[0m\u001b[1;33m,\u001b[0m \u001b[0mbatch_md\u001b[0m \u001b[1;32min\u001b[0m \u001b[0mzip\u001b[0m\u001b[1;33m(\u001b[0m\u001b[0mbuffer\u001b[0m\u001b[1;33m.\u001b[0m\u001b[0miter_batches\u001b[0m\u001b[1;33m(\u001b[0m\u001b[0mbatch_size\u001b[0m\u001b[1;33m)\u001b[0m\u001b[1;33m,\u001b[0m \u001b[0mbuffer_md\u001b[0m\u001b[1;33m.\u001b[0m\u001b[0miter_batches\u001b[0m\u001b[1;33m(\u001b[0m\u001b[0mbatch_size\u001b[0m\u001b[1;33m)\u001b[0m\u001b[1;33m)\u001b[0m\u001b[1;33m:\u001b[0m\u001b[1;33m\u001b[0m\u001b[1;33m\u001b[0m\u001b[0m\n\u001b[0;32m     26\u001b[0m         \u001b[0mlosses\u001b[0m\u001b[1;33m.\u001b[0m\u001b[0mappend\u001b[0m\u001b[1;33m(\u001b[0m\u001b[0magent\u001b[0m\u001b[1;33m.\u001b[0m\u001b[0mlearn\u001b[0m\u001b[1;33m(\u001b[0m\u001b[1;33m*\u001b[0m\u001b[0mbatch\u001b[0m\u001b[1;33m)\u001b[0m\u001b[1;33m)\u001b[0m\u001b[1;33m\u001b[0m\u001b[1;33m\u001b[0m\u001b[0m\n\u001b[1;32m---> 27\u001b[1;33m         \u001b[0mlosses_md\u001b[0m\u001b[1;33m.\u001b[0m\u001b[0mappend\u001b[0m\u001b[1;33m(\u001b[0m\u001b[0magent_md\u001b[0m\u001b[1;33m.\u001b[0m\u001b[0mlearn\u001b[0m\u001b[1;33m(\u001b[0m\u001b[1;33m*\u001b[0m\u001b[0mbatch_md\u001b[0m\u001b[1;33m)\u001b[0m\u001b[1;33m)\u001b[0m\u001b[1;33m\u001b[0m\u001b[1;33m\u001b[0m\u001b[0m\n\u001b[0m\u001b[0;32m     28\u001b[0m     \u001b[1;32mreturn\u001b[0m \u001b[0mnp\u001b[0m\u001b[1;33m.\u001b[0m\u001b[0mmean\u001b[0m\u001b[1;33m(\u001b[0m\u001b[0mlosses\u001b[0m\u001b[1;33m,\u001b[0m \u001b[0maxis\u001b[0m\u001b[1;33m=\u001b[0m\u001b[1;36m0\u001b[0m\u001b[1;33m)\u001b[0m\u001b[1;33m,\u001b[0m \u001b[0mnp\u001b[0m\u001b[1;33m.\u001b[0m\u001b[0mmean\u001b[0m\u001b[1;33m(\u001b[0m\u001b[0mlosses_md\u001b[0m\u001b[1;33m,\u001b[0m \u001b[0maxis\u001b[0m\u001b[1;33m=\u001b[0m\u001b[1;36m0\u001b[0m\u001b[1;33m)\u001b[0m\u001b[1;33m\u001b[0m\u001b[1;33m\u001b[0m\u001b[0m\n\u001b[0;32m     29\u001b[0m \u001b[1;33m\u001b[0m\u001b[0m\n",
      "\u001b[1;32mD:\\neuro_missile\\src\\drone_3_3\\drone_sac.py\u001b[0m in \u001b[0;36mlearn\u001b[1;34m(self, state, action, reward, new_state, done)\u001b[0m\n\u001b[0;32m    111\u001b[0m         \u001b[0mvalue_target\u001b[0m \u001b[1;33m=\u001b[0m \u001b[0mcritic_value\u001b[0m \u001b[1;33m-\u001b[0m \u001b[0mlog_probs\u001b[0m\u001b[1;33m\u001b[0m\u001b[1;33m\u001b[0m\u001b[0m\n\u001b[0;32m    112\u001b[0m         \u001b[0mvalue_loss\u001b[0m \u001b[1;33m=\u001b[0m \u001b[1;36m0.5\u001b[0m \u001b[1;33m*\u001b[0m \u001b[0mF\u001b[0m\u001b[1;33m.\u001b[0m\u001b[0mmse_loss\u001b[0m\u001b[1;33m(\u001b[0m\u001b[0mvalue\u001b[0m\u001b[1;33m,\u001b[0m \u001b[0mvalue_target\u001b[0m\u001b[1;33m)\u001b[0m\u001b[1;33m\u001b[0m\u001b[1;33m\u001b[0m\u001b[0m\n\u001b[1;32m--> 113\u001b[1;33m         \u001b[0mvalue_loss\u001b[0m\u001b[1;33m.\u001b[0m\u001b[0mbackward\u001b[0m\u001b[1;33m(\u001b[0m\u001b[0mretain_graph\u001b[0m\u001b[1;33m=\u001b[0m\u001b[1;32mTrue\u001b[0m\u001b[1;33m)\u001b[0m\u001b[1;33m\u001b[0m\u001b[1;33m\u001b[0m\u001b[0m\n\u001b[0m\u001b[0;32m    114\u001b[0m         \u001b[0mself\u001b[0m\u001b[1;33m.\u001b[0m\u001b[0mvalue\u001b[0m\u001b[1;33m.\u001b[0m\u001b[0moptimizer\u001b[0m\u001b[1;33m.\u001b[0m\u001b[0mstep\u001b[0m\u001b[1;33m(\u001b[0m\u001b[1;33m)\u001b[0m\u001b[1;33m\u001b[0m\u001b[1;33m\u001b[0m\u001b[0m\n\u001b[0;32m    115\u001b[0m \u001b[1;33m\u001b[0m\u001b[0m\n",
      "\u001b[1;32mD:\\neuro_missile\\env_neuro_missile\\lib\\site-packages\\torch\\tensor.py\u001b[0m in \u001b[0;36mbackward\u001b[1;34m(self, gradient, retain_graph, create_graph, inputs)\u001b[0m\n\u001b[0;32m    243\u001b[0m                 \u001b[0mcreate_graph\u001b[0m\u001b[1;33m=\u001b[0m\u001b[0mcreate_graph\u001b[0m\u001b[1;33m,\u001b[0m\u001b[1;33m\u001b[0m\u001b[1;33m\u001b[0m\u001b[0m\n\u001b[0;32m    244\u001b[0m                 inputs=inputs)\n\u001b[1;32m--> 245\u001b[1;33m         \u001b[0mtorch\u001b[0m\u001b[1;33m.\u001b[0m\u001b[0mautograd\u001b[0m\u001b[1;33m.\u001b[0m\u001b[0mbackward\u001b[0m\u001b[1;33m(\u001b[0m\u001b[0mself\u001b[0m\u001b[1;33m,\u001b[0m \u001b[0mgradient\u001b[0m\u001b[1;33m,\u001b[0m \u001b[0mretain_graph\u001b[0m\u001b[1;33m,\u001b[0m \u001b[0mcreate_graph\u001b[0m\u001b[1;33m,\u001b[0m \u001b[0minputs\u001b[0m\u001b[1;33m=\u001b[0m\u001b[0minputs\u001b[0m\u001b[1;33m)\u001b[0m\u001b[1;33m\u001b[0m\u001b[1;33m\u001b[0m\u001b[0m\n\u001b[0m\u001b[0;32m    246\u001b[0m \u001b[1;33m\u001b[0m\u001b[0m\n\u001b[0;32m    247\u001b[0m     \u001b[1;32mdef\u001b[0m \u001b[0mregister_hook\u001b[0m\u001b[1;33m(\u001b[0m\u001b[0mself\u001b[0m\u001b[1;33m,\u001b[0m \u001b[0mhook\u001b[0m\u001b[1;33m)\u001b[0m\u001b[1;33m:\u001b[0m\u001b[1;33m\u001b[0m\u001b[1;33m\u001b[0m\u001b[0m\n",
      "\u001b[1;32mD:\\neuro_missile\\env_neuro_missile\\lib\\site-packages\\torch\\autograd\\__init__.py\u001b[0m in \u001b[0;36mbackward\u001b[1;34m(tensors, grad_tensors, retain_graph, create_graph, grad_variables, inputs)\u001b[0m\n\u001b[0;32m    143\u001b[0m         \u001b[0mretain_graph\u001b[0m \u001b[1;33m=\u001b[0m \u001b[0mcreate_graph\u001b[0m\u001b[1;33m\u001b[0m\u001b[1;33m\u001b[0m\u001b[0m\n\u001b[0;32m    144\u001b[0m \u001b[1;33m\u001b[0m\u001b[0m\n\u001b[1;32m--> 145\u001b[1;33m     Variable._execution_engine.run_backward(\n\u001b[0m\u001b[0;32m    146\u001b[0m         \u001b[0mtensors\u001b[0m\u001b[1;33m,\u001b[0m \u001b[0mgrad_tensors_\u001b[0m\u001b[1;33m,\u001b[0m \u001b[0mretain_graph\u001b[0m\u001b[1;33m,\u001b[0m \u001b[0mcreate_graph\u001b[0m\u001b[1;33m,\u001b[0m \u001b[0minputs\u001b[0m\u001b[1;33m,\u001b[0m\u001b[1;33m\u001b[0m\u001b[1;33m\u001b[0m\u001b[0m\n\u001b[0;32m    147\u001b[0m         allow_unreachable=True, accumulate_grad=True)  # allow_unreachable flag\n",
      "\u001b[1;31mKeyboardInterrupt\u001b[0m: "
     ]
    }
   ],
   "source": [
    "for i in tqdm(range(3000)):\n",
    "    futs = run_parallel_sim(2000)\n",
    "    buffer.refresh()\n",
    "    buffer_md.refresh()\n",
    "    first = True\n",
    "    while (not all([f.status in {'finished', 'error'} for f in futs])) or first:\n",
    "        first = False\n",
    "        alpha,beta=np.random.uniform(0.00001, 0.0003, size=2)\n",
    "        agent.change_lr(alpha=alpha, beta=beta)\n",
    "        alpha,beta=np.random.uniform(0.00001, 0.0003, size=2)\n",
    "        agent_md.change_lr(alpha=alpha, beta=beta)\n",
    "        los, los_md = learn(512*4, False)\n",
    "        losses.append(los)\n",
    "        losses_md.append(los_md)\n",
    "    extend_buff(futs)   \n",
    "    buffer.trim_oldest(1500000, False)\n",
    "    buffer_md.trim_oldest(1500000, False) \n",
    "    \n",
    "buffer.refresh(), buffer_md.refresh()"
   ]
  },
  {
   "cell_type": "code",
   "execution_count": null,
   "metadata": {},
   "outputs": [],
   "source": [
    "wi"
   ]
  },
  {
   "cell_type": "code",
   "execution_count": 21,
   "metadata": {},
   "outputs": [
    {
     "name": "stdout",
     "output_type": "stream",
     "text": [
      "1437182\n"
     ]
    }
   ],
   "source": [
    "print(buffer.refresh())"
   ]
  },
  {
   "cell_type": "code",
   "execution_count": 99,
   "metadata": {},
   "outputs": [],
   "source": [
    "agent.change_lr(alpha=0.0001, beta=0.0001)"
   ]
  },
  {
   "cell_type": "code",
   "execution_count": 14,
   "metadata": {},
   "outputs": [
    {
     "name": "stdout",
     "output_type": "stream",
     "text": [
      "1061974\n"
     ]
    },
    {
     "data": {
      "application/vnd.jupyter.widget-view+json": {
       "model_id": "b1b251cf95b9498598dead9aa759d060",
       "version_major": 2,
       "version_minor": 0
      },
      "text/plain": [
       "  0%|          | 0/30 [00:00<?, ?it/s]"
      ]
     },
     "metadata": {},
     "output_type": "display_data"
    },
    {
     "ename": "KeyboardInterrupt",
     "evalue": "",
     "output_type": "error",
     "traceback": [
      "\u001b[1;31m---------------------------------------------------------------------------\u001b[0m",
      "\u001b[1;31mKeyboardInterrupt\u001b[0m                         Traceback (most recent call last)",
      "\u001b[1;32m<ipython-input-14-60c85e415db0>\u001b[0m in \u001b[0;36m<module>\u001b[1;34m\u001b[0m\n\u001b[0;32m      1\u001b[0m \u001b[0mprint\u001b[0m\u001b[1;33m(\u001b[0m\u001b[0mbuffer\u001b[0m\u001b[1;33m.\u001b[0m\u001b[0mrefresh\u001b[0m\u001b[1;33m(\u001b[0m\u001b[1;33m)\u001b[0m\u001b[1;33m)\u001b[0m\u001b[1;33m\u001b[0m\u001b[1;33m\u001b[0m\u001b[0m\n\u001b[0;32m      2\u001b[0m \u001b[1;32mfor\u001b[0m \u001b[0mi\u001b[0m \u001b[1;32min\u001b[0m \u001b[0mtqdm\u001b[0m\u001b[1;33m(\u001b[0m\u001b[0mrange\u001b[0m\u001b[1;33m(\u001b[0m\u001b[1;36m30\u001b[0m\u001b[1;33m)\u001b[0m\u001b[1;33m)\u001b[0m\u001b[1;33m:\u001b[0m\u001b[1;33m\u001b[0m\u001b[1;33m\u001b[0m\u001b[0m\n\u001b[1;32m----> 3\u001b[1;33m     \u001b[0mlosses\u001b[0m\u001b[1;33m.\u001b[0m\u001b[0mappend\u001b[0m\u001b[1;33m(\u001b[0m\u001b[0mlearn\u001b[0m\u001b[1;33m(\u001b[0m\u001b[1;36m2048\u001b[0m\u001b[1;33m,\u001b[0m \u001b[1;32mFalse\u001b[0m\u001b[1;33m)\u001b[0m\u001b[1;33m)\u001b[0m\u001b[1;33m\u001b[0m\u001b[1;33m\u001b[0m\u001b[0m\n\u001b[0m",
      "\u001b[1;32m<ipython-input-5-d33d0fc8b087>\u001b[0m in \u001b[0;36mlearn\u001b[1;34m(batch_size, refresh)\u001b[0m\n\u001b[0;32m     26\u001b[0m     \u001b[0mlosses\u001b[0m \u001b[1;33m=\u001b[0m \u001b[1;33m[\u001b[0m\u001b[1;33m]\u001b[0m\u001b[1;33m\u001b[0m\u001b[1;33m\u001b[0m\u001b[0m\n\u001b[0;32m     27\u001b[0m     \u001b[1;32mfor\u001b[0m \u001b[0mbatch\u001b[0m \u001b[1;32min\u001b[0m \u001b[0mbuffer\u001b[0m\u001b[1;33m.\u001b[0m\u001b[0miter_batches\u001b[0m\u001b[1;33m(\u001b[0m\u001b[0mbatch_size\u001b[0m\u001b[1;33m)\u001b[0m\u001b[1;33m:\u001b[0m\u001b[1;33m\u001b[0m\u001b[1;33m\u001b[0m\u001b[0m\n\u001b[1;32m---> 28\u001b[1;33m         \u001b[0mlosses\u001b[0m\u001b[1;33m.\u001b[0m\u001b[0mappend\u001b[0m\u001b[1;33m(\u001b[0m\u001b[0magent\u001b[0m\u001b[1;33m.\u001b[0m\u001b[0mlearn\u001b[0m\u001b[1;33m(\u001b[0m\u001b[1;33m*\u001b[0m\u001b[0mbatch\u001b[0m\u001b[1;33m)\u001b[0m\u001b[1;33m)\u001b[0m\u001b[1;33m\u001b[0m\u001b[1;33m\u001b[0m\u001b[0m\n\u001b[0m\u001b[0;32m     29\u001b[0m     \u001b[1;32mreturn\u001b[0m \u001b[0mnp\u001b[0m\u001b[1;33m.\u001b[0m\u001b[0mmean\u001b[0m\u001b[1;33m(\u001b[0m\u001b[0mlosses\u001b[0m\u001b[1;33m,\u001b[0m \u001b[0maxis\u001b[0m\u001b[1;33m=\u001b[0m\u001b[1;36m0\u001b[0m\u001b[1;33m)\u001b[0m\u001b[1;33m\u001b[0m\u001b[1;33m\u001b[0m\u001b[0m\n\u001b[0;32m     30\u001b[0m \u001b[1;33m\u001b[0m\u001b[0m\n",
      "\u001b[1;32mD:\\neuro_missile\\src\\drone_sac.py\u001b[0m in \u001b[0;36mlearn\u001b[1;34m(self, state, action, reward, new_state, done)\u001b[0m\n\u001b[0;32m    241\u001b[0m         \u001b[0mself\u001b[0m\u001b[1;33m.\u001b[0m\u001b[0mvalue\u001b[0m\u001b[1;33m.\u001b[0m\u001b[0moptimizer\u001b[0m\u001b[1;33m.\u001b[0m\u001b[0mstep\u001b[0m\u001b[1;33m(\u001b[0m\u001b[1;33m)\u001b[0m\u001b[1;33m\u001b[0m\u001b[1;33m\u001b[0m\u001b[0m\n\u001b[0;32m    242\u001b[0m \u001b[1;33m\u001b[0m\u001b[0m\n\u001b[1;32m--> 243\u001b[1;33m         \u001b[0mactions\u001b[0m\u001b[1;33m,\u001b[0m \u001b[0mlog_probs\u001b[0m \u001b[1;33m=\u001b[0m \u001b[0mself\u001b[0m\u001b[1;33m.\u001b[0m\u001b[0mactor\u001b[0m\u001b[1;33m.\u001b[0m\u001b[0msample_normal\u001b[0m\u001b[1;33m(\u001b[0m\u001b[0mstate\u001b[0m\u001b[1;33m,\u001b[0m \u001b[0mreparameterize\u001b[0m\u001b[1;33m=\u001b[0m\u001b[1;32mTrue\u001b[0m\u001b[1;33m)\u001b[0m\u001b[1;33m\u001b[0m\u001b[1;33m\u001b[0m\u001b[0m\n\u001b[0m\u001b[0;32m    244\u001b[0m         \u001b[0mlog_probs\u001b[0m \u001b[1;33m=\u001b[0m \u001b[0mlog_probs\u001b[0m\u001b[1;33m.\u001b[0m\u001b[0mview\u001b[0m\u001b[1;33m(\u001b[0m\u001b[1;33m-\u001b[0m\u001b[1;36m1\u001b[0m\u001b[1;33m)\u001b[0m\u001b[1;33m\u001b[0m\u001b[1;33m\u001b[0m\u001b[0m\n\u001b[0;32m    245\u001b[0m         \u001b[0mq1_new_policy\u001b[0m \u001b[1;33m=\u001b[0m \u001b[0mself\u001b[0m\u001b[1;33m.\u001b[0m\u001b[0mcritic_1\u001b[0m\u001b[1;33m.\u001b[0m\u001b[0mforward\u001b[0m\u001b[1;33m(\u001b[0m\u001b[0mstate\u001b[0m\u001b[1;33m,\u001b[0m \u001b[0mactions\u001b[0m\u001b[1;33m)\u001b[0m\u001b[1;33m\u001b[0m\u001b[1;33m\u001b[0m\u001b[0m\n",
      "\u001b[1;32mD:\\neuro_missile\\src\\sac_networks.py\u001b[0m in \u001b[0;36msample_normal\u001b[1;34m(self, state, reparameterize)\u001b[0m\n\u001b[0;32m    143\u001b[0m \u001b[1;33m\u001b[0m\u001b[0m\n\u001b[0;32m    144\u001b[0m         \u001b[0maction\u001b[0m \u001b[1;33m=\u001b[0m \u001b[0mT\u001b[0m\u001b[1;33m.\u001b[0m\u001b[0mtanh\u001b[0m\u001b[1;33m(\u001b[0m\u001b[0mactions\u001b[0m\u001b[1;33m)\u001b[0m\u001b[1;33m*\u001b[0m\u001b[0mT\u001b[0m\u001b[1;33m.\u001b[0m\u001b[0mtensor\u001b[0m\u001b[1;33m(\u001b[0m\u001b[0mself\u001b[0m\u001b[1;33m.\u001b[0m\u001b[0mmax_action\u001b[0m\u001b[1;33m,\u001b[0m \u001b[0mdevice\u001b[0m\u001b[1;33m=\u001b[0m\u001b[0mself\u001b[0m\u001b[1;33m.\u001b[0m\u001b[0mdevice\u001b[0m\u001b[1;33m)\u001b[0m\u001b[1;33m.\u001b[0m\u001b[0mto\u001b[0m\u001b[1;33m(\u001b[0m\u001b[0mself\u001b[0m\u001b[1;33m.\u001b[0m\u001b[0mdevice\u001b[0m\u001b[1;33m)\u001b[0m\u001b[1;33m\u001b[0m\u001b[1;33m\u001b[0m\u001b[0m\n\u001b[1;32m--> 145\u001b[1;33m         \u001b[0mlog_probs\u001b[0m \u001b[1;33m=\u001b[0m \u001b[0mprobabilities\u001b[0m\u001b[1;33m.\u001b[0m\u001b[0mlog_prob\u001b[0m\u001b[1;33m(\u001b[0m\u001b[0mactions\u001b[0m\u001b[1;33m)\u001b[0m\u001b[1;33m\u001b[0m\u001b[1;33m\u001b[0m\u001b[0m\n\u001b[0m\u001b[0;32m    146\u001b[0m         \u001b[0mlog_probs\u001b[0m \u001b[1;33m-=\u001b[0m \u001b[0mT\u001b[0m\u001b[1;33m.\u001b[0m\u001b[0mlog\u001b[0m\u001b[1;33m(\u001b[0m\u001b[1;36m1\u001b[0m\u001b[1;33m-\u001b[0m\u001b[0maction\u001b[0m\u001b[1;33m.\u001b[0m\u001b[0mpow\u001b[0m\u001b[1;33m(\u001b[0m\u001b[1;36m2\u001b[0m\u001b[1;33m)\u001b[0m\u001b[1;33m+\u001b[0m\u001b[0mself\u001b[0m\u001b[1;33m.\u001b[0m\u001b[0mreparam_noise\u001b[0m\u001b[1;33m)\u001b[0m\u001b[1;33m\u001b[0m\u001b[1;33m\u001b[0m\u001b[0m\n\u001b[0;32m    147\u001b[0m         \u001b[0mlog_probs\u001b[0m \u001b[1;33m=\u001b[0m \u001b[0mlog_probs\u001b[0m\u001b[1;33m.\u001b[0m\u001b[0msum\u001b[0m\u001b[1;33m(\u001b[0m\u001b[1;36m1\u001b[0m\u001b[1;33m,\u001b[0m \u001b[0mkeepdim\u001b[0m\u001b[1;33m=\u001b[0m\u001b[1;32mTrue\u001b[0m\u001b[1;33m)\u001b[0m\u001b[1;33m\u001b[0m\u001b[1;33m\u001b[0m\u001b[0m\n",
      "\u001b[1;32mD:\\neuro_missile\\env_neuro_missile\\lib\\site-packages\\torch\\distributions\\normal.py\u001b[0m in \u001b[0;36mlog_prob\u001b[1;34m(self, value)\u001b[0m\n\u001b[0;32m     75\u001b[0m         \u001b[0mvar\u001b[0m \u001b[1;33m=\u001b[0m \u001b[1;33m(\u001b[0m\u001b[0mself\u001b[0m\u001b[1;33m.\u001b[0m\u001b[0mscale\u001b[0m \u001b[1;33m**\u001b[0m \u001b[1;36m2\u001b[0m\u001b[1;33m)\u001b[0m\u001b[1;33m\u001b[0m\u001b[1;33m\u001b[0m\u001b[0m\n\u001b[0;32m     76\u001b[0m         \u001b[0mlog_scale\u001b[0m \u001b[1;33m=\u001b[0m \u001b[0mmath\u001b[0m\u001b[1;33m.\u001b[0m\u001b[0mlog\u001b[0m\u001b[1;33m(\u001b[0m\u001b[0mself\u001b[0m\u001b[1;33m.\u001b[0m\u001b[0mscale\u001b[0m\u001b[1;33m)\u001b[0m \u001b[1;32mif\u001b[0m \u001b[0misinstance\u001b[0m\u001b[1;33m(\u001b[0m\u001b[0mself\u001b[0m\u001b[1;33m.\u001b[0m\u001b[0mscale\u001b[0m\u001b[1;33m,\u001b[0m \u001b[0mReal\u001b[0m\u001b[1;33m)\u001b[0m \u001b[1;32melse\u001b[0m \u001b[0mself\u001b[0m\u001b[1;33m.\u001b[0m\u001b[0mscale\u001b[0m\u001b[1;33m.\u001b[0m\u001b[0mlog\u001b[0m\u001b[1;33m(\u001b[0m\u001b[1;33m)\u001b[0m\u001b[1;33m\u001b[0m\u001b[1;33m\u001b[0m\u001b[0m\n\u001b[1;32m---> 77\u001b[1;33m         \u001b[1;32mreturn\u001b[0m \u001b[1;33m-\u001b[0m\u001b[1;33m(\u001b[0m\u001b[1;33m(\u001b[0m\u001b[0mvalue\u001b[0m \u001b[1;33m-\u001b[0m \u001b[0mself\u001b[0m\u001b[1;33m.\u001b[0m\u001b[0mloc\u001b[0m\u001b[1;33m)\u001b[0m \u001b[1;33m**\u001b[0m \u001b[1;36m2\u001b[0m\u001b[1;33m)\u001b[0m \u001b[1;33m/\u001b[0m \u001b[1;33m(\u001b[0m\u001b[1;36m2\u001b[0m \u001b[1;33m*\u001b[0m \u001b[0mvar\u001b[0m\u001b[1;33m)\u001b[0m \u001b[1;33m-\u001b[0m \u001b[0mlog_scale\u001b[0m \u001b[1;33m-\u001b[0m \u001b[0mmath\u001b[0m\u001b[1;33m.\u001b[0m\u001b[0mlog\u001b[0m\u001b[1;33m(\u001b[0m\u001b[0mmath\u001b[0m\u001b[1;33m.\u001b[0m\u001b[0msqrt\u001b[0m\u001b[1;33m(\u001b[0m\u001b[1;36m2\u001b[0m \u001b[1;33m*\u001b[0m \u001b[0mmath\u001b[0m\u001b[1;33m.\u001b[0m\u001b[0mpi\u001b[0m\u001b[1;33m)\u001b[0m\u001b[1;33m)\u001b[0m\u001b[1;33m\u001b[0m\u001b[1;33m\u001b[0m\u001b[0m\n\u001b[0m\u001b[0;32m     78\u001b[0m \u001b[1;33m\u001b[0m\u001b[0m\n\u001b[0;32m     79\u001b[0m     \u001b[1;32mdef\u001b[0m \u001b[0mcdf\u001b[0m\u001b[1;33m(\u001b[0m\u001b[0mself\u001b[0m\u001b[1;33m,\u001b[0m \u001b[0mvalue\u001b[0m\u001b[1;33m)\u001b[0m\u001b[1;33m:\u001b[0m\u001b[1;33m\u001b[0m\u001b[1;33m\u001b[0m\u001b[0m\n",
      "\u001b[1;31mKeyboardInterrupt\u001b[0m: "
     ]
    }
   ],
   "source": [
    "print(buffer.refresh())\n",
    "for i in tqdm(range(30)):\n",
    "    losses.append(learn(2048, False))"
   ]
  },
  {
   "cell_type": "code",
   "execution_count": 16,
   "metadata": {},
   "outputs": [
    {
     "data": {
      "image/png": "[encoded data removed]",
      "text/plain": [
       "<Figure size 648x648 with 3 Axes>"
      ]
     },
     "metadata": {
      "needs_background": "light"
     },
     "output_type": "display_data"
    }
   ],
   "source": [
    "fig, (ax1, ax2, ax3) = plt.subplots(3,1,figsize=(9,9))\n",
    "plot_losses(ax1, ax2, ax3, losses[:], losses_md[:])\n",
    "plt.show()"
   ]
  },
  {
   "cell_type": "code",
   "execution_count": 12,
   "metadata": {},
   "outputs": [
    {
     "data": {
      "text/plain": [
       "0.010178117048346057"
      ]
     },
     "execution_count": 12,
     "metadata": {},
     "output_type": "execute_result"
    }
   ],
   "source": [
    "successes = [i for i in infos if 'result' in i and i['result'] == 'success']\n",
    "len(successes)/len(infos)"
   ]
  },
  {
   "cell_type": "code",
   "execution_count": 18,
   "metadata": {},
   "outputs": [
    {
     "data": {
      "text/plain": [
       "0.015736766809728183"
      ]
     },
     "execution_count": 18,
     "metadata": {},
     "output_type": "execute_result"
    }
   ],
   "source": [
    "successes = [i for i in infos if 'result_md' in i and i['result_md'] == 'success']\n",
    "len(successes)/len(infos)"
   ]
  },
  {
   "cell_type": "code",
   "execution_count": 17,
   "metadata": {},
   "outputs": [
    {
     "data": {
      "text/plain": [
       "[{'result': 'success',\n",
       "  'final_reward': 17.32219604637113,\n",
       "  'pos_diff': 0.06956177132813948,\n",
       "  'dir_diff': 0.05118104277608648,\n",
       "  'vel_diff': 1.5370449415538705},\n",
       " {'result': 'success',\n",
       "  'final_reward': 18.991614543336695,\n",
       "  'pos_diff': 0.21963163761388532,\n",
       "  'dir_diff': 0.0038432724805319562,\n",
       "  'vel_diff': 0.44550545309561074},\n",
       " {'result': 'success',\n",
       "  'final_reward': 2.5452523925734756,\n",
       "  'pos_diff': 0.8755664558585501,\n",
       "  'dir_diff': 1.403027171599673,\n",
       "  'vel_diff': 3.5308897350677046},\n",
       " {'result': 'success',\n",
       "  'final_reward': 4.857436212347979,\n",
       "  'pos_diff': 0.9594826579266248,\n",
       "  'dir_diff': 1.6065985004752878,\n",
       "  'vel_diff': 1.656078997821229},\n",
       " {'result': 'success',\n",
       "  'final_reward': 5.800876598988582,\n",
       "  'pos_diff': 0.97053481565951,\n",
       "  'dir_diff': 1.3707671728818582,\n",
       "  'vel_diff': 1.7463067291522887},\n",
       " {'result': 'success',\n",
       "  'final_reward': 6.755300833082975,\n",
       "  'pos_diff': 0.9567211743200785,\n",
       "  'dir_diff': 1.1278732809991805,\n",
       "  'vel_diff': 1.9108634451603652},\n",
       " {'result': 'success',\n",
       "  'final_reward': 19.845745702195043,\n",
       "  'pos_diff': 0.056590276486487213,\n",
       "  'dir_diff': 0.044332493097396175,\n",
       "  'vel_diff': 0.32482022494277146},\n",
       " {'result': 'success',\n",
       "  'final_reward': 13.297960654338416,\n",
       "  'pos_diff': 0.18492441430874848,\n",
       "  'dir_diff': 0.25245859889043976,\n",
       "  'vel_diff': 2.757562139832821},\n",
       " {'result': 'success',\n",
       "  'final_reward': 14.748695604392882,\n",
       "  'pos_diff': 0.26172154735000286,\n",
       "  'dir_diff': 0.5399457419144391,\n",
       "  'vel_diff': 1.1214839746424548},\n",
       " {'result': 'success',\n",
       "  'final_reward': 19.644282965130074,\n",
       "  'pos_diff': 0.04765477688353511,\n",
       "  'dir_diff': 0.04817863694816804,\n",
       "  'vel_diff': 0.4382749828557042},\n",
       " {'result': 'success',\n",
       "  'final_reward': 8.032387050108195,\n",
       "  'pos_diff': 0.9887277195414638,\n",
       "  'dir_diff': 1.1607957279356282,\n",
       "  'vel_diff': 1.1099978562531723},\n",
       " {'result': 'success',\n",
       "  'final_reward': 0.4123883245153106,\n",
       "  'pos_diff': 0.9512703159234616,\n",
       "  'dir_diff': 1.7534919081985927,\n",
       "  'vel_diff': 3.531900277437209},\n",
       " {'result': 'success',\n",
       "  'final_reward': 17.663520881863064,\n",
       "  'pos_diff': 0.41220964259252035,\n",
       "  'dir_diff': 0.010277380571485972,\n",
       "  'vel_diff': 0.6120220011584508},\n",
       " {'result': 'success',\n",
       "  'final_reward': 13.597896455124115,\n",
       "  'pos_diff': 0.110124667463857,\n",
       "  'dir_diff': 0.22818388187328376,\n",
       "  'vel_diff': 2.855280399095091},\n",
       " {'result': 'success',\n",
       "  'final_reward': 12.504480854846655,\n",
       "  'pos_diff': 0.7302500995973518,\n",
       "  'dir_diff': 0.5333388596789305,\n",
       "  'vel_diff': 1.0887871743859667},\n",
       " {'result': 'success',\n",
       "  'final_reward': 14.441964688857643,\n",
       "  'pos_diff': 0.8470989357727002,\n",
       "  'dir_diff': 0.17383106875123522,\n",
       "  'vel_diff': 0.7266926442613395},\n",
       " {'result': 'success',\n",
       "  'final_reward': -5.509924658934617,\n",
       "  'pos_diff': 0.8457920537188607,\n",
       "  'dir_diff': 0.7476576617423103,\n",
       "  'vel_diff': 9.271338040814381},\n",
       " {'result': 'success',\n",
       "  'final_reward': 15.050208218285434,\n",
       "  'pos_diff': 0.22400014334417945,\n",
       "  'dir_diff': 0.5968636429443834,\n",
       "  'vel_diff': 0.9227364251358765},\n",
       " {'result': 'success',\n",
       "  'final_reward': 2.189413439948094,\n",
       "  'pos_diff': 0.9777661249589549,\n",
       "  'dir_diff': 1.9909090717627334,\n",
       "  'vel_diff': 1.9836052882217323},\n",
       " {'result': 'success',\n",
       "  'final_reward': 5.978537334048841,\n",
       "  'pos_diff': 0.9880545596773621,\n",
       "  'dir_diff': 1.2292833569525081,\n",
       "  'vel_diff': 1.9673865414009035},\n",
       " {'result': 'success',\n",
       "  'final_reward': 16.38043121776418,\n",
       "  'pos_diff': 0.25549062594745586,\n",
       "  'dir_diff': 0.01925212027420009,\n",
       "  'vel_diff': 1.622927525563771},\n",
       " {'result': 'success',\n",
       "  'final_reward': 18.880429207069508,\n",
       "  'pos_diff': 0.13366282382014413,\n",
       "  'dir_diff': 0.0046937257165453605,\n",
       "  'vel_diff': 0.713894022623523},\n",
       " {'result': 'success',\n",
       "  'final_reward': 10.815156254063794,\n",
       "  'pos_diff': 0.9743328820087958,\n",
       "  'dir_diff': 0.42065198310844043,\n",
       "  'vel_diff': 1.6049597101750128},\n",
       " {'result': 'success',\n",
       "  'final_reward': 10.08450135780038,\n",
       "  'pos_diff': 0.6959298782899779,\n",
       "  'dir_diff': 0.10169270844621148,\n",
       "  'vel_diff': 3.4636928542593357},\n",
       " {'result': 'success',\n",
       "  'final_reward': 3.694356685725684,\n",
       "  'pos_diff': 0.9672381219007355,\n",
       "  'dir_diff': 1.5676927440453827,\n",
       "  'vel_diff': 2.315494492271862},\n",
       " {'result': 'success',\n",
       "  'final_reward': 14.089831591407112,\n",
       "  'pos_diff': 0.3765134956779843,\n",
       "  'dir_diff': 0.5792636848510907,\n",
       "  'vel_diff': 1.0656412529737571},\n",
       " {'result': 'success',\n",
       "  'final_reward': 17.578928148474677,\n",
       "  'pos_diff': 0.0460853014437228,\n",
       "  'dir_diff': 0.3366221574595636,\n",
       "  'vel_diff': 0.7537672785044461},\n",
       " {'result': 'success',\n",
       "  'final_reward': 13.302353083979124,\n",
       "  'pos_diff': 0.8232298675192815,\n",
       "  'dir_diff': 0.34496606852284706,\n",
       "  'vel_diff': 0.9283336179051171},\n",
       " {'result': 'success',\n",
       "  'final_reward': 15.677896856586964,\n",
       "  'pos_diff': 0.2620592118659794,\n",
       "  'dir_diff': 0.41974452988823097,\n",
       "  'vel_diff': 0.956542217320992},\n",
       " {'result': 'success',\n",
       "  'final_reward': 11.295162313030467,\n",
       "  'pos_diff': 0.9995163484952413,\n",
       "  'dir_diff': 0.5712602972944136,\n",
       "  'vel_diff': 0.92547722901063},\n",
       " {'result': 'success',\n",
       "  'final_reward': 16.088841750591364,\n",
       "  'pos_diff': 0.6907901765140969,\n",
       "  'dir_diff': 0.05338952564234123,\n",
       "  'vel_diff': 0.5951298693132212},\n",
       " {'result': 'success',\n",
       "  'final_reward': 4.376524761652117,\n",
       "  'pos_diff': 0.9711422850900956,\n",
       "  'dir_diff': 1.5049811365565013,\n",
       "  'vel_diff': 2.121429065057449},\n",
       " {'result': 'success',\n",
       "  'final_reward': 13.421851955037132,\n",
       "  'pos_diff': 0.2713390073035463,\n",
       "  'dir_diff': 0.10160374013347184,\n",
       "  'vel_diff': 2.856717153888889},\n",
       " {'result': 'success',\n",
       "  'final_reward': 17.08861176477149,\n",
       "  'pos_diff': 0.48604383484775854,\n",
       "  'dir_diff': 0.1048096957402006,\n",
       "  'vel_diff': 0.47856029114435844},\n",
       " {'result': 'success',\n",
       "  'final_reward': 1.7631258584182952,\n",
       "  'pos_diff': 0.8150082500323508,\n",
       "  'dir_diff': 0.08840961452290541,\n",
       "  'vel_diff': 7.359892409402712},\n",
       " {'result': 'success',\n",
       "  'final_reward': 16.873702124007103,\n",
       "  'pos_diff': 0.07546177588920074,\n",
       "  'dir_diff': 0.38983012305605524,\n",
       "  'vel_diff': 0.8999191906333098},\n",
       " {'result': 'success',\n",
       "  'final_reward': 18.243799491992352,\n",
       "  'pos_diff': 0.3848424079172445,\n",
       "  'dir_diff': 0.012632520243341272,\n",
       "  'vel_diff': 0.384412933602359},\n",
       " {'result': 'success',\n",
       "  'final_reward': 15.07608598347401,\n",
       "  'pos_diff': 0.8071971092949831,\n",
       "  'dir_diff': 0.05564280694531598,\n",
       "  'vel_diff': 0.8048572176622467},\n",
       " {'result': 'success',\n",
       "  'final_reward': 14.52247326313908,\n",
       "  'pos_diff': 0.8024139696055548,\n",
       "  'dir_diff': 0.1938842260018575,\n",
       "  'vel_diff': 0.748017879411929},\n",
       " {'result': 'success',\n",
       "  'final_reward': 16.676299021125217,\n",
       "  'pos_diff': 0.6351413877228221,\n",
       "  'dir_diff': 0.06797120274247448,\n",
       "  'vel_diff': 0.40406901327415035},\n",
       " {'result': 'success',\n",
       "  'final_reward': 2.536530823976514,\n",
       "  'pos_diff': 0.9558297674823452,\n",
       "  'dir_diff': 1.9700262862661853,\n",
       "  'vel_diff': 1.9170944536404169},\n",
       " {'result': 'success',\n",
       "  'final_reward': 6.450884685325138,\n",
       "  'pos_diff': 0.9794160291496152,\n",
       "  'dir_diff': 1.278777657771561,\n",
       "  'vel_diff': 1.6290734400344902},\n",
       " {'result': 'success',\n",
       "  'final_reward': 11.732307042020487,\n",
       "  'pos_diff': 0.9376325538850802,\n",
       "  'dir_diff': 0.5572483270684728,\n",
       "  'vel_diff': 0.8966442766058739},\n",
       " {'result': 'success',\n",
       "  'final_reward': 16.235995162988786,\n",
       "  'pos_diff': 0.5748181334800847,\n",
       "  'dir_diff': 0.0898117699009392,\n",
       "  'vel_diff': 0.7204276600530468},\n",
       " {'result': 'success',\n",
       "  'final_reward': 5.644238510589756,\n",
       "  'pos_diff': 0.9891180289287785,\n",
       "  'dir_diff': 1.4242877408151453,\n",
       "  'vel_diff': 1.6443663203453125},\n",
       " {'result': 'success',\n",
       "  'final_reward': 5.671256280542945,\n",
       "  'pos_diff': 0.9769203318058945,\n",
       "  'dir_diff': 1.332710441676698,\n",
       "  'vel_diff': 1.8902949260220463},\n",
       " {'result': 'success',\n",
       "  'final_reward': -0.5121395161931908,\n",
       "  'pos_diff': 0.870006718942236,\n",
       "  'dir_diff': 1.2982815640561465,\n",
       "  'vel_diff': 5.335349050600639},\n",
       " {'result': 'success',\n",
       "  'final_reward': 8.672046302091482,\n",
       "  'pos_diff': 0.9871318546693229,\n",
       "  'dir_diff': 0.710624020950186,\n",
       "  'vel_diff': 1.9195871599054872},\n",
       " {'result': 'out of Y bounds'},\n",
       " {'result': 'success',\n",
       "  'final_reward': 6.3756701179838196,\n",
       "  'pos_diff': 0.9697951739508314,\n",
       "  'dir_diff': 1.4110206085694075,\n",
       "  'vel_diff': 1.360125484707493},\n",
       " {'result': 'success',\n",
       "  'final_reward': 15.23834019219241,\n",
       "  'pos_diff': 0.9549677316235656,\n",
       "  'dir_diff': 0.038191712982248105,\n",
       "  'vel_diff': 0.3979312923892602},\n",
       " {'result': 'success',\n",
       "  'final_reward': 11.358127875078516,\n",
       "  'pos_diff': 0.7996133963508167,\n",
       "  'dir_diff': 0.15161891454076126,\n",
       "  'vel_diff': 2.4428552852317957},\n",
       " {'result': 'success',\n",
       "  'final_reward': -0.7798099210365845,\n",
       "  'pos_diff': 0.9562850328485412,\n",
       "  'dir_diff': 1.5794188109482328,\n",
       "  'vel_diff': 4.550645351026358},\n",
       " {'result': 'success',\n",
       "  'final_reward': -2.4825109659732947,\n",
       "  'pos_diff': 0.962151215624117,\n",
       "  'dir_diff': 1.7318253827366332,\n",
       "  'vel_diff': 5.006313987084772},\n",
       " {'result': 'success',\n",
       "  'final_reward': 12.442812639778454,\n",
       "  'pos_diff': 0.9890990136172527,\n",
       "  'dir_diff': 0.38728108173241593,\n",
       "  'vel_diff': 0.8376434417366019},\n",
       " {'result': 'success',\n",
       "  'final_reward': 2.0674106079570427,\n",
       "  'pos_diff': 0.9795463762115588,\n",
       "  'dir_diff': 1.4165780000265693,\n",
       "  'vel_diff': 3.4759837554261583},\n",
       " {'result': 'success',\n",
       "  'final_reward': 16.77711484307735,\n",
       "  'pos_diff': 0.37509467364767296,\n",
       "  'dir_diff': 0.21816810081328297,\n",
       "  'vel_diff': 0.6282856423089342},\n",
       " {'result': 'success',\n",
       "  'final_reward': 1.478675452729064,\n",
       "  'pos_diff': 0.14997695076060627,\n",
       "  'dir_diff': 0.7500788413663685,\n",
       "  'vel_diff': 7.510522793318032},\n",
       " {'result': 'success',\n",
       "  'final_reward': 5.1461737802463094,\n",
       "  'pos_diff': 0.9823989658855896,\n",
       "  'dir_diff': 1.4926396030999223,\n",
       "  'vel_diff': 1.7393166874130654},\n",
       " {'result': 'success',\n",
       "  'final_reward': 13.816971677494633,\n",
       "  'pos_diff': 0.6962278762050556,\n",
       "  'dir_diff': 0.0667934315471157,\n",
       "  'vel_diff': 1.6839608918722553},\n",
       " {'result': 'success',\n",
       "  'final_reward': 10.71727312989066,\n",
       "  'pos_diff': 0.9917391102462242,\n",
       "  'dir_diff': 0.6374948088933776,\n",
       "  'vel_diff': 1.0682786372056658},\n",
       " {'result': 'success',\n",
       "  'final_reward': 0.9644309751716978,\n",
       "  'pos_diff': 0.9801862855624194,\n",
       "  'dir_diff': 1.8338050183932373,\n",
       "  'vel_diff': 2.9828062525250094},\n",
       " {'result': 'success',\n",
       "  'final_reward': 15.457155381674006,\n",
       "  'pos_diff': 0.685467019937569,\n",
       "  'dir_diff': 0.18532455495290912,\n",
       "  'vel_diff': 0.5944433719368013},\n",
       " {'result': 'success',\n",
       "  'final_reward': 5.168852145980795,\n",
       "  'pos_diff': 0.9813352632754142,\n",
       "  'dir_diff': 1.4311464760757986,\n",
       "  'vel_diff': 1.8843695786315704},\n",
       " {'result': 'success',\n",
       "  'final_reward': 11.13011830704763,\n",
       "  'pos_diff': 0.5757608518420181,\n",
       "  'dir_diff': 0.42563167663128754,\n",
       "  'vel_diff': 2.4314595252929214},\n",
       " {'result': 'success',\n",
       "  'final_reward': 17.935193598614696,\n",
       "  'pos_diff': 0.27955010036679073,\n",
       "  'dir_diff': 0.0841376156859297,\n",
       "  'vel_diff': 0.6231839105608515},\n",
       " {'result': 'success',\n",
       "  'final_reward': 2.1506854219327884,\n",
       "  'pos_diff': 0.9541794319000535,\n",
       "  'dir_diff': 1.584336968282145,\n",
       "  'vel_diff': 3.0783662885781093},\n",
       " {'result': 'success',\n",
       "  'final_reward': 16.81140671392479,\n",
       "  'pos_diff': 0.36174865615775775,\n",
       "  'dir_diff': 0.21251250817653689,\n",
       "  'vel_diff': 0.6586437322018688},\n",
       " {'result': 'success',\n",
       "  'final_reward': 8.30676840630673,\n",
       "  'pos_diff': 0.9841485591054561,\n",
       "  'dir_diff': 1.0398426204856124,\n",
       "  'vel_diff': 1.2866378478689642},\n",
       " {'result': 'success',\n",
       "  'final_reward': 11.73864707961683,\n",
       "  'pos_diff': 0.20049130886869093,\n",
       "  'dir_diff': 0.5491100725014264,\n",
       "  'vel_diff': 2.7566730067662917},\n",
       " {'result': 'success',\n",
       "  'final_reward': 2.182317510469958,\n",
       "  'pos_diff': 0.995854184663193,\n",
       "  'dir_diff': 1.993726234035925,\n",
       "  'vel_diff': 1.9348901980172262},\n",
       " {'result': 'success',\n",
       "  'final_reward': 20.363042540797554,\n",
       "  'pos_diff': 0.1062659787449504,\n",
       "  'dir_diff': 0.00019224351485958024,\n",
       "  'vel_diff': 0.052333173951698585},\n",
       " {'result': 'success',\n",
       "  'final_reward': 11.833757832312678,\n",
       "  'pos_diff': 0.9968140767522696,\n",
       "  'dir_diff': 0.47584099267572644,\n",
       "  'vel_diff': 0.901483410273671},\n",
       " {'result_md': 'success',\n",
       "  'final_reward_md': 100,\n",
       "  'info_md': 'missiledrone win'},\n",
       " {'result': 'success',\n",
       "  'final_reward': 14.746978976240593,\n",
       "  'pos_diff': 0.3813966581635828,\n",
       "  'dir_diff': 0.5149577431005468,\n",
       "  'vel_diff': 0.8856245087193793},\n",
       " {'result': 'success',\n",
       "  'final_reward': 20.279613230717946,\n",
       "  'pos_diff': 0.1318523799684341,\n",
       "  'dir_diff': 0.0002783843649860618,\n",
       "  'vel_diff': 0.02986647380747636},\n",
       " {'result': 'success',\n",
       "  'final_reward': -7.117924164481303,\n",
       "  'pos_diff': 0.990681754298497,\n",
       "  'dir_diff': 1.7643056039591083,\n",
       "  'vel_diff': 7.171493686596638},\n",
       " {'result': 'success',\n",
       "  'final_reward': 17.34504166865762,\n",
       "  'pos_diff': 0.2559795467906914,\n",
       "  'dir_diff': 0.0009538776484702138,\n",
       "  'vel_diff': 1.1851456045732864},\n",
       " {'result': 'success',\n",
       "  'final_reward': 4.16600724185494,\n",
       "  'pos_diff': 0.9893996074568027,\n",
       "  'dir_diff': 1.375930336864819,\n",
       "  'vel_diff': 2.5036715182684754},\n",
       " {'result': 'success',\n",
       "  'final_reward': 7.3671436845377,\n",
       "  'pos_diff': 0.22429023457416897,\n",
       "  'dir_diff': 0.570071355021231,\n",
       "  'vel_diff': 4.83052418374265},\n",
       " {'result': 'success',\n",
       "  'final_reward': 16.135166344931044,\n",
       "  'pos_diff': 0.3484999272557087,\n",
       "  'dir_diff': 0.0009237121034265661,\n",
       "  'vel_diff': 1.558857729136639},\n",
       " {'result': 'success',\n",
       "  'final_reward': 2.6272941971754755,\n",
       "  'pos_diff': 0.9869871123749685,\n",
       "  'dir_diff': 1.8950702868347,\n",
       "  'vel_diff': 1.981209403388091},\n",
       " {'result': 'success',\n",
       "  'final_reward': 13.449951580093096,\n",
       "  'pos_diff': 0.7312250909914617,\n",
       "  'dir_diff': 0.04487410698276717,\n",
       "  'vel_diff': 1.83477621501788},\n",
       " {'result': 'success',\n",
       "  'final_reward': 17.744978349255327,\n",
       "  'pos_diff': 0.4580032004557277,\n",
       "  'dir_diff': 0.007699177341437435,\n",
       "  'vel_diff': 0.4632548808794247},\n",
       " {'result': 'success',\n",
       "  'final_reward': 6.833361375053997,\n",
       "  'pos_diff': 0.9264795470354106,\n",
       "  'dir_diff': 1.2024056712005975,\n",
       "  'vel_diff': 1.7611062668829813},\n",
       " {'result': 'success',\n",
       "  'final_reward': 4.971071439513328,\n",
       "  'pos_diff': 0.9662024283302294,\n",
       "  'dir_diff': 1.358319334184646,\n",
       "  'vel_diff': 2.2031598739561473},\n",
       " {'result': 'success',\n",
       "  'final_reward': 1.972065701320159,\n",
       "  'pos_diff': 0.9861575794437198,\n",
       "  'dir_diff': 1.1624948189745035,\n",
       "  'vel_diff': 4.142336153294362},\n",
       " {'result': 'success',\n",
       "  'final_reward': 16.67529885095958,\n",
       "  'pos_diff': 0.008212392930818895,\n",
       "  'dir_diff': 0.5067540134166759,\n",
       "  'vel_diff': 0.8749345586514724},\n",
       " {'result': 'success',\n",
       "  'final_reward': -5.317951863187636,\n",
       "  'pos_diff': 0.9606877813287036,\n",
       "  'dir_diff': 1.479874455752653,\n",
       "  'vel_diff': 7.057570338890426},\n",
       " {'result': 'success',\n",
       "  'final_reward': 18.670204841167337,\n",
       "  'pos_diff': 0.28103896174232074,\n",
       "  'dir_diff': 0.00015629584738341418,\n",
       "  'vel_diff': 0.4619094354420715},\n",
       " {'result': 'success',\n",
       "  'final_reward': 1.3334439519337242,\n",
       "  'pos_diff': 0.9816820615080469,\n",
       "  'dir_diff': 1.9951440401341882,\n",
       "  'vel_diff': 2.39121276992755},\n",
       " {'result': 'success',\n",
       "  'final_reward': 15.661040047597286,\n",
       "  'pos_diff': 0.19647929390251526,\n",
       "  'dir_diff': 0.2708393239097243,\n",
       "  'vel_diff': 1.5011834316707582},\n",
       " {'result': 'success',\n",
       "  'final_reward': 9.218148823592141,\n",
       "  'pos_diff': 0.859904619429231,\n",
       "  'dir_diff': 0.01663130525684231,\n",
       "  'vel_diff': 3.6995857764887465},\n",
       " {'result': 'success',\n",
       "  'final_reward': 3.9612049843192603,\n",
       "  'pos_diff': 0.9695684227184225,\n",
       "  'dir_diff': 1.3530685267886735,\n",
       "  'vel_diff': 2.71280513407263},\n",
       " {'result': 'success',\n",
       "  'final_reward': 3.084339505684143,\n",
       "  'pos_diff': 0.980127654571242,\n",
       "  'dir_diff': 1.9352174397952568,\n",
       "  'vel_diff': 1.6694675112416815},\n",
       " {'result': 'success',\n",
       "  'final_reward': 10.625605897414012,\n",
       "  'pos_diff': 0.5081791735719319,\n",
       "  'dir_diff': 0.07323047831180429,\n",
       "  'vel_diff': 3.733672921583654},\n",
       " {'result': 'success',\n",
       "  'final_reward': 16.307430902934662,\n",
       "  'pos_diff': 0.6723701230205512,\n",
       "  'dir_diff': 0.0035590944880937725,\n",
       "  'vel_diff': 0.6564615047610554},\n",
       " {'result': 'success',\n",
       "  'final_reward': 11.958742171874396,\n",
       "  'pos_diff': 0.5947938531768033,\n",
       "  'dir_diff': 0.6722761019590955,\n",
       "  'vel_diff': 1.3529540262230553},\n",
       " {'result': 'success',\n",
       "  'final_reward': 17.376387849756533,\n",
       "  'pos_diff': 0.20099703470675132,\n",
       "  'dir_diff': 0.2555287737643258,\n",
       "  'vel_diff': 0.6704915539440401},\n",
       " {'result': 'success',\n",
       "  'final_reward': 17.22007490943984,\n",
       "  'pos_diff': 0.2516809915791923,\n",
       "  'dir_diff': 0.21586797768781507,\n",
       "  'vel_diff': 0.7210901221125612}]"
      ]
     },
     "execution_count": 17,
     "metadata": {},
     "output_type": "execute_result"
    }
   ],
   "source": [
    "infos[-100:]"
   ]
  },
  {
   "cell_type": "code",
   "execution_count": 35,
   "metadata": {},
   "outputs": [
    {
     "ename": "ValueError",
     "evalue": "max() arg is an empty sequence",
     "output_type": "error",
     "traceback": [
      "\u001b[1;31m---------------------------------------------------------------------------\u001b[0m",
      "\u001b[1;31mValueError\u001b[0m                                Traceback (most recent call last)",
      "\u001b[1;32m<ipython-input-35-17b076300cbc>\u001b[0m in \u001b[0;36m<module>\u001b[1;34m\u001b[0m\n\u001b[0;32m      1\u001b[0m \u001b[0mfinal_rewards\u001b[0m \u001b[1;33m=\u001b[0m \u001b[1;33m[\u001b[0m\u001b[0mi\u001b[0m\u001b[1;33m[\u001b[0m\u001b[1;34m'final_reward'\u001b[0m\u001b[1;33m]\u001b[0m \u001b[1;32mfor\u001b[0m \u001b[0mi\u001b[0m \u001b[1;32min\u001b[0m \u001b[0msuccesses\u001b[0m\u001b[1;33m]\u001b[0m\u001b[1;33m\u001b[0m\u001b[1;33m\u001b[0m\u001b[0m\n\u001b[1;32m----> 2\u001b[1;33m \u001b[0mmax\u001b[0m\u001b[1;33m(\u001b[0m\u001b[0mfinal_rewards\u001b[0m\u001b[1;33m)\u001b[0m\u001b[1;33m,\u001b[0m \u001b[0mmin\u001b[0m\u001b[1;33m(\u001b[0m\u001b[0mfinal_rewards\u001b[0m\u001b[1;33m)\u001b[0m\u001b[1;33m,\u001b[0m \u001b[0mnp\u001b[0m\u001b[1;33m.\u001b[0m\u001b[0mmean\u001b[0m\u001b[1;33m(\u001b[0m\u001b[0mfinal_rewards\u001b[0m\u001b[1;33m)\u001b[0m\u001b[1;33m\u001b[0m\u001b[1;33m\u001b[0m\u001b[0m\n\u001b[0m",
      "\u001b[1;31mValueError\u001b[0m: max() arg is an empty sequence"
     ]
    }
   ],
   "source": [
    "final_rewards = [i['final_reward'] for i in successes]\n",
    "max(final_rewards), min(final_rewards), np.mean(final_rewards)"
   ]
  },
  {
   "cell_type": "code",
   "execution_count": 19,
   "metadata": {},
   "outputs": [],
   "source": [
    "import pickle\n",
    "# with open('agent_dict2.bin', 'rb') as f:\n",
    "#     agent_dict = pickle.load(f)\n",
    "# agent.from_dict(agent_dict)\n",
    "\n",
    "with open('agent_dict3.bin', 'wb') as f:\n",
    "    pickle.dump(agent.to_dict(), f)\n",
    "    \n",
    "with open('agent_dict3_md.bin', 'wb') as f:\n",
    "    pickle.dump(agent_md.to_dict(), f)"
   ]
  },
  {
   "cell_type": "code",
   "execution_count": null,
   "metadata": {},
   "outputs": [],
   "source": [
    "with open('agent_dict3.bin', 'wb') as f:\n",
    "    pickle.dump(agent.to_dict(), f)\n",
    "    \n",
    "with open('agent_dict3_md.bin', 'wb') as f:\n",
    "    pickle.dump(agent_md.to_dict(), f)"
   ]
  },
  {
   "cell_type": "code",
   "execution_count": 101,
   "metadata": {},
   "outputs": [],
   "source": [
    "env = DroneGym2.make(ay_missile=5, vel_missile=25)"
   ]
  },
  {
   "cell_type": "code",
   "execution_count": 109,
   "metadata": {},
   "outputs": [
    {
     "data": {
      "application/vnd.jupyter.widget-view+json": {
       "model_id": "217c630d8baa421c95cbc214013c88af",
       "version_major": 2,
       "version_minor": 0
      },
      "text/plain": [
       "  0%|          | 0/1 [00:00<?, ?it/s]"
      ]
     },
     "metadata": {},
     "output_type": "display_data"
    }
   ],
   "source": [
    "score = 0\n",
    "env.record_history = True\n",
    "env.antiflip = False\n",
    "for i in tqdm(range(1)):\n",
    "    observation = env.reset()\n",
    "    done = False\n",
    "    score = 0\n",
    "    while not done:\n",
    "#         action = np.random.uniform(0.5,1, size=2)\n",
    "        action = agent.choose_action_determ(observation)\n",
    "#         action[0] *= 1.5\n",
    "        observation_, reward, done, info = env.step(action)\n",
    "        score += reward\n",
    "#         buffer.store_transition(observation, action, reward, observation_, done)\n",
    "        observation = observation_\n",
    "#     buffer.refresh()"
   ]
  },
  {
   "cell_type": "code",
   "execution_count": 110,
   "metadata": {},
   "outputs": [
    {
     "data": {
      "text/plain": [
       "[<matplotlib.lines.Line2D at 0x22bfb1f3e20>]"
      ]
     },
     "execution_count": 110,
     "metadata": {},
     "output_type": "execute_result"
    },
    {
     "data": {
      "image/png": "[encoded data removed]",
      "text/plain": [
       "<Figure size 432x288 with 1 Axes>"
      ]
     },
     "metadata": {
      "needs_background": "light"
     },
     "output_type": "display_data"
    }
   ],
   "source": [
    "from ipywidgets import interact, interactive, fixed\n",
    "import ipywidgets\n",
    "import matplotlib.pyplot as plt\n",
    "gym = env\n",
    "\n",
    "xs = []\n",
    "ys = []\n",
    "f1s = []\n",
    "f2s = []\n",
    "rewards = []\n",
    "ts = []\n",
    "dts = []\n",
    "scores = [0]\n",
    "vels = []\n",
    "xsm = []\n",
    "ysm = []\n",
    "omegas = []\n",
    "for d in gym.history:\n",
    "    gym.set_state(d['state'])\n",
    "    xs.append(gym.drone.pos.x)\n",
    "    ys.append(gym.drone.pos.y)\n",
    "    omegas.append(gym.drone.omega)\n",
    "    f1, f2 = d['actions']\n",
    "    f1s.append(f1)\n",
    "    f2s.append(f2)\n",
    "    ts.append(gym.time_curr)\n",
    "    rewards.append(d['reward'])\n",
    "    dts.append(d['delta_t1'])\n",
    "    scores.append(scores[-1]+d['reward'])\n",
    "    vels.append(gym.drone.vel.len())\n",
    "    xsm.append(gym.missile.pos.x)\n",
    "    ysm.append(gym.missile.pos.y)\n",
    "scores = scores[1:]\n",
    "i1=0\n",
    "i2=-1\n",
    "# plt.plot(ts[i1:i2], rewards[i1:i2])\n",
    "plt.plot(ts[i1:i2], f1s[i1:i2])\n",
    "plt.plot(ts[i1:i2], f2s[i1:i2])\n",
    "# plt.plot(ts[i1:i2], dts[i1:i2])"
   ]
  },
  {
   "cell_type": "code",
   "execution_count": 111,
   "metadata": {},
   "outputs": [
    {
     "data": {
      "application/vnd.jupyter.widget-view+json": {
       "model_id": "06c03310920945b6a9dd209e5866a955",
       "version_major": 2,
       "version_minor": 0
      },
      "text/plain": [
       "interactive(children=(IntSlider(value=0, description='i', max=295), Checkbox(value=True, description='(зел) оц…"
      ]
     },
     "metadata": {},
     "output_type": "display_data"
    }
   ],
   "source": [
    "@interact(i=ipywidgets.IntSlider(min=0,max=len(gym.history)-1,step=1, value=0),\n",
    "         ideal_traj=ipywidgets.Checkbox(value=True, description ='(зел) оценка траетктории до цели'),\n",
    "         drone_traject=ipywidgets.Checkbox(value=True, description ='(синяя) траектория дрона '),\n",
    "         missile_traject=ipywidgets.Checkbox(value=True, description ='(красная) траектория ракеты '))\n",
    "def plot_history(i,ideal_traj,drone_traject, missile_traject):\n",
    "    d = gym.history[i]\n",
    "    i1=0#max(0,i-30)\n",
    "    i2=i+1\n",
    "    gym.set_state(d['state'])\n",
    "    fig, (ax, ax2, ax3) = plt.subplots(1,3, figsize=(14,7))\n",
    "    gym.plot(ax, drone_mashtb=50, vec_mashtb=10, actions=d['actions'],ideal_traj=ideal_traj, missile_d=True, missile_vec_mshtb=10)\n",
    "    if drone_traject:\n",
    "        ax.plot(xs[i1:i],ys[i1:i],ls=':',c='blue')\n",
    "    if missile_traject:\n",
    "        ax.plot(xsm[i1:i],ysm[i1:i],ls=':',c='red')\n",
    "    ax.set_aspect('equal', adjustable='box')\n",
    "    \n",
    "    \n",
    "#     ax2.plot(ts[i1:i2], f1s[i1:i2])\n",
    "#     ax2.plot(ts[i1:i2], f2s[i1:i2])\n",
    "    ax2.grid()\n",
    "    ax2.plot(ts[:i2], vels[:i2])\n",
    "#     ax2.plot(ts[:i2], omegas[:i2])\n",
    "    \n",
    "    ax3.plot(ts[:i2], rewards[:i2])\n",
    "    ax3.grid()\n",
    "    ax.grid()\n",
    "    plt.show()"
   ]
  },
  {
   "cell_type": "code",
   "execution_count": 112,
   "metadata": {},
   "outputs": [
    {
     "data": {
      "text/plain": [
       "{'result': 'success',\n",
       " 'final_reward': 15.771170371713033,\n",
       " 'pos_diff': 0.24170582383008773,\n",
       " 'dir_diff': 0.16247131776838986,\n",
       " 'vel_diff': 1.6039719601472895}"
      ]
     },
     "execution_count": 112,
     "metadata": {},
     "output_type": "execute_result"
    }
   ],
   "source": [
    "info"
   ]
  },
  {
   "cell_type": "code",
   "execution_count": 108,
   "metadata": {},
   "outputs": [],
   "source": [
    "import numpy as np"
   ]
  },
  {
   "cell_type": "code",
   "execution_count": 39,
   "metadata": {},
   "outputs": [
    {
     "data": {
      "text/plain": [
       "1.2592890447856777"
      ]
     },
     "execution_count": 39,
     "metadata": {},
     "output_type": "execute_result"
    }
   ],
   "source": [
    "np.random.lognormal()"
   ]
  }
 ],
 "metadata": {
  "kernelspec": {
   "display_name": "env_neuro_missile",
   "language": "python",
   "name": "env_neuro_missile"
  },
  "language_info": {
   "codemirror_mode": {
    "name": "ipython",
    "version": 3
   },
   "file_extension": ".py",
   "mimetype": "text/x-python",
   "name": "python",
   "nbconvert_exporter": "python",
   "pygments_lexer": "ipython3",
   "version": "3.8.5"
  }
 },
 "nbformat": 4,
 "nbformat_minor": 4
}
