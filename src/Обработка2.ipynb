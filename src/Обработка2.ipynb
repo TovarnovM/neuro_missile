{
 "cells": [
  {
   "cell_type": "code",
   "execution_count": 12,
   "metadata": {},
   "outputs": [
    {
     "name": "stdout",
     "output_type": "stream",
     "text": [
      "The autoreload extension is already loaded. To reload it, use:\n",
      "  %reload_ext autoreload\n"
     ]
    }
   ],
   "source": [
    "%load_ext autoreload\n",
    "\n",
    "%autoreload 2"
   ]
  },
  {
   "cell_type": "code",
   "execution_count": 36,
   "metadata": {},
   "outputs": [],
   "source": [
    "from missile_gym import MissileGym"
   ]
  },
  {
   "cell_type": "code",
   "execution_count": 162,
   "metadata": {},
   "outputs": [],
   "source": [
    "from tqdm.notebook import tqdm\n",
    "import numpy as np\n",
    "import matplotlib.pyplot as plt\n",
    "from matplotlib.pylab import figure, subplot2grid\n",
    "from functional import seq\n",
    "from ipywidgets import interact, interactive, fixed\n",
    "import ipywidgets\n",
    "from math import *\n",
    "# %config InlineBackend.figure_format = 'svg'"
   ]
  },
  {
   "cell_type": "code",
   "execution_count": 163,
   "metadata": {},
   "outputs": [
    {
     "name": "stdout",
     "output_type": "stream",
     "text": [
      "False [-1500   500]\n",
      "[25.         0.         0.         2.8198421  0.         0.       ]\n",
      "мы попали\n"
     ]
    }
   ],
   "source": [
    "gym = MissileGym.make_simple_scenario((-1500, 500), (-200, 0), missile_vel_abs=1.0)\n",
    "done = False\n",
    "reward = 0\n",
    "obs = gym.reset()\n",
    "state = gym.get_state()\n",
    "history = []\n",
    "alphas_targeting = []\n",
    "while not done:\n",
    "    rews = []\n",
    "    for a in [-1,0,1]:\n",
    "        obs, reward, done, info = gym.step(a)\n",
    "        rews.append((a, reward))\n",
    "        gym.set_state(state)\n",
    "        \n",
    "    if gym.missile.v > gym.target.v:\n",
    "        action_parallel_guidance = gym.missile.get_action_parallel_guidance(gym.target)\n",
    "    else:\n",
    "        action_parallel_guidance = gym.missile.get_action_chaise_guidance(gym.target)\n",
    "    if -0.5 <= action_parallel_guidance <= 0.5:\n",
    "        action_parallel_guidance = 0\n",
    "    elif action_parallel_guidance < -0.5:\n",
    "        action_parallel_guidance = -1\n",
    "    else:\n",
    "        action_parallel_guidance = 1\n",
    "    if np.random.random() < 0.5:\n",
    "        action_parallel_guidance = np.random.choice([-1,0,1])\n",
    "    obs, reward, done, info = gym.step(action_parallel_guidance)\n",
    "    rews.append((action_parallel_guidance, reward))\n",
    "    state = gym.get_state()\n",
    "    history.append((state, obs, reward, done, info, rews))\n",
    "    alphas_targeting.append(gym.missile.alpha_targeting if abs(gym.missile.alpha_targeting) < gym.missile.alphamax else copysign(gym.missile.alphamax, gym.missile.alpha_targeting))\n",
    "    \n",
    "#     if gym.missile.alpha < 0:\n",
    "#         print(gym.missile.alpha, gym.missile._get_dydt(gym.missile.t, gym.missile.state[:-1])[3])\n",
    "print(info['done_reason'])"
   ]
  },
  {
   "cell_type": "code",
   "execution_count": 164,
   "metadata": {},
   "outputs": [],
   "source": [
    "%matplotlib inline"
   ]
  },
  {
   "cell_type": "code",
   "execution_count": 165,
   "metadata": {},
   "outputs": [],
   "source": [
    "def get_an_atau(vel0, vel1, tau):\n",
    "    g = 9.81\n",
    "    vel0 = np.array(vel0)\n",
    "    vel1 = np.array(vel1)\n",
    "    a = (vel1-vel0)/tau - np.array([0, -g])\n",
    "    a_tau = np.dot(a, vel0/np.linalg.norm(vel0)) *  vel0/np.linalg.norm(vel0)\n",
    "    a_n = a - a_tau\n",
    "    return copysign(np.linalg.norm(a_n)/g, np.cross(vel0, a_n)), copysign(np.linalg.norm(a_tau)/g, np.dot(a_tau, vel0))\n",
    "    "
   ]
  },
  {
   "cell_type": "code",
   "execution_count": 241,
   "metadata": {},
   "outputs": [
    {
     "data": {
      "application/vnd.jupyter.widget-view+json": {
       "model_id": "9621b3c67acd41d49965235ee26bb371",
       "version_major": 2,
       "version_minor": 0
      },
      "text/plain": [
       "HBox(children=(FloatProgress(value=0.0, max=221.0), HTML(value='')))"
      ]
     },
     "metadata": {},
     "output_type": "display_data"
    },
    {
     "name": "stdout",
     "output_type": "stream",
     "text": [
      "\n"
     ]
    }
   ],
   "source": [
    "mis_xs = []\n",
    "mis_ys = []\n",
    "trg_xs = []\n",
    "trg_ys = []\n",
    "ts = []\n",
    "mis_vs = []\n",
    "trg_vs = []\n",
    "rewards = []\n",
    "rewards_1 = []\n",
    "rewards0 = []\n",
    "rewards1 = []\n",
    "alphas = []\n",
    "trg_vels = []\n",
    "mis_vels = []\n",
    "Qs = []\n",
    "for state, obs, reward, done, info, rews in tqdm(history):\n",
    "    gym.set_state(state)\n",
    "    mis_smry = gym.missile.get_summary()\n",
    "    trg_smry = gym.target.get_summary()\n",
    "    mis_xs.append(mis_smry['x'])\n",
    "    mis_ys.append(mis_smry['y'])\n",
    "    trg_xs.append(trg_smry['x'])\n",
    "    trg_ys.append(trg_smry['y'])\n",
    "    ts.append(mis_smry['t'])\n",
    "    mis_vs.append(mis_smry['v'])\n",
    "    trg_vs.append(trg_smry['v'])\n",
    "    rewards.append(reward)\n",
    "    av = (rews[0][1] + rews[1][1]+ rews[2][1])/3\n",
    "    rewards_1.append(rews[0][1]-av)\n",
    "    rewards0.append(rews[1][1]-av)\n",
    "    rewards1.append(rews[2][1]-av)\n",
    "    alphas.append(mis_smry['alpha'])\n",
    "    Qs.append(mis_smry['Q'])\n",
    "    \n",
    "    trg_vels.append(gym.target.vel)\n",
    "    mis_vels.append(gym.missile.vel)\n",
    "\n",
    "trg_nys = [get_an_atau(v0, v1, t1-t0)[0] for v0, v1, t1, t0 in zip(trg_vels, trg_vels[1:], ts[1:], ts)]\n",
    "trg_nys += [trg_nys[-1]]\n",
    "mis_nys = [get_an_atau(v0, v1, t1-t0)[0] for v0, v1, t1, t0 in zip(mis_vels, mis_vels[1:], ts[1:], ts)]\n",
    "mis_nys += [trg_nys[-1]]\n",
    "\n",
    "trg_nxs = [get_an_atau(v0, v1, t1-t0)[1] for v0, v1, t1, t0 in zip(trg_vels, trg_vels[1:], ts[1:], ts)]\n",
    "trg_nxs += [trg_nxs[-1]]\n",
    "mis_nxs = [get_an_atau(v0, v1, t1-t0)[1] for v0, v1, t1, t0 in zip(mis_vels, mis_vels[1:], ts[1:], ts)]\n",
    "mis_nxs += [trg_nxs[-1]]\n"
   ]
  },
  {
   "cell_type": "code",
   "execution_count": 242,
   "metadata": {},
   "outputs": [
    {
     "data": {
      "application/vnd.jupyter.widget-view+json": {
       "model_id": "b38a1b0ee7f246098435c615a64c372e",
       "version_major": 2,
       "version_minor": 0
      },
      "text/plain": [
       "interactive(children=(IntSlider(value=220, description='i', max=220), Output()), _dom_classes=('widget-interac…"
      ]
     },
     "metadata": {},
     "output_type": "display_data"
    }
   ],
   "source": [
    "@interact(i=ipywidgets.IntSlider(min=0,max=len(history)-1,step=1, value=len(history)-1))\n",
    "def draw(i):\n",
    "    f0 = figure(num = 0, figsize = (17, 7))\n",
    "    ax01 = subplot2grid((4, 7), (0, 0), colspan=4, rowspan=4)\n",
    "    ax02 = subplot2grid((4, 7), (0, 4), colspan=3, rowspan=1)\n",
    "    ax03 = subplot2grid((4, 7), (1, 4), colspan=3, rowspan=1,sharex=ax02)\n",
    "    ax04 = subplot2grid((4, 7), (2, 4), colspan=3, rowspan=1,sharex=ax02)\n",
    "    ax05 = subplot2grid((4, 7), (3, 4), colspan=3, rowspan=1,sharex=ax02)\n",
    "    f0.subplots_adjust(hspace=0)   \n",
    "    f0.subplots_adjust(wspace=0.7)  \n",
    "    \n",
    "#     state = history[i][0]\n",
    "#     gym.set_state(state)\n",
    "#     gym.render(fig=f0, ax=ax01)\n",
    "    ax01.plot(mis_xs[:i], mis_ys[:i], ls=':')\n",
    "    ax01.plot(trg_xs[:i], trg_ys[:i], ls=':')\n",
    "    ax01.grid(True)\n",
    "    \n",
    "    ax02.plot(ts[:i], mis_vs[:i], label='Скорость ракеты')\n",
    "    ax02.plot(ts[:i], trg_vs[:i], label='Скорость цели')\n",
    "    ax02.legend()\n",
    "    ax02.grid(True)\n",
    "    \n",
    "    ax03.plot(ts[:i], rewards[:i], label='Награда_')\n",
    "    ax03.plot(ts[:i], rewards_1[:i], label='Награда-1')\n",
    "    ax03.plot(ts[:i], rewards0[:i], label='Награда0')\n",
    "    ax03.plot(ts[:i], rewards1[:i], label='Награда1')\n",
    "#     ax03.plot(ts[:i], Qs[:i], label='Q')\n",
    "    ax03.legend()\n",
    "    ax03.grid(True)\n",
    "    \n",
    "    ax04.plot(ts[:i], alphas[:i], label=r'$\\alpha_{текущий}$')\n",
    "    ax04.plot(ts[:i], alphas_targeting[:i], label=r'$\\alpha_{потребный}$', color='y', ls='-')\n",
    "    ax04.legend()\n",
    "    ax04.grid(True)\n",
    "    \n",
    "    ax05.plot(ts[:i], mis_nys[:i], label=r'$n_y$ ракеты', c='b')\n",
    "    ax05.plot(ts[:i], trg_nys[:i], label=r'$n_y$ цели', c='orange')\n",
    "    \n",
    "    ax05.plot(ts[:i], mis_nxs[:i], label=r'$n_x$ ракеты', c='b', ls='--')\n",
    "    ax05.plot(ts[:i], trg_nxs[:i], label=r'$n_x$ цели', c='orange', ls='--')\n",
    "    ax05.legend()\n",
    "    ax05.grid(True)\n",
    "    \n",
    "    plt.show()"
   ]
  },
  {
   "cell_type": "code",
   "execution_count": 215,
   "metadata": {},
   "outputs": [
    {
     "name": "stdout",
     "output_type": "stream",
     "text": [
      "False [-1500   500]\n",
      "[25.         0.         0.         2.8198421  0.         0.       ]\n",
      "Memory buffer get 17.6 MB\n"
     ]
    }
   ],
   "source": [
    "from mybot import Agent\n",
    "\n",
    "\n",
    "env = MissileGym.make_simple_scenario((-1500, 500), (-200, 0), missile_vel_abs=1.0)\n",
    "\n",
    "def action_sample_foo():\n",
    "    gym = env\n",
    "    if gym.missile.v > gym.target.v:\n",
    "        action_parallel_guidance = gym.missile.get_action_parallel_guidance(gym.target)\n",
    "    else:\n",
    "        action_parallel_guidance = gym.missile.get_action_chaise_guidance(gym.target)\n",
    "    if -0.5 <= action_parallel_guidance <= 0.5:\n",
    "        action_parallel_guidance = 0\n",
    "    elif action_parallel_guidance < -0.5:\n",
    "        action_parallel_guidance = -1\n",
    "    else:\n",
    "        action_parallel_guidance = 1\n",
    "    if np.random.random() < 0.7:\n",
    "        action_parallel_guidance = np.random.choice([-1,0,1])\n",
    "    return action_parallel_guidance\n",
    "\n",
    "agent = Agent(obs.shape, 0.99, 0.999, 0.00025, 3, 100000, 64, action_sample_foo, eps_dec=0.000025)\n",
    "    \n",
    "# agent.load_models()\n",
    "\n",
    "fname = 'prigress.png'\n",
    "\n",
    "scores, eps_hist = [], []\n",
    "# hl, = plt.plot(scores, eps_hist)\n",
    "# def update_line():"
   ]
  },
  {
   "cell_type": "code",
   "execution_count": 237,
   "metadata": {},
   "outputs": [
    {
     "name": "stdout",
     "output_type": "stream",
     "text": [
      "epsiode 0  score -3668.7   avg_score -1533.0   eps 0.0050  mem_cntr 172128 слишком долго\n",
      "epsiode 1  score -3454.7   avg_score -1539.0   eps 0.0050  mem_cntr 172728 слишком долго\n",
      "epsiode 2  score 1191.6   avg_score -1538.5   eps 0.0050  mem_cntr 172945 мы попали\n",
      "epsiode 3  score -3400.3   avg_score -1584.0   eps 0.0050  mem_cntr 173545 слишком долго\n",
      "epsiode 4  score -3310.6   avg_score -1628.6   eps 0.0050  mem_cntr 174145 слишком долго\n",
      "epsiode 5  score -3280.3   avg_score -1634.3   eps 0.0050  mem_cntr 174745 слишком долго\n",
      "epsiode 6  score -3239.5   avg_score -1677.6   eps 0.0050  mem_cntr 175345 слишком долго\n",
      "epsiode 7  score -2715.6   avg_score -1677.2   eps 0.0050  mem_cntr 175945 слишком долго\n",
      "epsiode 8  score -2883.6   avg_score -1678.5   eps 0.0050  mem_cntr 176545 слишком долго\n",
      "epsiode 9  score -3301.3   avg_score -1684.5   eps 0.0050  mem_cntr 177145 слишком долго\n",
      "epsiode 10  score -3669.9   avg_score -1695.3   eps 0.0050  mem_cntr 177745 слишком долго\n",
      "epsiode 11  score -2941.7   avg_score -1697.8   eps 0.0050  mem_cntr 178345 слишком долго\n",
      "epsiode 12  score -3335.4   avg_score -1704.0   eps 0.0050  mem_cntr 178945 слишком долго\n",
      "epsiode 13  score -3352.9   avg_score -1710.9   eps 0.0050  mem_cntr 179545 слишком долго\n",
      "epsiode 14  score -3260.1   avg_score -1716.7   eps 0.0050  mem_cntr 180145 слишком долго\n",
      "epsiode 15  score -3195.7   avg_score -1721.6   eps 0.0050  mem_cntr 180745 слишком долго\n",
      "epsiode 16  score -3233.7   avg_score -1727.0   eps 0.0050  mem_cntr 181345 слишком долго\n",
      "epsiode 17  score -3140.1   avg_score -1731.5   eps 0.0050  mem_cntr 181945 слишком долго\n",
      "epsiode 18  score -2423.2   avg_score -1729.0   eps 0.0050  mem_cntr 182545 слишком долго\n",
      "epsiode 19  score -2463.3   avg_score -1727.0   eps 0.0050  mem_cntr 183145 слишком долго\n",
      "epsiode 20  score -1147.0   avg_score -1711.7   eps 0.0050  mem_cntr 183468 мы упали\n",
      "epsiode 21  score -1933.1   avg_score -1704.6   eps 0.0050  mem_cntr 183865 мы упали\n",
      "epsiode 22  score -1355.8   avg_score -1691.8   eps 0.0050  mem_cntr 184206 мы упали\n",
      "epsiode 23  score -1165.0   avg_score -1677.0   eps 0.0050  mem_cntr 184524 мы упали\n",
      "epsiode 24  score -3097.2   avg_score -1681.4   eps 0.0050  mem_cntr 185124 слишком долго\n",
      "epsiode 25  score -3247.0   avg_score -1687.6   eps 0.0050  mem_cntr 185724 слишком долго\n",
      "epsiode 26  score -3206.5   avg_score -1693.4   eps 0.0050  mem_cntr 186324 слишком долго\n",
      "epsiode 27  score -3265.0   avg_score -1699.8   eps 0.0050  mem_cntr 186924 слишком долго\n",
      "epsiode 28  score -3432.9   avg_score -1708.1   eps 0.0050  mem_cntr 187524 слишком долго\n",
      "epsiode 29  score -1566.2   avg_score -1697.7   eps 0.0050  mem_cntr 187891 мы упали\n",
      "epsiode 30  score -3614.2   avg_score -1745.2   eps 0.0050  mem_cntr 188491 слишком долго\n",
      "epsiode 31  score -3333.9   avg_score -1752.8   eps 0.0050  mem_cntr 189091 слишком долго\n",
      "epsiode 32  score -3337.5   avg_score -1760.1   eps 0.0050  mem_cntr 189691 слишком долго\n",
      "epsiode 33  score -2894.9   avg_score -1800.8   eps 0.0050  mem_cntr 190291 слишком долго\n",
      "epsiode 34  score -3284.9   avg_score -1830.7   eps 0.0050  mem_cntr 190891 слишком долго\n",
      "epsiode 35  score -3221.1   avg_score -1859.9   eps 0.0050  mem_cntr 191491 слишком долго\n",
      "epsiode 36  score -3787.4   avg_score -1869.6   eps 0.0050  mem_cntr 192091 слишком долго\n",
      "epsiode 37  score -2553.9   avg_score -1868.6   eps 0.0050  mem_cntr 192691 слишком долго\n",
      "epsiode 38  score -2586.4   avg_score -1868.0   eps 0.0050  mem_cntr 193291 слишком долго\n",
      "epsiode 39  score -3374.2   avg_score -1875.6   eps 0.0050  mem_cntr 193891 слишком долго\n",
      "epsiode 40  score -3036.7   avg_score -1879.9   eps 0.0050  mem_cntr 194481 мы упали\n",
      "epsiode 41  score -2896.5   avg_score -1920.8   eps 0.0050  mem_cntr 195005 мы упали\n",
      "epsiode 42  score -1773.4   avg_score -1950.2   eps 0.0050  mem_cntr 195369 мы упали\n",
      "epsiode 43  score -2744.1   avg_score -1949.7   eps 0.0050  mem_cntr 195969 слишком долго\n",
      "epsiode 44  score -1779.0   avg_score -1938.9   eps 0.0050  mem_cntr 196527 мы упали\n",
      "epsiode 45  score -2013.2   avg_score -1930.6   eps 0.0050  mem_cntr 197127 слишком долго\n",
      "epsiode 46  score -2647.9   avg_score -1928.0   eps 0.0050  mem_cntr 197727 слишком долго\n",
      "epsiode 47  score -2705.7   avg_score -1927.1   eps 0.0050  mem_cntr 198327 слишком долго\n",
      "epsiode 48  score -2523.4   avg_score -1924.6   eps 0.0050  mem_cntr 198927 слишком долго\n",
      "epsiode 49  score -2405.1   avg_score -1922.0   eps 0.0050  mem_cntr 199527 слишком долго\n",
      "epsiode 50  score -2678.4   avg_score -1920.7   eps 0.0050  mem_cntr 200127 слишком долго\n",
      "epsiode 51  score -2691.1   avg_score -1920.1   eps 0.0050  mem_cntr 200727 слишком долго\n",
      "epsiode 52  score -3226.3   avg_score -1924.9   eps 0.0050  mem_cntr 201327 слишком долго\n",
      "epsiode 53  score -3059.4   avg_score -1927.9   eps 0.0050  mem_cntr 201927 слишком долго\n",
      "epsiode 54  score -3119.3   avg_score -1929.9   eps 0.0050  mem_cntr 202527 слишком долго\n",
      "epsiode 55  score -3045.0   avg_score -1929.9   eps 0.0050  mem_cntr 203127 слишком долго\n",
      "epsiode 56  score -2580.7   avg_score -1924.8   eps 0.0050  mem_cntr 203727 слишком долго\n",
      "epsiode 57  score -2999.0   avg_score -1923.6   eps 0.0050  mem_cntr 204327 слишком долго\n",
      "epsiode 58  score -3166.8   avg_score -1924.4   eps 0.0050  mem_cntr 204927 слишком долго\n",
      "epsiode 59  score -3107.3   avg_score -1928.1   eps 0.0050  mem_cntr 205527 слишком долго\n",
      "epsiode 60  score -2588.6   avg_score -1926.0   eps 0.0050  mem_cntr 206127 слишком долго\n",
      "epsiode 61  score -2139.3   avg_score -1919.9   eps 0.0050  mem_cntr 206727 слишком долго\n",
      "epsiode 62  score -2324.6   avg_score -1954.8   eps 0.0050  mem_cntr 207327 слишком долго\n",
      "epsiode 63  score -2254.4   avg_score -1989.1   eps 0.0050  mem_cntr 207927 слишком долго\n",
      "epsiode 64  score -2240.6   avg_score -2023.3   eps 0.0050  mem_cntr 208527 слишком долго\n",
      "epsiode 65  score -2243.7   avg_score -2057.4   eps 0.0050  mem_cntr 209127 слишком долго\n",
      "epsiode 66  score -2877.3   avg_score -2097.8   eps 0.0050  mem_cntr 209727 слишком долго\n",
      "epsiode 67  score -2565.2   avg_score -2135.3   eps 0.0050  mem_cntr 210327 слишком долго\n",
      "epsiode 68  score -2452.3   avg_score -2132.8   eps 0.0050  mem_cntr 210927 слишком долго\n",
      "epsiode 69  score -2351.9   avg_score -2126.7   eps 0.0050  mem_cntr 211527 слишком долго\n",
      "epsiode 70  score -4029.3   avg_score -2139.2   eps 0.0050  mem_cntr 212127 слишком долго\n",
      "epsiode 71  score -4885.5   avg_score -2160.0   eps 0.0050  mem_cntr 212727 слишком долго\n",
      "epsiode 72  score -1743.7   avg_score -2149.7   eps 0.0050  mem_cntr 213004 мы упали\n",
      "epsiode 73  score -1742.0   avg_score -2141.9   eps 0.0050  mem_cntr 213281 мы упали\n",
      "epsiode 74  score -1756.8   avg_score -2134.3   eps 0.0050  mem_cntr 213562 мы упали\n",
      "epsiode 75  score -1767.6   avg_score -2163.7   eps 0.0050  mem_cntr 213846 мы упали\n",
      "epsiode 76  score -2399.5   avg_score -2199.5   eps 0.0050  mem_cntr 214446 слишком долго\n",
      "epsiode 77  score -723.4   avg_score -2179.6   eps 0.0050  mem_cntr 214711 мы упали\n",
      "epsiode 78  score -629.6   avg_score -2157.3   eps 0.0050  mem_cntr 214947 мы упали\n",
      "epsiode 79  score -524.6   avg_score -2174.5   eps 0.0050  mem_cntr 215178 мы упали\n",
      "epsiode 80  score -959.2   avg_score -2195.8   eps 0.0050  mem_cntr 215466 мы упали\n",
      "epsiode 81  score -2382.1   avg_score -2231.5   eps 0.0050  mem_cntr 216008 мы упали\n",
      "epsiode 82  score -1960.8   avg_score -2263.0   eps 0.0050  mem_cntr 216328 мы упали\n",
      "epsiode 83  score -1771.0   avg_score -2292.5   eps 0.0050  mem_cntr 216612 мы упали\n",
      "epsiode 84  score -1756.8   avg_score -2321.8   eps 0.0050  mem_cntr 216893 мы упали\n",
      "epsiode 85  score -1756.8   avg_score -2351.2   eps 0.0050  mem_cntr 217174 мы упали\n",
      "epsiode 86  score -1757.3   avg_score -2380.6   eps 0.0050  mem_cntr 217455 мы упали\n",
      "epsiode 87  score -1780.6   avg_score -2369.8   eps 0.0050  mem_cntr 217740 мы упали\n",
      "epsiode 88  score -1756.8   avg_score -2360.1   eps 0.0050  mem_cntr 218021 мы упали\n",
      "epsiode 89  score -1757.3   avg_score -2350.7   eps 0.0050  mem_cntr 218302 мы упали\n",
      "epsiode 90  score -1766.4   avg_score -2339.9   eps 0.0050  mem_cntr 218585 мы упали\n",
      "epsiode 91  score -1756.8   avg_score -2330.8   eps 0.0050  mem_cntr 218866 мы упали\n",
      "epsiode 92  score -1756.8   avg_score -2317.9   eps 0.0050  mem_cntr 219147 мы упали\n"
     ]
    },
    {
     "name": "stdout",
     "output_type": "stream",
     "text": [
      "epsiode 93  score -2666.1   avg_score -2356.3   eps 0.0050  mem_cntr 219747 слишком долго\n",
      "epsiode 94  score -223.0   avg_score -2328.3   eps 0.0050  mem_cntr 219764 мы упали\n",
      "epsiode 95  score -221.1   avg_score -2342.4   eps 0.0050  mem_cntr 219780 мы упали\n",
      "epsiode 96  score -223.0   avg_score -2356.4   eps 0.0050  mem_cntr 219797 мы упали\n",
      "epsiode 97  score -222.7   avg_score -2370.5   eps 0.0050  mem_cntr 219814 мы упали\n",
      "epsiode 98  score -223.1   avg_score -2384.4   eps 0.0050  mem_cntr 219831 мы упали\n",
      "epsiode 99  score -222.9   avg_score -2398.4   eps 0.0050  mem_cntr 219848 мы упали\n",
      "epsiode 100  score -223.0   avg_score -2364.0   eps 0.0050  mem_cntr 219865 мы упали\n",
      "epsiode 101  score -222.5   avg_score -2331.6   eps 0.0050  mem_cntr 219882 мы упали\n",
      "epsiode 102  score -224.0   avg_score -2345.8   eps 0.0050  mem_cntr 219900 мы упали\n",
      "epsiode 103  score -225.8   avg_score -2314.0   eps 0.0050  mem_cntr 219919 мы упали\n",
      "epsiode 104  score -222.4   avg_score -2283.2   eps 0.0050  mem_cntr 219936 мы упали\n",
      "epsiode 105  score -224.1   avg_score -2252.6   eps 0.0050  mem_cntr 219954 мы упали\n",
      "epsiode 106  score -222.5   avg_score -2222.4   eps 0.0050  mem_cntr 219971 мы упали\n",
      "epsiode 107  score -223.0   avg_score -2197.5   eps 0.0050  mem_cntr 219988 мы упали\n",
      "epsiode 108  score -222.6   avg_score -2170.9   eps 0.0050  mem_cntr 220005 мы упали\n",
      "epsiode 109  score -222.6   avg_score -2140.1   eps 0.0050  mem_cntr 220022 мы упали\n",
      "epsiode 110  score -224.5   avg_score -2105.7   eps 0.0050  mem_cntr 220040 мы упали\n",
      "epsiode 111  score -225.6   avg_score -2078.5   eps 0.0050  mem_cntr 220059 мы упали\n",
      "epsiode 112  score -235.0   avg_score -2047.5   eps 0.0050  mem_cntr 220085 мы упали\n",
      "epsiode 113  score -239.8   avg_score -2016.4   eps 0.0050  mem_cntr 220115 мы упали\n",
      "epsiode 114  score -230.7   avg_score -1986.1   eps 0.0050  mem_cntr 220138 мы упали\n",
      "epsiode 115  score -227.9   avg_score -1956.4   eps 0.0050  mem_cntr 220159 мы упали\n",
      "epsiode 116  score -233.9   avg_score -1926.4   eps 0.0050  mem_cntr 220185 мы упали\n",
      "epsiode 117  score -228.0   avg_score -1897.3   eps 0.0050  mem_cntr 220206 мы упали\n",
      "epsiode 118  score -225.6   avg_score -1875.3   eps 0.0050  mem_cntr 220225 мы упали\n",
      "epsiode 119  score -224.1   avg_score -1852.9   eps 0.0050  mem_cntr 220243 мы упали\n",
      "epsiode 120  score -228.2   avg_score -1843.7   eps 0.0050  mem_cntr 220264 мы упали\n",
      "epsiode 121  score -225.6   avg_score -1826.6   eps 0.0050  mem_cntr 220283 мы упали\n",
      "epsiode 122  score -224.6   avg_score -1815.3   eps 0.0050  mem_cntr 220301 мы упали\n",
      "epsiode 123  score -224.6   avg_score -1805.9   eps 0.0050  mem_cntr 220319 мы упали\n",
      "epsiode 124  score -225.6   avg_score -1777.2   eps 0.0050  mem_cntr 220338 мы упали\n",
      "epsiode 125  score -224.6   avg_score -1747.0   eps 0.0050  mem_cntr 220356 мы упали\n",
      "epsiode 126  score -224.6   avg_score -1717.2   eps 0.0050  mem_cntr 220374 мы упали\n",
      "epsiode 127  score -224.6   avg_score -1686.8   eps 0.0050  mem_cntr 220392 мы упали\n",
      "epsiode 128  score -225.7   avg_score -1654.7   eps 0.0050  mem_cntr 220411 мы упали\n",
      "epsiode 129  score -224.6   avg_score -1641.3   eps 0.0050  mem_cntr 220429 мы упали\n",
      "epsiode 130  score -223.0   avg_score -1607.4   eps 0.0050  mem_cntr 220446 мы упали\n",
      "epsiode 131  score -222.6   avg_score -1576.2   eps 0.0050  mem_cntr 220463 мы упали\n",
      "epsiode 132  score -223.0   avg_score -1545.1   eps 0.0050  mem_cntr 220480 мы упали\n",
      "epsiode 133  score -223.0   avg_score -1518.4   eps 0.0050  mem_cntr 220497 мы упали\n",
      "epsiode 134  score -223.0   avg_score -1487.8   eps 0.0050  mem_cntr 220514 мы упали\n",
      "epsiode 135  score -223.0   avg_score -1457.8   eps 0.0050  mem_cntr 220531 мы упали\n",
      "epsiode 136  score -222.6   avg_score -1422.1   eps 0.0050  mem_cntr 220548 мы упали\n",
      "epsiode 137  score -224.6   avg_score -1398.8   eps 0.0050  mem_cntr 220566 мы упали\n",
      "epsiode 138  score -225.6   avg_score -1375.2   eps 0.0050  mem_cntr 220585 мы упали\n",
      "epsiode 139  score -224.4   avg_score -1343.7   eps 0.0050  mem_cntr 220603 мы упали\n",
      "epsiode 140  score -224.6   avg_score -1315.6   eps 0.0050  mem_cntr 220621 мы упали\n",
      "epsiode 141  score -224.6   avg_score -1288.9   eps 0.0050  mem_cntr 220639 мы упали\n",
      "epsiode 142  score -223.0   avg_score -1273.4   eps 0.0050  mem_cntr 220656 мы упали\n",
      "epsiode 143  score -223.0   avg_score -1248.2   eps 0.0050  mem_cntr 220673 мы упали\n",
      "epsiode 144  score -221.0   avg_score -1232.6   eps 0.0050  mem_cntr 220689 мы упали\n",
      "epsiode 145  score -221.0   avg_score -1214.7   eps 0.0050  mem_cntr 220705 мы упали\n",
      "epsiode 146  score -221.0   avg_score -1190.4   eps 0.0050  mem_cntr 220721 мы упали\n",
      "epsiode 147  score -221.2   avg_score -1165.6   eps 0.0050  mem_cntr 220737 мы упали\n",
      "epsiode 148  score -221.0   avg_score -1142.5   eps 0.0050  mem_cntr 220753 мы упали\n",
      "epsiode 149  score -221.2   avg_score -1120.7   eps 0.0050  mem_cntr 220769 мы упали\n",
      "epsiode 150  score -221.2   avg_score -1096.1   eps 0.0050  mem_cntr 220785 мы упали\n",
      "epsiode 151  score -221.2   avg_score -1071.4   eps 0.0050  mem_cntr 220801 мы упали\n",
      "epsiode 152  score -221.2   avg_score -1041.4   eps 0.0050  mem_cntr 220817 мы упали\n",
      "epsiode 153  score -221.0   avg_score -1013.0   eps 0.0050  mem_cntr 220833 мы упали\n",
      "epsiode 154  score -221.2   avg_score -984.0   eps 0.0050  mem_cntr 220849 мы упали\n",
      "epsiode 155  score -222.3   avg_score -955.8   eps 0.0050  mem_cntr 220866 мы упали\n",
      "epsiode 156  score -221.2   avg_score -932.2   eps 0.0050  mem_cntr 220882 мы упали\n",
      "epsiode 157  score -221.0   avg_score -904.4   eps 0.0050  mem_cntr 220898 мы упали\n",
      "epsiode 158  score -221.2   avg_score -875.0   eps 0.0050  mem_cntr 220914 мы упали\n",
      "epsiode 159  score -221.0   avg_score -846.1   eps 0.0050  mem_cntr 220930 мы упали\n",
      "epsiode 160  score -221.2   avg_score -822.4   eps 0.0050  mem_cntr 220946 мы упали\n",
      "epsiode 161  score -221.2   avg_score -803.2   eps 0.0050  mem_cntr 220962 мы упали\n",
      "epsiode 162  score -221.0   avg_score -782.2   eps 0.0050  mem_cntr 220978 мы упали\n",
      "epsiode 163  score -221.2   avg_score -761.9   eps 0.0050  mem_cntr 220994 мы упали\n",
      "epsiode 164  score -221.2   avg_score -741.7   eps 0.0050  mem_cntr 221010 мы упали\n",
      "epsiode 165  score -221.2   avg_score -721.5   eps 0.0050  mem_cntr 221026 мы упали\n",
      "epsiode 166  score -221.2   avg_score -694.9   eps 0.0050  mem_cntr 221042 мы упали\n",
      "epsiode 167  score -221.0   avg_score -671.5   eps 0.0050  mem_cntr 221058 мы упали\n",
      "epsiode 168  score -221.0   avg_score -649.1   eps 0.0050  mem_cntr 221074 мы упали\n",
      "epsiode 169  score -223.0   avg_score -627.9   eps 0.0050  mem_cntr 221091 мы упали\n",
      "epsiode 170  score -223.0   avg_score -589.8   eps 0.0050  mem_cntr 221108 мы упали\n",
      "epsiode 171  score -223.0   avg_score -543.2   eps 0.0050  mem_cntr 221125 мы упали\n",
      "epsiode 172  score -223.0   avg_score -528.0   eps 0.0050  mem_cntr 221142 мы упали\n",
      "epsiode 173  score -223.0   avg_score -512.8   eps 0.0050  mem_cntr 221159 мы упали\n",
      "epsiode 174  score -223.0   avg_score -497.4   eps 0.0050  mem_cntr 221176 мы упали\n",
      "epsiode 175  score -224.6   avg_score -482.0   eps 0.0050  mem_cntr 221194 мы упали\n",
      "epsiode 176  score -224.3   avg_score -460.2   eps 0.0050  mem_cntr 221212 мы упали\n",
      "epsiode 177  score -223.0   avg_score -455.2   eps 0.0050  mem_cntr 221229 мы упали\n",
      "epsiode 178  score -223.0   avg_score -451.2   eps 0.0050  mem_cntr 221246 мы упали\n",
      "epsiode 179  score -223.0   avg_score -448.2   eps 0.0050  mem_cntr 221263 мы упали\n",
      "epsiode 180  score -223.0   avg_score -440.8   eps 0.0050  mem_cntr 221280 мы упали\n",
      "epsiode 181  score -223.0   avg_score -419.2   eps 0.0050  mem_cntr 221297 мы упали\n",
      "epsiode 182  score -223.0   avg_score -401.8   eps 0.0050  mem_cntr 221314 мы упали\n",
      "epsiode 183  score -223.0   avg_score -386.4   eps 0.0050  mem_cntr 221331 мы упали\n",
      "epsiode 184  score -223.0   avg_score -371.0   eps 0.0050  mem_cntr 221348 мы упали\n",
      "epsiode 185  score -223.0   avg_score -355.7   eps 0.0050  mem_cntr 221365 мы упали\n",
      "epsiode 186  score -223.0   avg_score -340.3   eps 0.0050  mem_cntr 221382 мы упали\n",
      "epsiode 187  score -223.0   avg_score -324.8   eps 0.0050  mem_cntr 221399 мы упали\n",
      "epsiode 188  score -223.0   avg_score -309.4   eps 0.0050  mem_cntr 221416 мы упали\n",
      "epsiode 189  score -223.0   avg_score -294.1   eps 0.0050  mem_cntr 221433 мы упали\n"
     ]
    },
    {
     "name": "stdout",
     "output_type": "stream",
     "text": [
      "epsiode 190  score -223.0   avg_score -278.6   eps 0.0050  mem_cntr 221450 мы упали\n",
      "epsiode 191  score -223.0   avg_score -263.3   eps 0.0050  mem_cntr 221467 мы упали\n",
      "epsiode 192  score -223.0   avg_score -248.0   eps 0.0050  mem_cntr 221484 мы упали\n",
      "epsiode 193  score -221.0   avg_score -223.5   eps 0.0050  mem_cntr 221500 мы упали\n",
      "epsiode 194  score -221.0   avg_score -223.5   eps 0.0050  mem_cntr 221516 мы упали\n",
      "epsiode 195  score -221.0   avg_score -223.5   eps 0.0050  mem_cntr 221532 мы упали\n",
      "epsiode 196  score -224.6   avg_score -223.5   eps 0.0050  mem_cntr 221550 мы упали\n",
      "epsiode 197  score -221.0   avg_score -223.5   eps 0.0050  mem_cntr 221566 мы упали\n",
      "epsiode 198  score -223.0   avg_score -223.5   eps 0.0050  mem_cntr 221583 мы упали\n",
      "epsiode 199  score -224.6   avg_score -223.5   eps 0.0050  mem_cntr 221601 мы упали\n"
     ]
    },
    {
     "data": {
      "image/png": "[encoded data removed]",
      "text/plain": [
       "<Figure size 432x288 with 1 Axes>"
      ]
     },
     "metadata": {
      "needs_background": "light"
     },
     "output_type": "display_data"
    }
   ],
   "source": [
    "num_games = 200\n",
    "\n",
    "for i in range(num_games):\n",
    "    done = False\n",
    "    state = env.reset()\n",
    "    score = 0\n",
    "\n",
    "    while not done:\n",
    "        action = agent.choose_action(state[np.newaxis,:])\n",
    "        state_, reward, done, info = env.step(action)\n",
    "        score +=  reward\n",
    "        agent.store_transaction(state, action+1, reward, state_, done)\n",
    "        agent.learn()\n",
    "        state = state_\n",
    "    scores.append(score)\n",
    "    avg_score = np.mean(scores[-100:])\n",
    "    print(f'epsiode {i}  score {score:.1f}   avg_score {avg_score:.1f}   eps {agent.epsilon:.4f}  mem_cntr {agent.memory.mem_cntr} {info[\"done_reason\"]}')\n",
    "    eps_hist.append(agent.epsilon)\n",
    "plt.plot(scores)\n",
    "plt.plot(eps_hist)\n",
    "plt.grid(True)\n",
    "plt.show()"
   ]
  },
  {
   "cell_type": "code",
   "execution_count": 239,
   "metadata": {},
   "outputs": [
    {
     "name": "stdout",
     "output_type": "stream",
     "text": [
      "False [-1500   500]\n",
      "[25.         0.         0.         2.8198421  0.         0.       ]\n",
      "мы попали\n"
     ]
    }
   ],
   "source": [
    "gym = MissileGym.make_simple_scenario((-1500, 500), (-200, 0), missile_vel_abs=1.0)\n",
    "done = False\n",
    "reward = 0\n",
    "obs = gym.reset()\n",
    "state = gym.get_state()\n",
    "history = []\n",
    "alphas_targeting = []\n",
    "while not done:    \n",
    "    action_parallel_guidance = agent.choose_action(obs[np.newaxis,:])\n",
    "    obs, reward, done, info = gym.step(action_parallel_guidance)\n",
    "    rews.append((action_parallel_guidance, reward))\n",
    "    state = gym.get_state()\n",
    "    rews = [(-1,reward),(0,reward),(1,reward),(1,reward)]\n",
    "    history.append((state, obs, reward, done, info, rews))\n",
    "    alphas_targeting.append(gym.missile.alpha_targeting if abs(gym.missile.alpha_targeting) < gym.missile.alphamax else copysign(gym.missile.alphamax, gym.missile.alpha_targeting))\n",
    "    \n",
    "#     if gym.missile.alpha < 0:\n",
    "#         print(gym.missile.alpha, gym.missile._get_dydt(gym.missile.t, gym.missile.state[:-1])[3])\n",
    "print(info['done_reason'])"
   ]
  },
  {
   "cell_type": "code",
   "execution_count": 225,
   "metadata": {},
   "outputs": [],
   "source": [
    "from tqdm import tqdm_notebook"
   ]
  },
  {
   "cell_type": "code",
   "execution_count": 233,
   "metadata": {},
   "outputs": [
    {
     "name": "stderr",
     "output_type": "stream",
     "text": [
      "d:\\neuro_missile\\env_neuro_missile\\lib\\site-packages\\ipykernel_launcher.py:1: TqdmDeprecationWarning: This function will be removed in tqdm==5.0.0\n",
      "Please use `tqdm.notebook.tqdm` instead of `tqdm.tqdm_notebook`\n",
      "  \"\"\"Entry point for launching an IPython kernel.\n"
     ]
    },
    {
     "data": {
      "application/vnd.jupyter.widget-view+json": {
       "model_id": "62a1515d270e4f69a3f914fcd491de54",
       "version_major": 2,
       "version_minor": 0
      },
      "text/plain": [
       "HBox(children=(FloatProgress(value=0.0, max=10000.0), HTML(value='')))"
      ]
     },
     "metadata": {},
     "output_type": "display_data"
    },
    {
     "name": "stdout",
     "output_type": "stream",
     "text": [
      "\n"
     ]
    }
   ],
   "source": [
    "for i in tqdm_notebook(range(10000)):\n",
    "    agent.learn()"
   ]
  },
  {
   "cell_type": "code",
   "execution_count": 238,
   "metadata": {},
   "outputs": [
    {
     "name": "stdout",
     "output_type": "stream",
     "text": [
      "... loading tetris_bot_eval ....\n",
      "... loading tetris_bot_next ....\n"
     ]
    }
   ],
   "source": [
    "agent.load_models()"
   ]
  }
 ],
 "metadata": {
  "kernelspec": {
   "display_name": "env_neuro_missile",
   "language": "python",
   "name": "env_neuro_missile"
  },
  "language_info": {
   "codemirror_mode": {
    "name": "ipython",
    "version": 3
   },
   "file_extension": ".py",
   "mimetype": "text/x-python",
   "name": "python",
   "nbconvert_exporter": "python",
   "pygments_lexer": "ipython3",
   "version": "3.7.5"
  }
 },
 "nbformat": 4,
 "nbformat_minor": 4
}
