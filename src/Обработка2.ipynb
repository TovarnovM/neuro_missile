{
 "cells": [
  {
   "cell_type": "code",
   "execution_count": 45,
   "metadata": {},
   "outputs": [
    {
     "name": "stdout",
     "output_type": "stream",
     "text": [
      "The autoreload extension is already loaded. To reload it, use:\n",
      "  %reload_ext autoreload\n"
     ]
    }
   ],
   "source": [
    "%load_ext autoreload\n",
    "\n",
    "%autoreload 2"
   ]
  },
  {
   "cell_type": "code",
   "execution_count": 140,
   "metadata": {},
   "outputs": [],
   "source": [
    "from missile_gym import MissileGym"
   ]
  },
  {
   "cell_type": "code",
   "execution_count": 141,
   "metadata": {},
   "outputs": [],
   "source": [
    "from tqdm.notebook import tqdm\n",
    "import numpy as np\n",
    "import matplotlib.pyplot as plt\n",
    "from matplotlib.pylab import figure, subplot2grid\n",
    "# from functional import seq\n",
    "from ipywidgets import interact, interactive, fixed\n",
    "import ipywidgets\n",
    "from math import *\n",
    "# %config InlineBackend.figure_format = 'svg'"
   ]
  },
  {
   "cell_type": "code",
   "execution_count": 142,
   "metadata": {},
   "outputs": [
    {
     "name": "stdout",
     "output_type": "stream",
     "text": [
      "False [-3500  3500]\n",
      "[25.          0.          0.          2.35619449  0.          0.        ]\n",
      "мы попали\n"
     ]
    }
   ],
   "source": [
    "gym = MissileGym.make_simple_scenario((-3500, 3500), (-300, 0), missile_vel_abs=1.0)\n",
    "done = False\n",
    "reward = 0\n",
    "obs = gym.reset()\n",
    "state = gym.get_state()\n",
    "history = []\n",
    "alphas_targeting = []\n",
    "while not done:\n",
    "    rews = []\n",
    "    for a in [-1,0,1]:\n",
    "        obs, reward, done, info = gym.step(a)\n",
    "        rews.append((a, reward))\n",
    "        gym.set_state(state)\n",
    "        \n",
    "    if gym.missile.v > gym.target.v:\n",
    "        action_parallel_guidance = gym.missile.get_action_parallel_guidance(gym.target)\n",
    "    else:\n",
    "        action_parallel_guidance = gym.missile.get_action_chaise_guidance(gym.target)\n",
    "    if -0.5 <= action_parallel_guidance <= 0.5:\n",
    "        action_parallel_guidance = 0\n",
    "    elif action_parallel_guidance < -0.5:\n",
    "        action_parallel_guidance = -1\n",
    "    else:\n",
    "        action_parallel_guidance = 1\n",
    "#     if np.random.random() < 0.5:\n",
    "#         action_parallel_guidance = np.random.choice([-1,0,1])\n",
    "    obs, reward, done, info = gym.step(action_parallel_guidance)\n",
    "    rews.append((action_parallel_guidance, reward))\n",
    "    state = gym.get_state()\n",
    "    history.append((state, obs, reward, done, info, rews))\n",
    "    alphas_targeting.append(gym.missile.alpha_targeting if abs(gym.missile.alpha_targeting) < gym.missile.alphamax else copysign(gym.missile.alphamax, gym.missile.alpha_targeting))\n",
    "    \n",
    "#     if gym.missile.alpha < 0:\n",
    "#         print(gym.missile.alpha, gym.missile._get_dydt(gym.missile.t, gym.missile.state[:-1])[3])\n",
    "print(info['done_reason'])"
   ]
  },
  {
   "cell_type": "code",
   "execution_count": 143,
   "metadata": {},
   "outputs": [],
   "source": [
    "%matplotlib inline"
   ]
  },
  {
   "cell_type": "code",
   "execution_count": 144,
   "metadata": {},
   "outputs": [],
   "source": [
    "def get_an_atau(vel0, vel1, tau):\n",
    "    g = 9.81\n",
    "    vel0 = np.array(vel0)\n",
    "    vel1 = np.array(vel1)\n",
    "    a = (vel1-vel0)/tau - np.array([0, -g])\n",
    "    a_tau = np.dot(a, vel0/np.linalg.norm(vel0)) *  vel0/np.linalg.norm(vel0)\n",
    "    a_n = a - a_tau\n",
    "    return copysign(np.linalg.norm(a_n)/g, np.cross(vel0, a_n)), copysign(np.linalg.norm(a_tau)/g, np.dot(a_tau, vel0))\n",
    "    "
   ]
  },
  {
   "cell_type": "code",
   "execution_count": 145,
   "metadata": {},
   "outputs": [
    {
     "data": {
      "application/vnd.jupyter.widget-view+json": {
       "model_id": "284261b533654103bb3affa3d4fe7915",
       "version_major": 2,
       "version_minor": 0
      },
      "text/plain": [
       "HBox(children=(FloatProgress(value=0.0, max=380.0), HTML(value='')))"
      ]
     },
     "metadata": {},
     "output_type": "display_data"
    },
    {
     "name": "stdout",
     "output_type": "stream",
     "text": [
      "\n"
     ]
    }
   ],
   "source": [
    "mis_xs = []\n",
    "mis_ys = []\n",
    "trg_xs = []\n",
    "trg_ys = []\n",
    "ts = []\n",
    "mis_vs = []\n",
    "trg_vs = []\n",
    "rewards = []\n",
    "rewards_1 = []\n",
    "rewards0 = []\n",
    "rewards1 = []\n",
    "alphas = []\n",
    "trg_vels = []\n",
    "mis_vels = []\n",
    "Qs = []\n",
    "for state, obs, reward, done, info, rews in tqdm(history):\n",
    "    gym.set_state(state)\n",
    "    mis_smry = gym.missile.get_summary()\n",
    "    trg_smry = gym.target.get_summary()\n",
    "    mis_xs.append(mis_smry['x'])\n",
    "    mis_ys.append(mis_smry['y'])\n",
    "    trg_xs.append(trg_smry['x'])\n",
    "    trg_ys.append(trg_smry['y'])\n",
    "    ts.append(mis_smry['t'])\n",
    "    mis_vs.append(mis_smry['v'])\n",
    "    trg_vs.append(trg_smry['v'])\n",
    "    rewards.append(reward)\n",
    "    av = (rews[0][1] + rews[1][1]+ rews[2][1])/3\n",
    "    rewards_1.append(rews[0][1]-av)\n",
    "    rewards0.append(rews[1][1]-av)\n",
    "    rewards1.append(rews[2][1]-av)\n",
    "    alphas.append(mis_smry['alpha'])\n",
    "    Qs.append(mis_smry['Q'])\n",
    "    \n",
    "    trg_vels.append(gym.target.vel)\n",
    "    mis_vels.append(gym.missile.vel)\n",
    "\n",
    "trg_nys = [get_an_atau(v0, v1, t1-t0)[0] for v0, v1, t1, t0 in zip(trg_vels, trg_vels[1:], ts[1:], ts)]\n",
    "trg_nys += [trg_nys[-1]]\n",
    "mis_nys = [get_an_atau(v0, v1, t1-t0)[0] for v0, v1, t1, t0 in zip(mis_vels, mis_vels[1:], ts[1:], ts)]\n",
    "mis_nys += [trg_nys[-1]]\n",
    "\n",
    "trg_nxs = [get_an_atau(v0, v1, t1-t0)[1] for v0, v1, t1, t0 in zip(trg_vels, trg_vels[1:], ts[1:], ts)]\n",
    "trg_nxs += [trg_nxs[-1]]\n",
    "mis_nxs = [get_an_atau(v0, v1, t1-t0)[1] for v0, v1, t1, t0 in zip(mis_vels, mis_vels[1:], ts[1:], ts)]\n",
    "mis_nxs += [trg_nxs[-1]]\n"
   ]
  },
  {
   "cell_type": "code",
   "execution_count": 146,
   "metadata": {},
   "outputs": [
    {
     "data": {
      "application/vnd.jupyter.widget-view+json": {
       "model_id": "fb21ca8d87604ad4b900dbc56e43e8b7",
       "version_major": 2,
       "version_minor": 0
      },
      "text/plain": [
       "interactive(children=(IntSlider(value=379, description='i', max=379), Output()), _dom_classes=('widget-interac…"
      ]
     },
     "metadata": {},
     "output_type": "display_data"
    }
   ],
   "source": [
    "@interact(i=ipywidgets.IntSlider(min=0,max=len(history)-1,step=1, value=len(history)-1))\n",
    "def draw(i):\n",
    "    f0 = figure(num = 0, figsize = (17, 7))\n",
    "    ax01 = subplot2grid((4, 7), (0, 0), colspan=4, rowspan=4)\n",
    "    ax02 = subplot2grid((4, 7), (0, 4), colspan=3, rowspan=1)\n",
    "    ax03 = subplot2grid((4, 7), (1, 4), colspan=3, rowspan=1,sharex=ax02)\n",
    "    ax04 = subplot2grid((4, 7), (2, 4), colspan=3, rowspan=1,sharex=ax02)\n",
    "    ax05 = subplot2grid((4, 7), (3, 4), colspan=3, rowspan=1,sharex=ax02)\n",
    "    f0.subplots_adjust(hspace=0)   \n",
    "    f0.subplots_adjust(wspace=0.7)  \n",
    "    \n",
    "#     state = history[i][0]\n",
    "#     gym.set_state(state)\n",
    "#     gym.render(fig=f0, ax=ax01)\n",
    "    ax01.plot(mis_xs[:i], mis_ys[:i], ls=':')\n",
    "    ax01.plot(trg_xs[:i], trg_ys[:i], ls=':')\n",
    "    ax01.grid(True)\n",
    "    \n",
    "    ax02.plot(ts[:i], mis_vs[:i], label='Скорость ракеты')\n",
    "    ax02.plot(ts[:i], trg_vs[:i], label='Скорость цели')\n",
    "    ax02.legend()\n",
    "    ax02.grid(True)\n",
    "    \n",
    "    ax03.plot(ts[:i], rewards[:i], label='Награда_')\n",
    "    ax03.plot(ts[:i], rewards_1[:i], label='Награда-1')\n",
    "    ax03.plot(ts[:i], rewards0[:i], label='Награда0')\n",
    "    ax03.plot(ts[:i], rewards1[:i], label='Награда1')\n",
    "#     ax03.plot(ts[:i], Qs[:i], label='Q')\n",
    "    ax03.legend()\n",
    "    ax03.grid(True)\n",
    "    \n",
    "    ax04.plot(ts[:i], alphas[:i], label=r'$\\alpha_{текущий}$')\n",
    "    ax04.plot(ts[:i], alphas_targeting[:i], label=r'$\\alpha_{потребный}$', color='y', ls='-')\n",
    "    ax04.legend()\n",
    "    ax04.grid(True)\n",
    "    \n",
    "    ax05.plot(ts[:i], mis_nys[:i], label=r'$n_y$ ракеты', c='b')\n",
    "    ax05.plot(ts[:i], trg_nys[:i], label=r'$n_y$ цели', c='orange')\n",
    "    \n",
    "    ax05.plot(ts[:i], mis_nxs[:i], label=r'$n_x$ ракеты', c='b', ls='--')\n",
    "    ax05.plot(ts[:i], trg_nxs[:i], label=r'$n_x$ цели', c='orange', ls='--')\n",
    "    ax05.legend()\n",
    "    ax05.grid(True)\n",
    "    \n",
    "    plt.show()"
   ]
  },
  {
   "cell_type": "code",
   "execution_count": 91,
   "metadata": {},
   "outputs": [
    {
     "data": {
      "image/png": "[encoded data removed]",
      "text/plain": [
       "<Figure size 432x288 with 1 Axes>"
      ]
     },
     "metadata": {
      "needs_background": "light"
     },
     "output_type": "display_data"
    }
   ],
   "source": [
    "gym.missile.a_itr.plot()"
   ]
  },
  {
   "cell_type": "code",
   "execution_count": 64,
   "metadata": {},
   "outputs": [
    {
     "data": {
      "text/plain": [
       "0.44400641249999995"
      ]
     },
     "execution_count": 64,
     "metadata": {},
     "output_type": "execute_result"
    }
   ],
   "source": []
  },
  {
   "cell_type": "code",
   "execution_count": 9,
   "metadata": {},
   "outputs": [
    {
     "name": "stdout",
     "output_type": "stream",
     "text": [
      "False [-1500   500]\n",
      "[25.         0.         0.         2.8198421  0.         0.       ]\n",
      "Memory buffer get 17.6 MB\n"
     ]
    }
   ],
   "source": [
    "from mybot import Agent\n",
    "\n",
    "\n",
    "env = MissileGym.make_simple_scenario((-1500, 500), (-200, 0), missile_vel_abs=1.0)\n",
    "\n",
    "def action_sample_foo():\n",
    "    gym = env\n",
    "    if gym.missile.v > gym.target.v:\n",
    "        action_parallel_guidance = gym.missile.get_action_parallel_guidance(gym.target)\n",
    "    else:\n",
    "        action_parallel_guidance = gym.missile.get_action_chaise_guidance(gym.target)\n",
    "    if -0.5 <= action_parallel_guidance <= 0.5:\n",
    "        action_parallel_guidance = 0\n",
    "    elif action_parallel_guidance < -0.5:\n",
    "        action_parallel_guidance = -1\n",
    "    else:\n",
    "        action_parallel_guidance = 1\n",
    "    if np.random.random() < 0.7:\n",
    "        action_parallel_guidance = np.random.choice([-1,0,1])\n",
    "    return action_parallel_guidance\n",
    "\n",
    "agent = Agent(obs.shape, 0.99, 0.999, 0.00025, 3, 100000, 64, action_sample_foo, eps_dec=0.000025)\n",
    "    \n",
    "# agent.load_models()\n",
    "\n",
    "fname = 'prigress.png'\n",
    "\n",
    "scores, eps_hist = [], []\n",
    "# hl, = plt.plot(scores, eps_hist)\n",
    "# def update_line():"
   ]
  },
  {
   "cell_type": "code",
   "execution_count": 10,
   "metadata": {},
   "outputs": [
    {
     "name": "stdout",
     "output_type": "stream",
     "text": [
      "epsiode 0  score -62.5   avg_score -62.5   eps 0.9856  mem_cntr 600 слишком долго\n",
      "epsiode 1  score -366.2   avg_score -214.4   eps 0.9784  mem_cntr 886 мы упали\n",
      "epsiode 2  score -46.5   avg_score -158.4   eps 0.9634  mem_cntr 1486 слишком долго\n",
      "epsiode 3  score -344.6   avg_score -204.9   eps 0.9552  mem_cntr 1814 мы упали\n",
      "epsiode 4  score -78.9   avg_score -179.7   eps 0.9402  mem_cntr 2414 слишком долго\n",
      "epsiode 5  score -333.3   avg_score -205.3   eps 0.9300  mem_cntr 2821 мы упали\n",
      "epsiode 6  score -333.9   avg_score -223.7   eps 0.9230  mem_cntr 3102 мы упали\n",
      "epsiode 7  score -112.0   avg_score -209.7   eps 0.9080  mem_cntr 3702 слишком долго\n",
      "epsiode 8  score -378.6   avg_score -228.5   eps 0.9020  mem_cntr 3943 мы упали\n",
      "epsiode 9  score -360.1   avg_score -241.7   eps 0.8944  mem_cntr 4246 мы упали\n",
      "epsiode 10  score -96.6   avg_score -228.5   eps 0.8794  mem_cntr 4846 слишком долго\n",
      "epsiode 11  score -311.1   avg_score -235.3   eps 0.8697  mem_cntr 5235 мы упали\n",
      "epsiode 12  score -368.8   avg_score -245.6   eps 0.8636  mem_cntr 5478 мы упали\n",
      "epsiode 13  score -300.0   avg_score -249.5   eps 0.8541  mem_cntr 5859 мы упали\n",
      "epsiode 14  score -180.1   avg_score -244.9   eps 0.8391  mem_cntr 6459 слишком долго\n",
      "epsiode 15  score -136.8   avg_score -238.1   eps 0.8241  mem_cntr 7059 слишком долго\n",
      "epsiode 16  score -35.8   avg_score -226.2   eps 0.8091  mem_cntr 7659 слишком долго\n",
      "epsiode 17  score -70.6   avg_score -217.6   eps 0.7941  mem_cntr 8259 слишком долго\n",
      "epsiode 18  score -388.9   avg_score -226.6   eps 0.7838  mem_cntr 8670 мы упали\n",
      "epsiode 19  score -120.3   avg_score -221.3   eps 0.7688  mem_cntr 9270 слишком долго\n",
      "epsiode 20  score -440.4   avg_score -231.7   eps 0.7538  mem_cntr 9870 слишком долго\n",
      "epsiode 21  score -411.7   avg_score -239.9   eps 0.7388  mem_cntr 10470 слишком долго\n",
      "epsiode 22  score -198.4   avg_score -238.1   eps 0.7238  mem_cntr 11070 слишком долго\n",
      "epsiode 23  score -447.7   avg_score -246.8   eps 0.7088  mem_cntr 11670 слишком долго\n",
      "epsiode 24  score -613.1   avg_score -261.5   eps 0.6938  mem_cntr 12270 слишком долго\n",
      "epsiode 25  score -1235.3   avg_score -298.9   eps 0.6788  mem_cntr 12870 слишком долго\n",
      "epsiode 26  score -495.1   avg_score -306.2   eps 0.6638  mem_cntr 13470 слишком долго\n",
      "epsiode 27  score -957.0   avg_score -329.4   eps 0.6488  mem_cntr 14070 слишком долго\n",
      "epsiode 28  score -1134.3   avg_score -357.2   eps 0.6338  mem_cntr 14670 слишком долго\n",
      "epsiode 29  score -894.6   avg_score -375.1   eps 0.6188  mem_cntr 15270 слишком долго\n",
      "epsiode 30  score -1250.7   avg_score -403.3   eps 0.6038  mem_cntr 15870 слишком долго\n",
      "epsiode 31  score -1289.7   avg_score -431.0   eps 0.5888  mem_cntr 16470 слишком долго\n",
      "epsiode 32  score -281.2   avg_score -426.5   eps 0.5872  mem_cntr 16534 мы упали\n",
      "epsiode 33  score -298.9   avg_score -422.7   eps 0.5852  mem_cntr 16613 мы упали\n",
      "epsiode 34  score -277.9   avg_score -418.6   eps 0.5837  mem_cntr 16673 мы упали\n",
      "epsiode 35  score -282.3   avg_score -414.8   eps 0.5821  mem_cntr 16738 мы упали\n",
      "epsiode 36  score -1175.7   avg_score -435.4   eps 0.5671  mem_cntr 17338 слишком долго\n",
      "epsiode 37  score -1342.3   avg_score -459.2   eps 0.5521  mem_cntr 17938 слишком долго\n",
      "epsiode 38  score -1234.2   avg_score -479.1   eps 0.5371  mem_cntr 18538 слишком долго\n",
      "epsiode 39  score -1144.2   avg_score -495.7   eps 0.5221  mem_cntr 19138 слишком долго\n",
      "epsiode 40  score -1332.0   avg_score -516.1   eps 0.5071  mem_cntr 19738 слишком долго\n",
      "epsiode 41  score -1424.0   avg_score -537.8   eps 0.4921  mem_cntr 20338 слишком долго\n",
      "epsiode 42  score -1118.8   avg_score -551.3   eps 0.4771  mem_cntr 20938 слишком долго\n",
      "epsiode 43  score -1427.7   avg_score -571.2   eps 0.4621  mem_cntr 21538 слишком долго\n",
      "epsiode 44  score -1246.2   avg_score -586.2   eps 0.4471  mem_cntr 22138 слишком долго\n",
      "epsiode 45  score -1287.6   avg_score -601.4   eps 0.4321  mem_cntr 22738 слишком долго\n",
      "epsiode 46  score -1397.6   avg_score -618.4   eps 0.4171  mem_cntr 23338 слишком долго\n",
      "epsiode 47  score -1165.4   avg_score -629.8   eps 0.4021  mem_cntr 23938 слишком долго\n",
      "epsiode 48  score -754.8   avg_score -632.3   eps 0.3871  mem_cntr 24538 слишком долго\n",
      "epsiode 49  score -944.5   avg_score -638.6   eps 0.3721  mem_cntr 25138 слишком долго\n",
      "epsiode 50  score -953.2   avg_score -644.7   eps 0.3571  mem_cntr 25738 слишком долго\n",
      "epsiode 51  score -1038.5   avg_score -652.3   eps 0.3421  mem_cntr 26338 слишком долго\n",
      "epsiode 52  score -1021.8   avg_score -659.3   eps 0.3271  mem_cntr 26938 слишком долго\n",
      "epsiode 53  score -1026.5   avg_score -666.1   eps 0.3121  mem_cntr 27538 слишком долго\n",
      "epsiode 54  score -925.7   avg_score -670.8   eps 0.2971  mem_cntr 28138 слишком долго\n",
      "epsiode 55  score -1138.9   avg_score -679.2   eps 0.2821  mem_cntr 28738 слишком долго\n",
      "epsiode 56  score -887.1   avg_score -682.8   eps 0.2671  mem_cntr 29338 слишком долго\n",
      "epsiode 57  score -897.8   avg_score -686.5   eps 0.2521  mem_cntr 29938 слишком долго\n",
      "epsiode 58  score -602.2   avg_score -685.1   eps 0.2371  mem_cntr 30538 слишком долго\n",
      "epsiode 59  score -586.2   avg_score -683.4   eps 0.2221  mem_cntr 31138 слишком долго\n",
      "epsiode 60  score -491.6   avg_score -680.3   eps 0.2071  mem_cntr 31738 слишком долго\n",
      "epsiode 61  score -198.3   avg_score -672.5   eps 0.1921  mem_cntr 32338 слишком долго\n",
      "epsiode 62  score -437.1   avg_score -668.8   eps 0.1771  mem_cntr 32938 слишком долго\n",
      "epsiode 63  score -518.5   avg_score -666.4   eps 0.1621  mem_cntr 33538 слишком долго\n",
      "epsiode 64  score -273.5   avg_score -660.4   eps 0.1471  mem_cntr 34138 слишком долго\n",
      "epsiode 65  score -322.7   avg_score -655.3   eps 0.1321  mem_cntr 34738 слишком долго\n",
      "epsiode 66  score -310.7   avg_score -650.1   eps 0.1171  mem_cntr 35338 слишком долго\n",
      "epsiode 67  score -286.2   avg_score -644.8   eps 0.1021  mem_cntr 35938 слишком долго\n",
      "epsiode 68  score -310.9   avg_score -639.9   eps 0.0871  mem_cntr 36538 слишком долго\n",
      "epsiode 69  score -361.5   avg_score -636.0   eps 0.0721  mem_cntr 37138 слишком долго\n",
      "epsiode 70  score -468.2   avg_score -633.6   eps 0.0571  mem_cntr 37738 слишком долго\n",
      "epsiode 71  score -392.9   avg_score -630.3   eps 0.0421  mem_cntr 38338 слишком долго\n",
      "epsiode 72  score -346.7   avg_score -626.4   eps 0.0271  mem_cntr 38938 слишком долго\n",
      "epsiode 73  score -342.5   avg_score -622.5   eps 0.0121  mem_cntr 39538 слишком долго\n",
      "epsiode 74  score -339.6   avg_score -618.8   eps 0.0050  mem_cntr 40138 слишком долго\n",
      "epsiode 75  score -325.9   avg_score -614.9   eps 0.0050  mem_cntr 40738 слишком долго\n",
      "epsiode 76  score -325.2   avg_score -611.1   eps 0.0050  mem_cntr 41338 слишком долго\n",
      "epsiode 77  score -309.8   avg_score -607.3   eps 0.0050  mem_cntr 41938 слишком долго\n",
      "epsiode 78  score -322.9   avg_score -603.7   eps 0.0050  mem_cntr 42538 слишком долго\n",
      "epsiode 79  score -345.1   avg_score -600.5   eps 0.0050  mem_cntr 43138 слишком долго\n",
      "epsiode 80  score -411.6   avg_score -598.1   eps 0.0050  mem_cntr 43738 слишком долго\n",
      "epsiode 81  score -424.7   avg_score -596.0   eps 0.0050  mem_cntr 44338 слишком долго\n",
      "epsiode 82  score -546.3   avg_score -595.4   eps 0.0050  mem_cntr 44938 слишком долго\n",
      "epsiode 83  score -434.3   avg_score -593.5   eps 0.0050  mem_cntr 45538 слишком долго\n",
      "epsiode 84  score -539.3   avg_score -592.9   eps 0.0050  mem_cntr 46138 слишком долго\n",
      "epsiode 85  score -429.8   avg_score -591.0   eps 0.0050  mem_cntr 46738 слишком долго\n",
      "epsiode 86  score -202.5   avg_score -586.5   eps 0.0050  mem_cntr 47338 слишком долго\n",
      "epsiode 87  score -306.6   avg_score -583.3   eps 0.0050  mem_cntr 47938 слишком долго\n",
      "epsiode 88  score -262.2   avg_score -579.7   eps 0.0050  mem_cntr 48538 слишком долго\n",
      "epsiode 89  score -246.0   avg_score -576.0   eps 0.0050  mem_cntr 49138 слишком долго\n",
      "epsiode 90  score -345.1   avg_score -573.5   eps 0.0050  mem_cntr 49738 слишком долго\n",
      "epsiode 91  score -324.9   avg_score -570.8   eps 0.0050  mem_cntr 50338 слишком долго\n",
      "epsiode 92  score -260.6   avg_score -567.4   eps 0.0050  mem_cntr 50938 слишком долго\n",
      "epsiode 93  score -278.5   avg_score -564.3   eps 0.0050  mem_cntr 51538 слишком долго\n",
      "epsiode 94  score -301.6   avg_score -561.6   eps 0.0050  mem_cntr 52138 слишком долго\n",
      "epsiode 95  score -271.7   avg_score -558.6   eps 0.0050  mem_cntr 52738 слишком долго\n",
      "epsiode 96  score -273.3   avg_score -555.6   eps 0.0050  mem_cntr 53338 слишком долго\n",
      "epsiode 97  score -304.0   avg_score -553.1   eps 0.0050  mem_cntr 53938 слишком долго\n",
      "epsiode 98  score -340.1   avg_score -550.9   eps 0.0050  mem_cntr 54538 слишком долго\n",
      "epsiode 99  score -207.0   avg_score -547.5   eps 0.0050  mem_cntr 55138 слишком долго\n",
      "epsiode 100  score -262.2   avg_score -549.5   eps 0.0050  mem_cntr 55738 слишком долго\n",
      "epsiode 101  score -238.8   avg_score -548.2   eps 0.0050  mem_cntr 56338 слишком долго\n",
      "epsiode 102  score -225.1   avg_score -550.0   eps 0.0050  mem_cntr 56938 слишком долго\n",
      "epsiode 103  score -212.3   avg_score -548.6   eps 0.0050  mem_cntr 57538 слишком долго\n",
      "epsiode 104  score -224.5   avg_score -550.1   eps 0.0050  mem_cntr 58138 слишком долго\n",
      "epsiode 105  score -220.5   avg_score -549.0   eps 0.0050  mem_cntr 58738 слишком долго\n",
      "epsiode 106  score -216.2   avg_score -547.8   eps 0.0050  mem_cntr 59338 слишком долго\n",
      "epsiode 107  score -272.6   avg_score -549.4   eps 0.0050  mem_cntr 59938 слишком долго\n",
      "epsiode 108  score -222.6   avg_score -547.8   eps 0.0050  mem_cntr 60538 слишком долго\n",
      "epsiode 109  score -194.3   avg_score -546.2   eps 0.0050  mem_cntr 61138 слишком долго\n",
      "epsiode 110  score -224.8   avg_score -547.5   eps 0.0050  mem_cntr 61738 слишком долго\n",
      "epsiode 111  score -192.3   avg_score -546.3   eps 0.0050  mem_cntr 62338 слишком долго\n",
      "epsiode 112  score -171.9   avg_score -544.3   eps 0.0050  mem_cntr 62938 слишком долго\n",
      "epsiode 113  score -196.1   avg_score -543.3   eps 0.0050  mem_cntr 63538 слишком долго\n",
      "epsiode 114  score -187.6   avg_score -543.3   eps 0.0050  mem_cntr 64138 слишком долго\n",
      "epsiode 115  score -223.0   avg_score -544.2   eps 0.0050  mem_cntr 64738 слишком долго\n",
      "epsiode 116  score -183.1   avg_score -545.7   eps 0.0050  mem_cntr 65338 слишком долго\n",
      "epsiode 117  score -148.6   avg_score -546.5   eps 0.0050  mem_cntr 65938 слишком долго\n",
      "epsiode 118  score -221.9   avg_score -544.8   eps 0.0050  mem_cntr 66538 слишком долго\n",
      "epsiode 119  score -217.7   avg_score -545.8   eps 0.0050  mem_cntr 67138 слишком долго\n",
      "epsiode 120  score -178.9   avg_score -543.2   eps 0.0050  mem_cntr 67738 слишком долго\n",
      "epsiode 121  score -180.3   avg_score -540.8   eps 0.0050  mem_cntr 68338 слишком долго\n",
      "epsiode 122  score -214.7   avg_score -541.0   eps 0.0050  mem_cntr 68938 слишком долго\n",
      "epsiode 123  score -204.6   avg_score -538.6   eps 0.0050  mem_cntr 69538 слишком долго\n",
      "epsiode 124  score -204.9   avg_score -534.5   eps 0.0050  mem_cntr 70138 слишком долго\n",
      "epsiode 125  score -283.3   avg_score -525.0   eps 0.0050  mem_cntr 70738 слишком долго\n",
      "epsiode 126  score -195.8   avg_score -522.0   eps 0.0050  mem_cntr 71338 слишком долго\n",
      "epsiode 127  score -200.8   avg_score -514.4   eps 0.0050  mem_cntr 71938 слишком долго\n",
      "epsiode 128  score -254.1   avg_score -505.6   eps 0.0050  mem_cntr 72538 слишком долго\n",
      "epsiode 129  score -196.0   avg_score -498.6   eps 0.0050  mem_cntr 73138 слишком долго\n",
      "epsiode 130  score -235.8   avg_score -488.5   eps 0.0050  mem_cntr 73738 слишком долго\n",
      "epsiode 131  score -322.2   avg_score -478.8   eps 0.0050  mem_cntr 74338 слишком долго\n",
      "epsiode 132  score -245.1   avg_score -478.4   eps 0.0050  mem_cntr 74938 слишком долго\n",
      "epsiode 133  score -189.8   avg_score -477.3   eps 0.0050  mem_cntr 75538 слишком долго\n",
      "epsiode 134  score -293.2   avg_score -477.5   eps 0.0050  mem_cntr 76138 слишком долго\n",
      "epsiode 135  score -241.8   avg_score -477.1   eps 0.0050  mem_cntr 76738 слишком долго\n",
      "epsiode 136  score -226.5   avg_score -467.6   eps 0.0050  mem_cntr 77338 слишком долго\n",
      "epsiode 137  score -247.0   avg_score -456.7   eps 0.0050  mem_cntr 77938 слишком долго\n",
      "epsiode 138  score -218.0   avg_score -446.5   eps 0.0050  mem_cntr 78538 слишком долго\n",
      "epsiode 139  score -199.2   avg_score -437.0   eps 0.0050  mem_cntr 79138 слишком долго\n",
      "epsiode 140  score -229.0   avg_score -426.0   eps 0.0050  mem_cntr 79738 слишком долго\n",
      "epsiode 141  score -312.1   avg_score -414.9   eps 0.0050  mem_cntr 80338 слишком долго\n",
      "epsiode 142  score -240.7   avg_score -406.1   eps 0.0050  mem_cntr 80938 слишком долго\n",
      "epsiode 143  score -244.0   avg_score -394.3   eps 0.0050  mem_cntr 81538 слишком долго\n",
      "epsiode 144  score -211.0   avg_score -383.9   eps 0.0050  mem_cntr 82138 слишком долго\n",
      "epsiode 145  score -193.2   avg_score -373.0   eps 0.0050  mem_cntr 82738 слишком долго\n",
      "epsiode 146  score -220.3   avg_score -361.2   eps 0.0050  mem_cntr 83338 слишком долго\n",
      "epsiode 147  score -272.0   avg_score -352.3   eps 0.0050  mem_cntr 83938 слишком долго\n",
      "epsiode 148  score -277.5   avg_score -347.5   eps 0.0050  mem_cntr 84538 слишком долго\n",
      "epsiode 149  score -348.7   avg_score -341.5   eps 0.0050  mem_cntr 85138 слишком долго\n",
      "epsiode 150  score -218.4   avg_score -334.2   eps 0.0050  mem_cntr 85738 слишком долго\n",
      "epsiode 151  score -401.0   avg_score -327.8   eps 0.0050  mem_cntr 86338 слишком долго\n",
      "epsiode 152  score -357.5   avg_score -321.2   eps 0.0050  mem_cntr 86938 слишком долго\n",
      "epsiode 153  score -381.9   avg_score -314.7   eps 0.0050  mem_cntr 87538 слишком долго\n",
      "epsiode 154  score -346.4   avg_score -308.9   eps 0.0050  mem_cntr 88138 слишком долго\n",
      "epsiode 155  score -277.1   avg_score -300.3   eps 0.0050  mem_cntr 88738 слишком долго\n",
      "epsiode 156  score -214.9   avg_score -293.6   eps 0.0050  mem_cntr 89338 слишком долго\n",
      "epsiode 157  score -315.6   avg_score -287.8   eps 0.0050  mem_cntr 89938 слишком долго\n",
      "epsiode 158  score -282.6   avg_score -284.6   eps 0.0050  mem_cntr 90538 слишком долго\n",
      "epsiode 159  score -274.0   avg_score -281.5   eps 0.0050  mem_cntr 91138 слишком долго\n",
      "epsiode 160  score -203.2   avg_score -278.6   eps 0.0050  mem_cntr 91738 слишком долго\n",
      "epsiode 161  score -186.5   avg_score -278.5   eps 0.0050  mem_cntr 92338 слишком долго\n",
      "epsiode 162  score -288.7   avg_score -277.0   eps 0.0050  mem_cntr 92938 слишком долго\n",
      "epsiode 163  score -124.6   avg_score -273.0   eps 0.0050  mem_cntr 93538 слишком долго\n",
      "epsiode 164  score -248.4   avg_score -272.8   eps 0.0050  mem_cntr 94138 слишком долго\n",
      "epsiode 165  score -277.3   avg_score -272.3   eps 0.0050  mem_cntr 94738 слишком долго\n",
      "epsiode 166  score -279.6   avg_score -272.0   eps 0.0050  mem_cntr 95338 слишком долго\n",
      "epsiode 167  score -228.0   avg_score -271.4   eps 0.0050  mem_cntr 95938 слишком долго\n",
      "epsiode 168  score -164.3   avg_score -270.0   eps 0.0050  mem_cntr 96538 слишком долго\n",
      "epsiode 169  score -213.5   avg_score -268.5   eps 0.0050  mem_cntr 97138 слишком долго\n",
      "epsiode 170  score -195.3   avg_score -265.8   eps 0.0050  mem_cntr 97738 слишком долго\n",
      "epsiode 171  score -234.2   avg_score -264.2   eps 0.0050  mem_cntr 98338 слишком долго\n",
      "epsiode 172  score -272.6   avg_score -263.4   eps 0.0050  mem_cntr 98938 слишком долго\n",
      "epsiode 173  score -577.2   avg_score -265.8   eps 0.0050  mem_cntr 99538 слишком долго\n",
      "epsiode 174  score -460.0   avg_score -267.0   eps 0.0050  mem_cntr 100138 слишком долго\n",
      "epsiode 175  score -330.6   avg_score -267.0   eps 0.0050  mem_cntr 100738 слишком долго\n",
      "epsiode 176  score -383.8   avg_score -267.6   eps 0.0050  mem_cntr 101338 слишком долго\n",
      "epsiode 177  score -352.3   avg_score -268.0   eps 0.0050  mem_cntr 101938 слишком долго\n",
      "epsiode 178  score -473.1   avg_score -269.5   eps 0.0050  mem_cntr 102538 слишком долго\n",
      "epsiode 179  score -483.3   avg_score -270.9   eps 0.0050  mem_cntr 103138 слишком долго\n",
      "epsiode 180  score -1013.8   avg_score -276.9   eps 0.0050  mem_cntr 103738 слишком долго\n",
      "epsiode 181  score -352.0   avg_score -276.2   eps 0.0050  mem_cntr 104338 слишком долго\n",
      "epsiode 182  score -967.6   avg_score -280.4   eps 0.0050  mem_cntr 104938 слишком долго\n",
      "epsiode 183  score -1186.4   avg_score -288.0   eps 0.0050  mem_cntr 105538 слишком долго\n",
      "epsiode 184  score -602.4   avg_score -288.6   eps 0.0050  mem_cntr 106138 слишком долго\n",
      "epsiode 185  score -801.2   avg_score -292.3   eps 0.0050  mem_cntr 106738 слишком долго\n",
      "epsiode 186  score -894.0   avg_score -299.2   eps 0.0050  mem_cntr 107338 слишком долго\n",
      "epsiode 187  score -699.4   avg_score -303.1   eps 0.0050  mem_cntr 107938 слишком долго\n",
      "epsiode 188  score -837.4   avg_score -308.9   eps 0.0050  mem_cntr 108538 слишком долго\n",
      "epsiode 189  score -827.6   avg_score -314.7   eps 0.0050  mem_cntr 109138 слишком долго\n",
      "epsiode 190  score -697.2   avg_score -318.2   eps 0.0050  mem_cntr 109738 слишком долго\n",
      "epsiode 191  score -430.2   avg_score -319.3   eps 0.0050  mem_cntr 110338 слишком долго\n",
      "epsiode 192  score -533.2   avg_score -322.0   eps 0.0050  mem_cntr 110938 слишком долго\n",
      "epsiode 193  score -717.1   avg_score -326.4   eps 0.0050  mem_cntr 111538 слишком долго\n",
      "epsiode 194  score -886.1   avg_score -332.2   eps 0.0050  mem_cntr 112138 слишком долго\n",
      "epsiode 195  score -901.5   avg_score -338.5   eps 0.0050  mem_cntr 112738 слишком долго\n",
      "epsiode 196  score -1397.7   avg_score -349.8   eps 0.0050  mem_cntr 113338 слишком долго\n",
      "epsiode 197  score -1120.8   avg_score -358.0   eps 0.0050  mem_cntr 113938 слишком долго\n",
      "epsiode 198  score -654.4   avg_score -361.1   eps 0.0050  mem_cntr 114538 слишком долго\n",
      "epsiode 199  score -468.5   avg_score -363.7   eps 0.0050  mem_cntr 115138 слишком долго\n"
     ]
    },
    {
     "data": {
      "image/png": "[encoded data removed]",
      "text/plain": [
       "<Figure size 432x288 with 1 Axes>"
      ]
     },
     "metadata": {
      "needs_background": "light"
     },
     "output_type": "display_data"
    }
   ],
   "source": [
    "num_games = 200\n",
    "\n",
    "for i in range(num_games):\n",
    "    done = False\n",
    "    state = env.reset()\n",
    "    score = 0\n",
    "\n",
    "    while not done:\n",
    "        action = agent.choose_action(state[np.newaxis,:])\n",
    "        state_, reward, done, info = env.step(action)\n",
    "        score +=  reward\n",
    "        agent.store_transaction(state, action+1, reward, state_, done)\n",
    "        agent.learn()\n",
    "        state = state_\n",
    "    scores.append(score)\n",
    "    avg_score = np.mean(scores[-100:])\n",
    "    print(f'epsiode {i}  score {score:.1f}   avg_score {avg_score:.1f}   eps {agent.epsilon:.4f}  mem_cntr {agent.memory.mem_cntr} {info[\"done_reason\"]}')\n",
    "    eps_hist.append(agent.epsilon)\n",
    "plt.plot(scores)\n",
    "plt.plot(eps_hist)\n",
    "plt.grid(True)\n",
    "plt.show()"
   ]
  },
  {
   "cell_type": "code",
   "execution_count": 11,
   "metadata": {},
   "outputs": [
    {
     "name": "stdout",
     "output_type": "stream",
     "text": [
      "False [-1500   500]\n",
      "[25.         0.         0.         2.8198421  0.         0.       ]\n",
      "слишком долго\n"
     ]
    }
   ],
   "source": [
    "gym = MissileGym.make_simple_scenario((-1500, 500), (-200, 0), missile_vel_abs=1.0)\n",
    "done = False\n",
    "reward = 0\n",
    "obs = gym.reset()\n",
    "state = gym.get_state()\n",
    "history = []\n",
    "alphas_targeting = []\n",
    "while not done:    \n",
    "    action_parallel_guidance = agent.choose_action(obs[np.newaxis,:])\n",
    "    obs, reward, done, info = gym.step(action_parallel_guidance)\n",
    "    rews.append((action_parallel_guidance, reward))\n",
    "    state = gym.get_state()\n",
    "    rews = [(-1,reward),(0,reward),(1,reward),(1,reward)]\n",
    "    history.append((state, obs, reward, done, info, rews))\n",
    "    alphas_targeting.append(gym.missile.alpha_targeting if abs(gym.missile.alpha_targeting) < gym.missile.alphamax else copysign(gym.missile.alphamax, gym.missile.alpha_targeting))\n",
    "    \n",
    "#     if gym.missile.alpha < 0:\n",
    "#         print(gym.missile.alpha, gym.missile._get_dydt(gym.missile.t, gym.missile.state[:-1])[3])\n",
    "print(info['done_reason'])"
   ]
  },
  {
   "cell_type": "code",
   "execution_count": 12,
   "metadata": {},
   "outputs": [],
   "source": [
    "from tqdm import tqdm_notebook"
   ]
  },
  {
   "cell_type": "code",
   "execution_count": 13,
   "metadata": {},
   "outputs": [
    {
     "name": "stderr",
     "output_type": "stream",
     "text": [
      "E:\\Anaconda3\\lib\\site-packages\\ipykernel_launcher.py:1: TqdmDeprecationWarning: This function will be removed in tqdm==5.0.0\n",
      "Please use `tqdm.notebook.tqdm` instead of `tqdm.tqdm_notebook`\n",
      "  \"\"\"Entry point for launching an IPython kernel.\n"
     ]
    },
    {
     "data": {
      "application/vnd.jupyter.widget-view+json": {
       "model_id": "e175dd6ad01d497e8d92d8dba010a1be",
       "version_major": 2,
       "version_minor": 0
      },
      "text/plain": [
       "HBox(children=(FloatProgress(value=0.0, max=10000.0), HTML(value='')))"
      ]
     },
     "metadata": {},
     "output_type": "display_data"
    },
    {
     "name": "stdout",
     "output_type": "stream",
     "text": [
      "\n"
     ]
    }
   ],
   "source": [
    "for i in tqdm_notebook(range(10000)):\n",
    "    agent.learn()"
   ]
  },
  {
   "cell_type": "code",
   "execution_count": 14,
   "metadata": {},
   "outputs": [
    {
     "name": "stdout",
     "output_type": "stream",
     "text": [
      "... loading tetris_bot_eval ....\n"
     ]
    },
    {
     "ename": "RuntimeError",
     "evalue": "Attempting to deserialize object on a CUDA device but torch.cuda.is_available() is False. If you are running on a CPU-only machine, please use torch.load with map_location=torch.device('cpu') to map your storages to the CPU.",
     "output_type": "error",
     "traceback": [
      "\u001b[1;31m---------------------------------------------------------------------------\u001b[0m",
      "\u001b[1;31mRuntimeError\u001b[0m                              Traceback (most recent call last)",
      "\u001b[1;32m<ipython-input-14-9be0aeaa6890>\u001b[0m in \u001b[0;36m<module>\u001b[1;34m\u001b[0m\n\u001b[1;32m----> 1\u001b[1;33m \u001b[0magent\u001b[0m\u001b[1;33m.\u001b[0m\u001b[0mload_models\u001b[0m\u001b[1;33m(\u001b[0m\u001b[1;33m)\u001b[0m\u001b[1;33m\u001b[0m\u001b[1;33m\u001b[0m\u001b[0m\n\u001b[0m",
      "\u001b[1;32m~\\Desktop\\neuro_missile\\src\\mybot.py\u001b[0m in \u001b[0;36mload_models\u001b[1;34m(self)\u001b[0m\n\u001b[0;32m    180\u001b[0m \u001b[1;33m\u001b[0m\u001b[0m\n\u001b[0;32m    181\u001b[0m     \u001b[1;32mdef\u001b[0m \u001b[0mload_models\u001b[0m\u001b[1;33m(\u001b[0m\u001b[0mself\u001b[0m\u001b[1;33m)\u001b[0m\u001b[1;33m:\u001b[0m\u001b[1;33m\u001b[0m\u001b[1;33m\u001b[0m\u001b[0m\n\u001b[1;32m--> 182\u001b[1;33m         \u001b[0mself\u001b[0m\u001b[1;33m.\u001b[0m\u001b[0mq_eval\u001b[0m\u001b[1;33m.\u001b[0m\u001b[0mload_checkpoint\u001b[0m\u001b[1;33m(\u001b[0m\u001b[1;33m)\u001b[0m\u001b[1;33m\u001b[0m\u001b[1;33m\u001b[0m\u001b[0m\n\u001b[0m\u001b[0;32m    183\u001b[0m         \u001b[0mself\u001b[0m\u001b[1;33m.\u001b[0m\u001b[0mq_next\u001b[0m\u001b[1;33m.\u001b[0m\u001b[0mload_checkpoint\u001b[0m\u001b[1;33m(\u001b[0m\u001b[1;33m)\u001b[0m\u001b[1;33m\u001b[0m\u001b[1;33m\u001b[0m\u001b[0m\n\u001b[0;32m    184\u001b[0m \u001b[1;33m\u001b[0m\u001b[0m\n",
      "\u001b[1;32m~\\Desktop\\neuro_missile\\src\\mybot.py\u001b[0m in \u001b[0;36mload_checkpoint\u001b[1;34m(self)\u001b[0m\n\u001b[0;32m    128\u001b[0m     \u001b[1;32mdef\u001b[0m \u001b[0mload_checkpoint\u001b[0m\u001b[1;33m(\u001b[0m\u001b[0mself\u001b[0m\u001b[1;33m)\u001b[0m\u001b[1;33m:\u001b[0m\u001b[1;33m\u001b[0m\u001b[1;33m\u001b[0m\u001b[0m\n\u001b[0;32m    129\u001b[0m         \u001b[0mprint\u001b[0m\u001b[1;33m(\u001b[0m\u001b[1;34mf'... loading {self.name} ....'\u001b[0m\u001b[1;33m)\u001b[0m\u001b[1;33m\u001b[0m\u001b[1;33m\u001b[0m\u001b[0m\n\u001b[1;32m--> 130\u001b[1;33m         \u001b[0mself\u001b[0m\u001b[1;33m.\u001b[0m\u001b[0mload_state_dict\u001b[0m\u001b[1;33m(\u001b[0m\u001b[0mT\u001b[0m\u001b[1;33m.\u001b[0m\u001b[0mload\u001b[0m\u001b[1;33m(\u001b[0m\u001b[0mself\u001b[0m\u001b[1;33m.\u001b[0m\u001b[0mchkpt_file\u001b[0m\u001b[1;33m)\u001b[0m\u001b[1;33m)\u001b[0m\u001b[1;33m\u001b[0m\u001b[1;33m\u001b[0m\u001b[0m\n\u001b[0m\u001b[0;32m    131\u001b[0m \u001b[1;33m\u001b[0m\u001b[0m\n\u001b[0;32m    132\u001b[0m \u001b[1;33m\u001b[0m\u001b[0m\n",
      "\u001b[1;32mE:\\Anaconda3\\lib\\site-packages\\torch\\serialization.py\u001b[0m in \u001b[0;36mload\u001b[1;34m(f, map_location, pickle_module, **pickle_load_args)\u001b[0m\n\u001b[0;32m    424\u001b[0m         \u001b[1;32mif\u001b[0m \u001b[0msys\u001b[0m\u001b[1;33m.\u001b[0m\u001b[0mversion_info\u001b[0m \u001b[1;33m>=\u001b[0m \u001b[1;33m(\u001b[0m\u001b[1;36m3\u001b[0m\u001b[1;33m,\u001b[0m \u001b[1;36m0\u001b[0m\u001b[1;33m)\u001b[0m \u001b[1;32mand\u001b[0m \u001b[1;34m'encoding'\u001b[0m \u001b[1;32mnot\u001b[0m \u001b[1;32min\u001b[0m \u001b[0mpickle_load_args\u001b[0m\u001b[1;33m.\u001b[0m\u001b[0mkeys\u001b[0m\u001b[1;33m(\u001b[0m\u001b[1;33m)\u001b[0m\u001b[1;33m:\u001b[0m\u001b[1;33m\u001b[0m\u001b[1;33m\u001b[0m\u001b[0m\n\u001b[0;32m    425\u001b[0m             \u001b[0mpickle_load_args\u001b[0m\u001b[1;33m[\u001b[0m\u001b[1;34m'encoding'\u001b[0m\u001b[1;33m]\u001b[0m \u001b[1;33m=\u001b[0m \u001b[1;34m'utf-8'\u001b[0m\u001b[1;33m\u001b[0m\u001b[1;33m\u001b[0m\u001b[0m\n\u001b[1;32m--> 426\u001b[1;33m         \u001b[1;32mreturn\u001b[0m \u001b[0m_load\u001b[0m\u001b[1;33m(\u001b[0m\u001b[0mf\u001b[0m\u001b[1;33m,\u001b[0m \u001b[0mmap_location\u001b[0m\u001b[1;33m,\u001b[0m \u001b[0mpickle_module\u001b[0m\u001b[1;33m,\u001b[0m \u001b[1;33m**\u001b[0m\u001b[0mpickle_load_args\u001b[0m\u001b[1;33m)\u001b[0m\u001b[1;33m\u001b[0m\u001b[1;33m\u001b[0m\u001b[0m\n\u001b[0m\u001b[0;32m    427\u001b[0m     \u001b[1;32mfinally\u001b[0m\u001b[1;33m:\u001b[0m\u001b[1;33m\u001b[0m\u001b[1;33m\u001b[0m\u001b[0m\n\u001b[0;32m    428\u001b[0m         \u001b[1;32mif\u001b[0m \u001b[0mnew_fd\u001b[0m\u001b[1;33m:\u001b[0m\u001b[1;33m\u001b[0m\u001b[1;33m\u001b[0m\u001b[0m\n",
      "\u001b[1;32mE:\\Anaconda3\\lib\\site-packages\\torch\\serialization.py\u001b[0m in \u001b[0;36m_load\u001b[1;34m(f, map_location, pickle_module, **pickle_load_args)\u001b[0m\n\u001b[0;32m    611\u001b[0m     \u001b[0munpickler\u001b[0m \u001b[1;33m=\u001b[0m \u001b[0mpickle_module\u001b[0m\u001b[1;33m.\u001b[0m\u001b[0mUnpickler\u001b[0m\u001b[1;33m(\u001b[0m\u001b[0mf\u001b[0m\u001b[1;33m,\u001b[0m \u001b[1;33m**\u001b[0m\u001b[0mpickle_load_args\u001b[0m\u001b[1;33m)\u001b[0m\u001b[1;33m\u001b[0m\u001b[1;33m\u001b[0m\u001b[0m\n\u001b[0;32m    612\u001b[0m     \u001b[0munpickler\u001b[0m\u001b[1;33m.\u001b[0m\u001b[0mpersistent_load\u001b[0m \u001b[1;33m=\u001b[0m \u001b[0mpersistent_load\u001b[0m\u001b[1;33m\u001b[0m\u001b[1;33m\u001b[0m\u001b[0m\n\u001b[1;32m--> 613\u001b[1;33m     \u001b[0mresult\u001b[0m \u001b[1;33m=\u001b[0m \u001b[0munpickler\u001b[0m\u001b[1;33m.\u001b[0m\u001b[0mload\u001b[0m\u001b[1;33m(\u001b[0m\u001b[1;33m)\u001b[0m\u001b[1;33m\u001b[0m\u001b[1;33m\u001b[0m\u001b[0m\n\u001b[0m\u001b[0;32m    614\u001b[0m \u001b[1;33m\u001b[0m\u001b[0m\n\u001b[0;32m    615\u001b[0m     \u001b[0mdeserialized_storage_keys\u001b[0m \u001b[1;33m=\u001b[0m \u001b[0mpickle_module\u001b[0m\u001b[1;33m.\u001b[0m\u001b[0mload\u001b[0m\u001b[1;33m(\u001b[0m\u001b[0mf\u001b[0m\u001b[1;33m,\u001b[0m \u001b[1;33m**\u001b[0m\u001b[0mpickle_load_args\u001b[0m\u001b[1;33m)\u001b[0m\u001b[1;33m\u001b[0m\u001b[1;33m\u001b[0m\u001b[0m\n",
      "\u001b[1;32mE:\\Anaconda3\\lib\\site-packages\\torch\\serialization.py\u001b[0m in \u001b[0;36mpersistent_load\u001b[1;34m(saved_id)\u001b[0m\n\u001b[0;32m    574\u001b[0m                 \u001b[0mobj\u001b[0m \u001b[1;33m=\u001b[0m \u001b[0mdata_type\u001b[0m\u001b[1;33m(\u001b[0m\u001b[0msize\u001b[0m\u001b[1;33m)\u001b[0m\u001b[1;33m\u001b[0m\u001b[1;33m\u001b[0m\u001b[0m\n\u001b[0;32m    575\u001b[0m                 \u001b[0mobj\u001b[0m\u001b[1;33m.\u001b[0m\u001b[0m_torch_load_uninitialized\u001b[0m \u001b[1;33m=\u001b[0m \u001b[1;32mTrue\u001b[0m\u001b[1;33m\u001b[0m\u001b[1;33m\u001b[0m\u001b[0m\n\u001b[1;32m--> 576\u001b[1;33m                 \u001b[0mdeserialized_objects\u001b[0m\u001b[1;33m[\u001b[0m\u001b[0mroot_key\u001b[0m\u001b[1;33m]\u001b[0m \u001b[1;33m=\u001b[0m \u001b[0mrestore_location\u001b[0m\u001b[1;33m(\u001b[0m\u001b[0mobj\u001b[0m\u001b[1;33m,\u001b[0m \u001b[0mlocation\u001b[0m\u001b[1;33m)\u001b[0m\u001b[1;33m\u001b[0m\u001b[1;33m\u001b[0m\u001b[0m\n\u001b[0m\u001b[0;32m    577\u001b[0m             \u001b[0mstorage\u001b[0m \u001b[1;33m=\u001b[0m \u001b[0mdeserialized_objects\u001b[0m\u001b[1;33m[\u001b[0m\u001b[0mroot_key\u001b[0m\u001b[1;33m]\u001b[0m\u001b[1;33m\u001b[0m\u001b[1;33m\u001b[0m\u001b[0m\n\u001b[0;32m    578\u001b[0m             \u001b[1;32mif\u001b[0m \u001b[0mview_metadata\u001b[0m \u001b[1;32mis\u001b[0m \u001b[1;32mnot\u001b[0m \u001b[1;32mNone\u001b[0m\u001b[1;33m:\u001b[0m\u001b[1;33m\u001b[0m\u001b[1;33m\u001b[0m\u001b[0m\n",
      "\u001b[1;32mE:\\Anaconda3\\lib\\site-packages\\torch\\serialization.py\u001b[0m in \u001b[0;36mdefault_restore_location\u001b[1;34m(storage, location)\u001b[0m\n\u001b[0;32m    153\u001b[0m \u001b[1;32mdef\u001b[0m \u001b[0mdefault_restore_location\u001b[0m\u001b[1;33m(\u001b[0m\u001b[0mstorage\u001b[0m\u001b[1;33m,\u001b[0m \u001b[0mlocation\u001b[0m\u001b[1;33m)\u001b[0m\u001b[1;33m:\u001b[0m\u001b[1;33m\u001b[0m\u001b[1;33m\u001b[0m\u001b[0m\n\u001b[0;32m    154\u001b[0m     \u001b[1;32mfor\u001b[0m \u001b[0m_\u001b[0m\u001b[1;33m,\u001b[0m \u001b[0m_\u001b[0m\u001b[1;33m,\u001b[0m \u001b[0mfn\u001b[0m \u001b[1;32min\u001b[0m \u001b[0m_package_registry\u001b[0m\u001b[1;33m:\u001b[0m\u001b[1;33m\u001b[0m\u001b[1;33m\u001b[0m\u001b[0m\n\u001b[1;32m--> 155\u001b[1;33m         \u001b[0mresult\u001b[0m \u001b[1;33m=\u001b[0m \u001b[0mfn\u001b[0m\u001b[1;33m(\u001b[0m\u001b[0mstorage\u001b[0m\u001b[1;33m,\u001b[0m \u001b[0mlocation\u001b[0m\u001b[1;33m)\u001b[0m\u001b[1;33m\u001b[0m\u001b[1;33m\u001b[0m\u001b[0m\n\u001b[0m\u001b[0;32m    156\u001b[0m         \u001b[1;32mif\u001b[0m \u001b[0mresult\u001b[0m \u001b[1;32mis\u001b[0m \u001b[1;32mnot\u001b[0m \u001b[1;32mNone\u001b[0m\u001b[1;33m:\u001b[0m\u001b[1;33m\u001b[0m\u001b[1;33m\u001b[0m\u001b[0m\n\u001b[0;32m    157\u001b[0m             \u001b[1;32mreturn\u001b[0m \u001b[0mresult\u001b[0m\u001b[1;33m\u001b[0m\u001b[1;33m\u001b[0m\u001b[0m\n",
      "\u001b[1;32mE:\\Anaconda3\\lib\\site-packages\\torch\\serialization.py\u001b[0m in \u001b[0;36m_cuda_deserialize\u001b[1;34m(obj, location)\u001b[0m\n\u001b[0;32m    129\u001b[0m \u001b[1;32mdef\u001b[0m \u001b[0m_cuda_deserialize\u001b[0m\u001b[1;33m(\u001b[0m\u001b[0mobj\u001b[0m\u001b[1;33m,\u001b[0m \u001b[0mlocation\u001b[0m\u001b[1;33m)\u001b[0m\u001b[1;33m:\u001b[0m\u001b[1;33m\u001b[0m\u001b[1;33m\u001b[0m\u001b[0m\n\u001b[0;32m    130\u001b[0m     \u001b[1;32mif\u001b[0m \u001b[0mlocation\u001b[0m\u001b[1;33m.\u001b[0m\u001b[0mstartswith\u001b[0m\u001b[1;33m(\u001b[0m\u001b[1;34m'cuda'\u001b[0m\u001b[1;33m)\u001b[0m\u001b[1;33m:\u001b[0m\u001b[1;33m\u001b[0m\u001b[1;33m\u001b[0m\u001b[0m\n\u001b[1;32m--> 131\u001b[1;33m         \u001b[0mdevice\u001b[0m \u001b[1;33m=\u001b[0m \u001b[0mvalidate_cuda_device\u001b[0m\u001b[1;33m(\u001b[0m\u001b[0mlocation\u001b[0m\u001b[1;33m)\u001b[0m\u001b[1;33m\u001b[0m\u001b[1;33m\u001b[0m\u001b[0m\n\u001b[0m\u001b[0;32m    132\u001b[0m         \u001b[1;32mif\u001b[0m \u001b[0mgetattr\u001b[0m\u001b[1;33m(\u001b[0m\u001b[0mobj\u001b[0m\u001b[1;33m,\u001b[0m \u001b[1;34m\"_torch_load_uninitialized\"\u001b[0m\u001b[1;33m,\u001b[0m \u001b[1;32mFalse\u001b[0m\u001b[1;33m)\u001b[0m\u001b[1;33m:\u001b[0m\u001b[1;33m\u001b[0m\u001b[1;33m\u001b[0m\u001b[0m\n\u001b[0;32m    133\u001b[0m             \u001b[0mstorage_type\u001b[0m \u001b[1;33m=\u001b[0m \u001b[0mgetattr\u001b[0m\u001b[1;33m(\u001b[0m\u001b[0mtorch\u001b[0m\u001b[1;33m.\u001b[0m\u001b[0mcuda\u001b[0m\u001b[1;33m,\u001b[0m \u001b[0mtype\u001b[0m\u001b[1;33m(\u001b[0m\u001b[0mobj\u001b[0m\u001b[1;33m)\u001b[0m\u001b[1;33m.\u001b[0m\u001b[0m__name__\u001b[0m\u001b[1;33m)\u001b[0m\u001b[1;33m\u001b[0m\u001b[1;33m\u001b[0m\u001b[0m\n",
      "\u001b[1;32mE:\\Anaconda3\\lib\\site-packages\\torch\\serialization.py\u001b[0m in \u001b[0;36mvalidate_cuda_device\u001b[1;34m(location)\u001b[0m\n\u001b[0;32m    113\u001b[0m \u001b[1;33m\u001b[0m\u001b[0m\n\u001b[0;32m    114\u001b[0m     \u001b[1;32mif\u001b[0m \u001b[1;32mnot\u001b[0m \u001b[0mtorch\u001b[0m\u001b[1;33m.\u001b[0m\u001b[0mcuda\u001b[0m\u001b[1;33m.\u001b[0m\u001b[0mis_available\u001b[0m\u001b[1;33m(\u001b[0m\u001b[1;33m)\u001b[0m\u001b[1;33m:\u001b[0m\u001b[1;33m\u001b[0m\u001b[1;33m\u001b[0m\u001b[0m\n\u001b[1;32m--> 115\u001b[1;33m         raise RuntimeError('Attempting to deserialize object on a CUDA '\n\u001b[0m\u001b[0;32m    116\u001b[0m                            \u001b[1;34m'device but torch.cuda.is_available() is False. '\u001b[0m\u001b[1;33m\u001b[0m\u001b[1;33m\u001b[0m\u001b[0m\n\u001b[0;32m    117\u001b[0m                            \u001b[1;34m'If you are running on a CPU-only machine, '\u001b[0m\u001b[1;33m\u001b[0m\u001b[1;33m\u001b[0m\u001b[0m\n",
      "\u001b[1;31mRuntimeError\u001b[0m: Attempting to deserialize object on a CUDA device but torch.cuda.is_available() is False. If you are running on a CPU-only machine, please use torch.load with map_location=torch.device('cpu') to map your storages to the CPU."
     ]
    }
   ],
   "source": [
    "agent.load_models()"
   ]
  },
  {
   "cell_type": "code",
   "execution_count": null,
   "metadata": {},
   "outputs": [],
   "source": [
    "np.arra"
   ]
  }
 ],
 "metadata": {
  "kernelspec": {
   "display_name": "env_neuro_missile",
   "language": "python",
   "name": "env_neuro_missile"
  },
  "language_info": {
   "codemirror_mode": {
    "name": "ipython",
    "version": 3
   },
   "file_extension": ".py",
   "mimetype": "text/x-python",
   "name": "python",
   "nbconvert_exporter": "python",
   "pygments_lexer": "ipython3",
   "version": "3.7.5"
  }
 },
 "nbformat": 4,
 "nbformat_minor": 4
}
