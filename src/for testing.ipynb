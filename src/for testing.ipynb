{
 "cells": [
  {
   "cell_type": "code",
   "execution_count": 45,
   "metadata": {},
   "outputs": [
    {
     "name": "stdout",
     "output_type": "stream",
     "text": [
      "The autoreload extension is already loaded. To reload it, use:\n",
      "  %reload_ext autoreload\n"
     ]
    }
   ],
   "source": [
    "%load_ext autoreload\n",
    "\n",
    "%autoreload 2"
   ]
  },
  {
   "cell_type": "code",
   "execution_count": 46,
   "metadata": {},
   "outputs": [],
   "source": [
    "from missile_gym import MissileGym"
   ]
  },
  {
   "cell_type": "code",
   "execution_count": 101,
   "metadata": {},
   "outputs": [],
   "source": [
    "from tqdm.notebook import tqdm\n",
    "import numpy as np\n",
    "import matplotlib.pyplot as plt\n",
    "from matplotlib.pylab import figure, subplot2grid\n",
    "from functional import seq\n",
    "from ipywidgets import interact, interactive, fixed\n",
    "import ipywidgets\n",
    "from math import *\n",
    "%config InlineBackend.figure_format = 'svg'"
   ]
  },
  {
   "cell_type": "code",
   "execution_count": 102,
   "metadata": {},
   "outputs": [
    {
     "name": "stdout",
     "output_type": "stream",
     "text": [
      "мы попали\n"
     ]
    }
   ],
   "source": [
    "gym = MissileGym.make('standart')\n",
    "done = False\n",
    "reward = 0\n",
    "obs = gym.reset()\n",
    "state = gym.get_state()\n",
    "history = [(state, obs, 0, done, {})]\n",
    "alphas_targeting = [0]\n",
    "while not done:\n",
    "    obs, reward, done, info = gym.step_with_guidance()\n",
    "    state = gym.get_state()\n",
    "    history.append((state, obs, reward, done, info))\n",
    "    alphas_targeting.append(gym.missile.alpha_targeting if abs(gym.missile.alpha_targeting) < gym.missile.alphamax else copysign(gym.missile.alphamax, gym.missile.alpha_targeting))\n",
    "print(info['done_reason'])"
   ]
  },
  {
   "cell_type": "code",
   "execution_count": 116,
   "metadata": {},
   "outputs": [],
   "source": [
    "def get_an_atau(vel0, vel1, tau):\n",
    "    g = 9.81\n",
    "    vel0 = np.array(vel0)\n",
    "    vel1 = np.array(vel1)\n",
    "    a = (vel1-vel0)/tau - np.array([0, -g])\n",
    "    a_tau = np.dot(a, vel0/np.linalg.norm(vel0)) *  vel0/np.linalg.norm(vel0)\n",
    "    a_n = a - a_tau\n",
    "    return np.linalg.norm(a_n)/g, copysign(np.linalg.norm(a_tau)/g, np.dot(a_tau, vel0))\n",
    "    "
   ]
  },
  {
   "cell_type": "code",
   "execution_count": 117,
   "metadata": {},
   "outputs": [
    {
     "data": {
      "application/vnd.jupyter.widget-view+json": {
       "model_id": "5bbe27eab7ca4dd09d8d4ad6153a0b7c",
       "version_major": 2,
       "version_minor": 0
      },
      "text/plain": [
       "HBox(children=(FloatProgress(value=0.0, max=192.0), HTML(value='')))"
      ]
     },
     "metadata": {},
     "output_type": "display_data"
    },
    {
     "name": "stdout",
     "output_type": "stream",
     "text": [
      "\n"
     ]
    }
   ],
   "source": [
    "mis_xs = []\n",
    "mis_ys = []\n",
    "trg_xs = []\n",
    "trg_ys = []\n",
    "ts = []\n",
    "mis_vs = []\n",
    "trg_vs = []\n",
    "rewards = []\n",
    "alphas = []\n",
    "trg_vels = []\n",
    "mis_vels = []\n",
    "for state, obs, reward, done, info in tqdm(history):\n",
    "    gym.set_state(state)\n",
    "    mis_smry = gym.missile.get_summary()\n",
    "    trg_smry = gym.target.get_summary()\n",
    "    mis_xs.append(mis_smry['x'])\n",
    "    mis_ys.append(mis_smry['y'])\n",
    "    trg_xs.append(trg_smry['x'])\n",
    "    trg_ys.append(trg_smry['y'])\n",
    "    ts.append(mis_smry['t'])\n",
    "    mis_vs.append(mis_smry['v'])\n",
    "    trg_vs.append(trg_smry['v'])\n",
    "    rewards.append(reward)\n",
    "    alphas.append(mis_smry['alpha'])\n",
    "    \n",
    "    trg_vels.append(gym.target.vel)\n",
    "    mis_vels.append(gym.missile.vel)\n",
    "\n",
    "trg_nys = [get_an_atau(v0, v1, t1-t0)[0] for v0, v1, t1, t0 in zip(trg_vels, trg_vels[1:], ts[1:], ts)]\n",
    "trg_nys += [trg_nys[-1]]\n",
    "mis_nys = [get_an_atau(v0, v1, t1-t0)[0] for v0, v1, t1, t0 in zip(mis_vels, mis_vels[1:], ts[1:], ts)]\n",
    "mis_nys += [trg_nys[-1]]\n",
    "\n",
    "trg_nxs = [get_an_atau(v0, v1, t1-t0)[1] for v0, v1, t1, t0 in zip(trg_vels, trg_vels[1:], ts[1:], ts)]\n",
    "trg_nxs += [trg_nxs[-1]]\n",
    "mis_nxs = [get_an_atau(v0, v1, t1-t0)[1] for v0, v1, t1, t0 in zip(mis_vels, mis_vels[1:], ts[1:], ts)]\n",
    "mis_nxs += [trg_nxs[-1]]\n"
   ]
  },
  {
   "cell_type": "code",
   "execution_count": 118,
   "metadata": {},
   "outputs": [
    {
     "data": {
      "application/vnd.jupyter.widget-view+json": {
       "model_id": "683ef59e9a3b4c70b4c33d5f05191ac9",
       "version_major": 2,
       "version_minor": 0
      },
      "text/plain": [
       "interactive(children=(IntSlider(value=191, description='i', max=191), Output()), _dom_classes=('widget-interac…"
      ]
     },
     "metadata": {},
     "output_type": "display_data"
    }
   ],
   "source": [
    "@interact(i=ipywidgets.IntSlider(min=0,max=len(history)-1,step=1, value=len(history)-1))\n",
    "def draw(i):\n",
    "    f0 = figure(num = 0, figsize = (17, 7))\n",
    "    ax01 = subplot2grid((4, 7), (0, 0), colspan=4, rowspan=4)\n",
    "    ax02 = subplot2grid((4, 7), (0, 4), colspan=3, rowspan=1)\n",
    "    ax03 = subplot2grid((4, 7), (1, 4), colspan=3, rowspan=1,sharex=ax02)\n",
    "    ax04 = subplot2grid((4, 7), (2, 4), colspan=3, rowspan=1,sharex=ax02)\n",
    "    ax05 = subplot2grid((4, 7), (3, 4), colspan=3, rowspan=1,sharex=ax02)\n",
    "    f0.subplots_adjust(hspace=0)   \n",
    "    f0.subplots_adjust(wspace=0.7)  \n",
    "    \n",
    "    state = history[i][0]\n",
    "    gym.set_state(state)\n",
    "    gym.render(fig=f0, ax=ax01)\n",
    "    ax01.plot(mis_xs[:i], mis_ys[:i], ls=':')\n",
    "    ax01.plot(trg_xs[:i], trg_ys[:i], ls=':')\n",
    "    ax01.grid(True)\n",
    "    \n",
    "    ax02.plot(ts[:i], mis_vs[:i], label='Скорость ракеты')\n",
    "    ax02.plot(ts[:i], trg_vs[:i], label='Скорость цели')\n",
    "    ax02.legend()\n",
    "    ax02.grid(True)\n",
    "    \n",
    "    ax03.plot(ts[:i], rewards[:i], label='Награда_')\n",
    "    ax03.legend()\n",
    "    ax03.grid(True)\n",
    "    \n",
    "    ax04.plot(ts[:i], alphas[:i], label=r'$\\alpha_{текущий}$')\n",
    "    ax04.plot(ts[:i], alphas_targeting[:i], label=r'$\\alpha_{потребный}$', color='y', ls='-')\n",
    "    ax04.legend()\n",
    "    ax04.grid(True)\n",
    "    \n",
    "    ax05.plot(ts[:i], mis_nys[:i], label=r'$n_y$ ракеты', c='b')\n",
    "    ax05.plot(ts[:i], trg_nys[:i], label=r'$n_y$ цели', c='orange')\n",
    "    \n",
    "    ax05.plot(ts[:i], mis_nxs[:i], label=r'$n_x$ ракеты', c='b', ls='--')\n",
    "    ax05.plot(ts[:i], trg_nxs[:i], label=r'$n_x$ цели', c='orange', ls='--')\n",
    "    ax05.legend()\n",
    "    ax05.grid(True)\n",
    "    \n",
    "    plt.show()"
   ]
  },
  {
   "cell_type": "code",
   "execution_count": 93,
   "metadata": {},
   "outputs": [
    {
     "data": {
      "text/plain": [
       "array(0)"
      ]
     },
     "execution_count": 93,
     "metadata": {},
     "output_type": "execute_result"
    }
   ],
   "source": [
    "a = np.array([1,0])\n",
    "b = np.array([1,0])\n",
    "np.cross(a,b)"
   ]
  }
 ],
 "metadata": {
  "kernelspec": {
   "display_name": "env_neuro_missile",
   "language": "python",
   "name": "env_neuro_missile"
  },
  "language_info": {
   "codemirror_mode": {
    "name": "ipython",
    "version": 3
   },
   "file_extension": ".py",
   "mimetype": "text/x-python",
   "name": "python",
   "nbconvert_exporter": "python",
   "pygments_lexer": "ipython3",
   "version": "3.7.5"
  }
 },
 "nbformat": 4,
 "nbformat_minor": 4
}
