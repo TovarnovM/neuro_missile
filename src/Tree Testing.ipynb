{
 "cells": [
  {
   "cell_type": "markdown",
   "metadata": {},
   "source": [
    "# Блокнот для генерации деревьев траектрий, чтобы потом из них можно было сделать хорошую БД для обучения"
   ]
  },
  {
   "cell_type": "code",
   "execution_count": 1,
   "metadata": {},
   "outputs": [],
   "source": [
    "%load_ext autoreload\n",
    "%autoreload 2"
   ]
  },
  {
   "cell_type": "code",
   "execution_count": 2,
   "metadata": {},
   "outputs": [],
   "source": [
    "import numpy as np\n",
    "from missile_gym import MissileGym\n",
    "from gymtree import GymTree, Node\n",
    "import matplotlib.pyplot as plt\n",
    "from tqdm.notebook import tqdm\n",
    "\n",
    "%matplotlib widget\n",
    "# %config InlineBackend.figure_format = 'svg'"
   ]
  },
  {
   "cell_type": "markdown",
   "metadata": {},
   "source": [
    "### Генерируем стандартный сценарий"
   ]
  },
  {
   "cell_type": "code",
   "execution_count": 3,
   "metadata": {},
   "outputs": [],
   "source": [
    "gym = MissileGym.make('sc_simple_3')\n",
    "tree = GymTree(gym)\n",
    "tree.reset()"
   ]
  },
  {
   "cell_type": "code",
   "execution_count": 4,
   "metadata": {},
   "outputs": [
    {
     "data": {
      "application/vnd.jupyter.widget-view+json": {
       "model_id": "b7ee51db77a94b05a1cc4b31c4db8375",
       "version_major": 2,
       "version_minor": 0
      },
      "text/plain": [
       "HBox(children=(FloatProgress(value=0.0, max=13.0), HTML(value='')))"
      ]
     },
     "metadata": {},
     "output_type": "display_data"
    },
    {
     "name": "stdout",
     "output_type": "stream",
     "text": [
      "\n"
     ]
    },
    {
     "data": {
      "application/vnd.jupyter.widget-view+json": {
       "model_id": "08b76270e1f040fcac9045b477ee6bb5",
       "version_major": 2,
       "version_minor": 0
      },
      "text/plain": [
       "HBox(children=(FloatProgress(value=0.0, max=17.0), HTML(value='')))"
      ]
     },
     "metadata": {},
     "output_type": "display_data"
    },
    {
     "name": "stdout",
     "output_type": "stream",
     "text": [
      "\n"
     ]
    }
   ],
   "source": [
    "# выращиваем дерево\n",
    "def f(x, d0=900):\n",
    "    t = (x-d0/3)/abs(d0-d0/3)\n",
    "    return t\n",
    "for i in tqdm(range(13)):\n",
    "    node = tree.root # np.random.choice(tree.get_not_full_nodes()) \n",
    "    d0 = node.get_distance_to_trg()\n",
    "    while node:\n",
    "        d_curr = node.get_distance_to_trg()\n",
    "        p = f(d_curr, d0)\n",
    "        node = node.walk(p)\n",
    "for i in tqdm(range(17)):\n",
    "    node = tree.get_perspective_node2()\n",
    "    d0 = node.get_distance_to_trg()\n",
    "    while node:\n",
    "        d_curr = node.get_distance_to_trg()\n",
    "        p = f(d_curr, d0)\n",
    "        node = node.walk(p)"
   ]
  },
  {
   "cell_type": "code",
   "execution_count": 5,
   "metadata": {},
   "outputs": [
    {
     "data": {
      "application/vnd.jupyter.widget-view+json": {
       "model_id": "9473370598264816bb6f8f59f2d06c68",
       "version_major": 2,
       "version_minor": 0
      },
      "text/plain": [
       "Canvas(toolbar=Toolbar(toolitems=[('Home', 'Reset original view', 'home', 'home'), ('Back', 'Back to previous …"
      ]
     },
     "metadata": {},
     "output_type": "display_data"
    }
   ],
   "source": [
    "tree.plot()"
   ]
  },
  {
   "cell_type": "code",
   "execution_count": 6,
   "metadata": {},
   "outputs": [
    {
     "data": {
      "application/vnd.jupyter.widget-view+json": {
       "model_id": "b3329cc90c7f4ca1869a23ea8f37850e",
       "version_major": 2,
       "version_minor": 0
      },
      "text/plain": [
       "Canvas(toolbar=Toolbar(toolitems=[('Home', 'Reset original view', 'home', 'home'), ('Back', 'Back to previous …"
      ]
     },
     "metadata": {},
     "output_type": "display_data"
    }
   ],
   "source": [
    "\n",
    "tree.plot_scatter()"
   ]
  },
  {
   "cell_type": "code",
   "execution_count": 7,
   "metadata": {},
   "outputs": [
    {
     "data": {
      "application/vnd.jupyter.widget-view+json": {
       "model_id": "6e84ed9ebf09481a99cff5e88be14fe2",
       "version_major": 2,
       "version_minor": 0
      },
      "text/plain": [
       "Canvas(toolbar=Toolbar(toolitems=[('Home', 'Reset original view', 'home', 'home'), ('Back', 'Back to previous …"
      ]
     },
     "metadata": {},
     "output_type": "display_data"
    }
   ],
   "source": [
    "fig, ax = plt.subplots(figsize=(10,7))\n",
    "tree.plot_scatter(ax=ax)\n",
    "ax.grid()\n",
    "ax.axis('equal')\n",
    "plt.savefig('saves/sc_simple_3.png', format='png', dpi=300);"
   ]
  },
  {
   "cell_type": "code",
   "execution_count": 8,
   "metadata": {},
   "outputs": [],
   "source": [
    "# сохраняем\n",
    "tree.save_to_file('saves/sc_simple_3.bin')"
   ]
  },
  {
   "cell_type": "markdown",
   "metadata": {},
   "source": [
    "## А теперь посчитаем их все.... параллельно"
   ]
  },
  {
   "cell_type": "code",
   "execution_count": 8,
   "metadata": {},
   "outputs": [],
   "source": [
    "from dask.distributed import Client, LocalCluster"
   ]
  },
  {
   "cell_type": "code",
   "execution_count": 9,
   "metadata": {},
   "outputs": [
    {
     "data": {
      "text/html": [
       "<table style=\"border: 2px solid white;\">\n",
       "<tr>\n",
       "<td style=\"vertical-align: top; border: 0px solid white\">\n",
       "<h3 style=\"text-align: left;\">Client</h3>\n",
       "<ul style=\"text-align: left; list-style: none; margin: 0; padding: 0;\">\n",
       "  <li><b>Scheduler: </b>tcp://127.0.0.1:49980</li>\n",
       "  <li><b>Dashboard: </b><a href='http://127.0.0.1:8787/status' target='_blank'>http://127.0.0.1:8787/status</a></li>\n",
       "</ul>\n",
       "</td>\n",
       "<td style=\"vertical-align: top; border: 0px solid white\">\n",
       "<h3 style=\"text-align: left;\">Cluster</h3>\n",
       "<ul style=\"text-align: left; list-style:none; margin: 0; padding: 0;\">\n",
       "  <li><b>Workers: </b>4</li>\n",
       "  <li><b>Cores: </b>8</li>\n",
       "  <li><b>Memory: </b>17.11 GB</li>\n",
       "</ul>\n",
       "</td>\n",
       "</tr>\n",
       "</table>"
      ],
      "text/plain": [
       "<Client: 'tcp://127.0.0.1:49980' processes=4 threads=8, memory=17.11 GB>"
      ]
     },
     "execution_count": 9,
     "metadata": {},
     "output_type": "execute_result"
    }
   ],
   "source": [
    "client = Client(LocalCluster())\n",
    "client"
   ]
  },
  {
   "cell_type": "code",
   "execution_count": 15,
   "metadata": {},
   "outputs": [],
   "source": [
    "def grow_tree(scenario_name):\n",
    "    try:\n",
    "        import numpy as np\n",
    "        from missile_gym import MissileGym\n",
    "        from gymtree import GymTree, Node\n",
    "        import os\n",
    "        \n",
    "        def f(x, d0=900):\n",
    "            t = (x-d0/3)/abs(d0-d0/3)\n",
    "            return t\n",
    "\n",
    "        gym = MissileGym.make(scenario_name)\n",
    "        tree = GymTree(gym)\n",
    "        tree.reset()\n",
    "        \n",
    "        file_name = f'saves/{scenario_name}.bin'\n",
    "        if os.path.isfile(file_name):\n",
    "            tree.load_from_file(file_name)\n",
    "            \n",
    "       \n",
    "        for i in range(177):\n",
    "            node = np.random.choice(tree.get_not_full_nodes()) #tree.root # \n",
    "            d0 = node.get_distance_to_trg()\n",
    "            while node:\n",
    "                d_curr = node.get_distance_to_trg()\n",
    "                p = f(d_curr, d0)\n",
    "                node = node.walk(p)\n",
    "        for i in range(777):\n",
    "            node = tree.get_perspective_node2()\n",
    "            d0 = node.get_distance_to_trg()\n",
    "            while node:\n",
    "                d_curr = node.get_distance_to_trg()\n",
    "                p = f(d_curr, d0)\n",
    "                node = node.walk(p)\n",
    "        \n",
    "        tree.save_to_file(file_name)\n",
    "        \n",
    "        import matplotlib.pyplot as plt\n",
    "        \n",
    "        fig, ax = plt.subplots(figsize=(10,7))\n",
    "        tree.plot_scatter(ax=ax)\n",
    "        ax.grid()\n",
    "        ax.axis('equal')\n",
    "        plt.savefig(f'saves/{scenario_name}.png', format='png', dpi=300)\n",
    "        return True\n",
    "    except Exception as e:\n",
    "        return str(e)"
   ]
  },
  {
   "cell_type": "code",
   "execution_count": 16,
   "metadata": {},
   "outputs": [],
   "source": [
    "futs = client.map(grow_tree, MissileGym.scenario_names)"
   ]
  },
  {
   "cell_type": "code",
   "execution_count": 17,
   "metadata": {},
   "outputs": [
    {
     "data": {
      "text/plain": [
       "[<Future: pending, key: grow_tree-e53ce9590b77a706f5568f0dd66d446c>,\n",
       " <Future: pending, key: grow_tree-a0c4f76fa32c5cb30535afc90d8353df>,\n",
       " <Future: pending, key: grow_tree-c741d335442d432b1c97bf22ab7965bd>,\n",
       " <Future: pending, key: grow_tree-5814c038bee53b3f21a30e264b5d632f>]"
      ]
     },
     "execution_count": 17,
     "metadata": {},
     "output_type": "execute_result"
    }
   ],
   "source": [
    "futs"
   ]
  },
  {
   "cell_type": "code",
   "execution_count": 20,
   "metadata": {},
   "outputs": [
    {
     "data": {
      "text/plain": [
       "array([1, 6, 4, 5, 7, 3, 8, 0, 9, 2])"
      ]
     },
     "execution_count": 20,
     "metadata": {},
     "output_type": "execute_result"
    }
   ],
   "source": [
    "np.random.permutation(10)"
   ]
  },
  {
   "cell_type": "code",
   "execution_count": null,
   "metadata": {},
   "outputs": [],
   "source": [
    "np."
   ]
  }
 ],
 "metadata": {
  "kernelspec": {
   "display_name": "env_neuro_missile",
   "language": "python",
   "name": "env_neuro_missile"
  },
  "language_info": {
   "codemirror_mode": {
    "name": "ipython",
    "version": 3
   },
   "file_extension": ".py",
   "mimetype": "text/x-python",
   "name": "python",
   "nbconvert_exporter": "python",
   "pygments_lexer": "ipython3",
   "version": "3.7.5"
  }
 },
 "nbformat": 4,
 "nbformat_minor": 4
}
