{
 "cells": [
  {
   "cell_type": "markdown",
   "metadata": {},
   "source": [
    "# Блокнот для генерации деревьев траектрий, чтобы потом из них можно было сделать хорошую БД для обучения"
   ]
  },
  {
   "cell_type": "code",
   "execution_count": 1,
   "metadata": {},
   "outputs": [],
   "source": [
    "%load_ext autoreload\n",
    "%autoreload 2"
   ]
  },
  {
   "cell_type": "code",
   "execution_count": 2,
   "metadata": {},
   "outputs": [],
   "source": [
    "import numpy as np\n",
    "from missile_gym import MissileGym\n",
    "from gymtree import GymTree, Node\n",
    "import matplotlib.pyplot as plt\n",
    "from tqdm.notebook import tqdm\n",
    "\n",
    "%matplotlib widget\n",
    "# %config InlineBackend.figure_format = 'svg'"
   ]
  },
  {
   "cell_type": "markdown",
   "metadata": {},
   "source": [
    "### Генерируем стандартный сценарий"
   ]
  },
  {
   "cell_type": "code",
   "execution_count": 3,
   "metadata": {},
   "outputs": [
    {
     "data": {
      "text/plain": [
       "{'Chengdu_1',\n",
       " 'Chengdu_2',\n",
       " 'Cy-57_1',\n",
       " 'RaptorF_1',\n",
       " 'RaptorF_2',\n",
       " 'Refale_1',\n",
       " 'Refale_2',\n",
       " 'fail_1',\n",
       " 'fail_2',\n",
       " 'fail_3',\n",
       " 'sc_simple_1',\n",
       " 'sc_simple_2',\n",
       " 'sc_simple_3',\n",
       " 'standart',\n",
       " 'success_1',\n",
       " 'success_2',\n",
       " 'success_3',\n",
       " 'success_4',\n",
       " 'success_5'}"
      ]
     },
     "execution_count": 3,
     "metadata": {},
     "output_type": "execute_result"
    }
   ],
   "source": [
    "MissileGym.scenario_names"
   ]
  },
  {
   "cell_type": "code",
   "execution_count": 4,
   "metadata": {},
   "outputs": [],
   "source": [
    "gym = MissileGym.make('fail_3')\n",
    "tree = GymTree(gym)\n",
    "tree.reset()"
   ]
  },
  {
   "cell_type": "code",
   "execution_count": 5,
   "metadata": {},
   "outputs": [
    {
     "data": {
      "application/vnd.jupyter.widget-view+json": {
       "model_id": "876db76bb3d74f04b7e541a7e799173c",
       "version_major": 2,
       "version_minor": 0
      },
      "text/plain": [
       "HBox(children=(FloatProgress(value=0.0, max=5.0), HTML(value='')))"
      ]
     },
     "metadata": {},
     "output_type": "display_data"
    },
    {
     "name": "stdout",
     "output_type": "stream",
     "text": [
      "\n"
     ]
    },
    {
     "data": {
      "application/vnd.jupyter.widget-view+json": {
       "model_id": "825748499bdf40cf9be9dc8ff162e124",
       "version_major": 2,
       "version_minor": 0
      },
      "text/plain": [
       "HBox(children=(FloatProgress(value=0.0, max=5.0), HTML(value='')))"
      ]
     },
     "metadata": {},
     "output_type": "display_data"
    },
    {
     "name": "stdout",
     "output_type": "stream",
     "text": [
      "\n"
     ]
    }
   ],
   "source": [
    "# выращиваем дерево\n",
    "def f(x, d0=900):\n",
    "    t = (x-d0/3)/abs(d0-d0/3)\n",
    "    return t\n",
    "for i in tqdm(range(5)):\n",
    "    node = tree.root # np.random.choice(tree.get_not_full_nodes()) \n",
    "    d0 = node.get_distance_to_trg()\n",
    "    while node:\n",
    "        d_curr = node.get_distance_to_trg()\n",
    "        p = f(d_curr, d0)\n",
    "        node = node.walk(0)\n",
    "for i in tqdm(range(5)):\n",
    "    node = tree.get_perspective_node2()\n",
    "    d0 = node.get_distance_to_trg()\n",
    "    while node:\n",
    "        d_curr = node.get_distance_to_trg()\n",
    "        p = f(d_curr, d0)\n",
    "        node = node.walk(p)"
   ]
  },
  {
   "cell_type": "code",
   "execution_count": 6,
   "metadata": {},
   "outputs": [
    {
     "data": {
      "application/vnd.jupyter.widget-view+json": {
       "model_id": "e4d47cf64dee4c0ebc573fdddf8450a1",
       "version_major": 2,
       "version_minor": 0
      },
      "text/plain": [
       "Canvas(toolbar=Toolbar(toolitems=[('Home', 'Reset original view', 'home', 'home'), ('Back', 'Back to previous …"
      ]
     },
     "metadata": {},
     "output_type": "display_data"
    }
   ],
   "source": [
    "tree.plot()"
   ]
  },
  {
   "cell_type": "code",
   "execution_count": 7,
   "metadata": {},
   "outputs": [
    {
     "data": {
      "application/vnd.jupyter.widget-view+json": {
       "model_id": "929dcbe5c5e046018f66e443252d21be",
       "version_major": 2,
       "version_minor": 0
      },
      "text/plain": [
       "Canvas(toolbar=Toolbar(toolitems=[('Home', 'Reset original view', 'home', 'home'), ('Back', 'Back to previous …"
      ]
     },
     "metadata": {},
     "output_type": "display_data"
    }
   ],
   "source": [
    "tree.plot_scatter()"
   ]
  },
  {
   "cell_type": "code",
   "execution_count": 8,
   "metadata": {},
   "outputs": [
    {
     "data": {
      "application/vnd.jupyter.widget-view+json": {
       "model_id": "15dc71c938024cd2a9025d9f06dc3b7f",
       "version_major": 2,
       "version_minor": 0
      },
      "text/plain": [
       "Canvas(toolbar=Toolbar(toolitems=[('Home', 'Reset original view', 'home', 'home'), ('Back', 'Back to previous …"
      ]
     },
     "metadata": {},
     "output_type": "display_data"
    }
   ],
   "source": [
    "fig, ax = plt.subplots(figsize=(10,7))\n",
    "tree.plot_scatter(ax=ax)\n",
    "ax.grid()\n",
    "ax.axis('equal')\n",
    "plt.savefig('saves/sc_simple_3.png', format='png', dpi=300);"
   ]
  },
  {
   "cell_type": "code",
   "execution_count": 9,
   "metadata": {},
   "outputs": [],
   "source": [
    "# сохраняем\n",
    "tree.save_to_file('saves/sc_simple_3.bin')"
   ]
  },
  {
   "cell_type": "markdown",
   "metadata": {},
   "source": [
    "## А теперь посчитаем их все.... параллельно"
   ]
  },
  {
   "cell_type": "code",
   "execution_count": 1,
   "metadata": {},
   "outputs": [],
   "source": [
    "from dask.distributed import Client, LocalCluster"
   ]
  },
  {
   "cell_type": "code",
   "execution_count": 2,
   "metadata": {},
   "outputs": [
    {
     "data": {
      "text/html": [
       "<table style=\"border: 2px solid white;\">\n",
       "<tr>\n",
       "<td style=\"vertical-align: top; border: 0px solid white\">\n",
       "<h3 style=\"text-align: left;\">Client</h3>\n",
       "<ul style=\"text-align: left; list-style: none; margin: 0; padding: 0;\">\n",
       "  <li><b>Scheduler: </b>tcp://127.0.0.1:51381</li>\n",
       "  <li><b>Dashboard: </b><a href='http://127.0.0.1:8787/status' target='_blank'>http://127.0.0.1:8787/status</a></li>\n",
       "</ul>\n",
       "</td>\n",
       "<td style=\"vertical-align: top; border: 0px solid white\">\n",
       "<h3 style=\"text-align: left;\">Cluster</h3>\n",
       "<ul style=\"text-align: left; list-style:none; margin: 0; padding: 0;\">\n",
       "  <li><b>Workers: </b>4</li>\n",
       "  <li><b>Cores: </b>8</li>\n",
       "  <li><b>Memory: </b>17.11 GB</li>\n",
       "</ul>\n",
       "</td>\n",
       "</tr>\n",
       "</table>"
      ],
      "text/plain": [
       "<Client: 'tcp://127.0.0.1:51381' processes=4 threads=8, memory=17.11 GB>"
      ]
     },
     "execution_count": 2,
     "metadata": {},
     "output_type": "execute_result"
    }
   ],
   "source": [
    "client = Client(LocalCluster())\n",
    "client"
   ]
  },
  {
   "cell_type": "code",
   "execution_count": 3,
   "metadata": {},
   "outputs": [],
   "source": [
    "def grow_tree(scenario_name):\n",
    "    try:\n",
    "        import numpy as np\n",
    "        from missile_gym import MissileGym\n",
    "        from gymtree import GymTree, Node\n",
    "        import os\n",
    "        \n",
    "        def f(x, d0=900):\n",
    "            t = (x-d0/3)/abs(d0-d0/3)\n",
    "            return t\n",
    "\n",
    "        gym = MissileGym.make(scenario_name)\n",
    "        tree = GymTree(gym)\n",
    "        tree.reset()\n",
    "        \n",
    "        file_name = f'saves/{scenario_name}.bin'\n",
    "        if os.path.isfile(file_name):\n",
    "            tree.load_from_file(file_name)\n",
    "            \n",
    "        for i in range(1):\n",
    "            node = tree.root # \n",
    "            d0 = node.get_distance_to_trg()\n",
    "            while node:\n",
    "                d_curr = node.get_distance_to_trg()\n",
    "                node = node.walk(0)\n",
    "       \n",
    "        for i in range(177):\n",
    "            node = tree.root # np.random.choice(tree.get_not_full_nodes()) #\n",
    "            d0 = node.get_distance_to_trg()\n",
    "            while node:\n",
    "                d_curr = node.get_distance_to_trg()\n",
    "                p = f(d_curr, d0)\n",
    "                node = node.walk(p)\n",
    "        for i in range(1077):\n",
    "            node = tree.get_perspective_node2()\n",
    "            d0 = node.get_distance_to_trg()\n",
    "            while node:\n",
    "                d_curr = node.get_distance_to_trg()\n",
    "                p = f(d_curr, d0)\n",
    "                node = node.walk(p)\n",
    "        \n",
    "        tree.save_to_file(file_name)\n",
    "        \n",
    "        import matplotlib.pyplot as plt\n",
    "        \n",
    "        fig, ax = plt.subplots(figsize=(10,7))\n",
    "        tree.plot_scatter(ax=ax)\n",
    "        ax.grid()\n",
    "        ax.axis('equal')\n",
    "        plt.savefig(f'saves/{scenario_name}.png', format='png', dpi=300)\n",
    "        return True\n",
    "    except Exception as e:\n",
    "        return e"
   ]
  },
  {
   "cell_type": "code",
   "execution_count": 5,
   "metadata": {},
   "outputs": [],
   "source": [
    "from missile_gym import MissileGym\n",
    "\n",
    "futs = client.map(grow_tree, MissileGym.scenario_names)"
   ]
  },
  {
   "cell_type": "code",
   "execution_count": 18,
   "metadata": {},
   "outputs": [
    {
     "data": {
      "text/plain": [
       "[<Future: finished, type: builtins.bool, key: grow_tree-e99f1e7b44b9b001d13f79886b6b785c>,\n",
       " <Future: finished, type: builtins.bool, key: grow_tree-ecbd52b9d054a834e5b6ddecd61d7aa9>,\n",
       " <Future: finished, type: builtins.bool, key: grow_tree-089f55f23d7d586c4d78c196bf9967b4>,\n",
       " <Future: finished, type: builtins.bool, key: grow_tree-e72f44557e9c2c9bae44b6d4e372a870>,\n",
       " <Future: finished, type: builtins.bool, key: grow_tree-e44b98fdba7556c08ae42555883095b3>,\n",
       " <Future: finished, type: builtins.bool, key: grow_tree-106c5e357c07defb732b7d46cb3fc42e>,\n",
       " <Future: finished, type: builtins.bool, key: grow_tree-00c1508db758f99419f962dff9afce94>,\n",
       " <Future: finished, type: builtins.bool, key: grow_tree-69675a7547f143db2c1ac2be73d3a489>,\n",
       " <Future: pending, key: grow_tree-18894876883b08aa31bc818648ef0126>,\n",
       " <Future: pending, key: grow_tree-105e8233cf5c37d0461038664a0669e4>,\n",
       " <Future: finished, type: builtins.bool, key: grow_tree-048c20535994d85f6f8cf11968025657>,\n",
       " <Future: pending, key: grow_tree-e6eb82b3d9d87aa78cd4ad32371f9627>,\n",
       " <Future: pending, key: grow_tree-01ed561cc2ee1a4f2f52d7a3e685613c>,\n",
       " <Future: finished, type: builtins.ValueError, key: grow_tree-a8404865b207bc5faa304642bdf3dc65>,\n",
       " <Future: pending, key: grow_tree-3e20dec14d19fba636ecce99b5c7bba4>,\n",
       " <Future: finished, type: builtins.bool, key: grow_tree-5021e126db9c5fe6ee79afb38aa6f4bb>,\n",
       " <Future: pending, key: grow_tree-90f28ed632a1f82c41f5fa1cd6b0eec2>,\n",
       " <Future: pending, key: grow_tree-72ede1eb4480a787e932326f2ad0b9fe>,\n",
       " <Future: pending, key: grow_tree-b2ebd4d4bc8fe37e497b2d27c0fed309>]"
      ]
     },
     "execution_count": 18,
     "metadata": {},
     "output_type": "execute_result"
    }
   ],
   "source": [
    "futs"
   ]
  },
  {
   "cell_type": "code",
   "execution_count": 32,
   "metadata": {},
   "outputs": [
    {
     "data": {
      "text/plain": [
       "\"'a' cannot be empty unless no samples are taken\""
      ]
     },
     "execution_count": 32,
     "metadata": {},
     "output_type": "execute_result"
    }
   ],
   "source": [
    "futs[6].result()"
   ]
  },
  {
   "cell_type": "code",
   "execution_count": null,
   "metadata": {},
   "outputs": [],
   "source": []
  }
 ],
 "metadata": {
  "kernelspec": {
   "display_name": "env_neuro_missile",
   "language": "python",
   "name": "env_neuro_missile"
  },
  "language_info": {
   "codemirror_mode": {
    "name": "ipython",
    "version": 3
   },
   "file_extension": ".py",
   "mimetype": "text/x-python",
   "name": "python",
   "nbconvert_exporter": "python",
   "pygments_lexer": "ipython3",
   "version": "3.7.5"
  }
 },
 "nbformat": 4,
 "nbformat_minor": 4
}
