{
 "cells": [
  {
   "cell_type": "markdown",
   "metadata": {},
   "source": [
    "# Блокнот для генерации деревьев траектрий, чтобы потом из них можно было сделать хорошую БД для обучения"
   ]
  },
  {
   "cell_type": "code",
   "execution_count": 1,
   "metadata": {},
   "outputs": [],
   "source": [
    "%load_ext autoreload\n",
    "%autoreload 2"
   ]
  },
  {
   "cell_type": "code",
   "execution_count": 2,
   "metadata": {},
   "outputs": [],
   "source": [
    "import numpy as np\n",
    "from missile_gym import MissileGym\n",
    "from gymtree import GymTree, Node\n",
    "import matplotlib.pyplot as plt\n",
    "from tqdm.notebook import tqdm\n",
    "\n",
    "%matplotlib widget\n",
    "# %config InlineBackend.figure_format = 'svg'"
   ]
  },
  {
   "cell_type": "markdown",
   "metadata": {},
   "source": [
    "### Генерируем стандартный сценарий"
   ]
  },
  {
   "cell_type": "code",
   "execution_count": 3,
   "metadata": {},
   "outputs": [
    {
     "data": {
      "text/plain": [
       "{'Chengdu_1',\n",
       " 'Chengdu_2',\n",
       " 'Cy-57_1',\n",
       " 'RaptorF_1',\n",
       " 'RaptorF_2',\n",
       " 'Refale_1',\n",
       " 'Refale_2',\n",
       " 'fail_1',\n",
       " 'fail_2',\n",
       " 'fail_3',\n",
       " 'sc_simple_1',\n",
       " 'sc_simple_2',\n",
       " 'sc_simple_3',\n",
       " 'standart',\n",
       " 'success_1',\n",
       " 'success_2',\n",
       " 'success_3',\n",
       " 'success_4',\n",
       " 'success_5'}"
      ]
     },
     "execution_count": 3,
     "metadata": {},
     "output_type": "execute_result"
    }
   ],
   "source": [
    "MissileGym.scenario_names"
   ]
  },
  {
   "cell_type": "code",
   "execution_count": 4,
   "metadata": {},
   "outputs": [],
   "source": [
    "gym = MissileGym.make('fail_3')\n",
    "tree = GymTree(gym)\n",
    "tree.reset()"
   ]
  },
  {
   "cell_type": "code",
   "execution_count": 5,
   "metadata": {},
   "outputs": [
    {
     "data": {
      "application/vnd.jupyter.widget-view+json": {
       "model_id": "876db76bb3d74f04b7e541a7e799173c",
       "version_major": 2,
       "version_minor": 0
      },
      "text/plain": [
       "HBox(children=(FloatProgress(value=0.0, max=5.0), HTML(value='')))"
      ]
     },
     "metadata": {},
     "output_type": "display_data"
    },
    {
     "name": "stdout",
     "output_type": "stream",
     "text": [
      "\n"
     ]
    },
    {
     "data": {
      "application/vnd.jupyter.widget-view+json": {
       "model_id": "825748499bdf40cf9be9dc8ff162e124",
       "version_major": 2,
       "version_minor": 0
      },
      "text/plain": [
       "HBox(children=(FloatProgress(value=0.0, max=5.0), HTML(value='')))"
      ]
     },
     "metadata": {},
     "output_type": "display_data"
    },
    {
     "name": "stdout",
     "output_type": "stream",
     "text": [
      "\n"
     ]
    }
   ],
   "source": [
    "# выращиваем дерево\n",
    "def f(x, d0=900):\n",
    "    t = (x-d0/3)/abs(d0-d0/3)\n",
    "    return t\n",
    "for i in tqdm(range(5)):\n",
    "    node = tree.root # np.random.choice(tree.get_not_full_nodes()) \n",
    "    d0 = node.get_distance_to_trg()\n",
    "    while node:\n",
    "        d_curr = node.get_distance_to_trg()\n",
    "        p = f(d_curr, d0)\n",
    "        node = node.walk(0)\n",
    "for i in tqdm(range(5)):\n",
    "    node = tree.get_perspective_node2()\n",
    "    d0 = node.get_distance_to_trg()\n",
    "    while node:\n",
    "        d_curr = node.get_distance_to_trg()\n",
    "        p = f(d_curr, d0)\n",
    "        node = node.walk(p)"
   ]
  },
  {
   "cell_type": "code",
   "execution_count": 6,
   "metadata": {},
   "outputs": [
    {
     "data": {
      "application/vnd.jupyter.widget-view+json": {
       "model_id": "e4d47cf64dee4c0ebc573fdddf8450a1",
       "version_major": 2,
       "version_minor": 0
      },
      "text/plain": [
       "Canvas(toolbar=Toolbar(toolitems=[('Home', 'Reset original view', 'home', 'home'), ('Back', 'Back to previous …"
      ]
     },
     "metadata": {},
     "output_type": "display_data"
    }
   ],
   "source": [
    "tree.plot()"
   ]
  },
  {
   "cell_type": "code",
   "execution_count": 7,
   "metadata": {},
   "outputs": [
    {
     "data": {
      "application/vnd.jupyter.widget-view+json": {
       "model_id": "929dcbe5c5e046018f66e443252d21be",
       "version_major": 2,
       "version_minor": 0
      },
      "text/plain": [
       "Canvas(toolbar=Toolbar(toolitems=[('Home', 'Reset original view', 'home', 'home'), ('Back', 'Back to previous …"
      ]
     },
     "metadata": {},
     "output_type": "display_data"
    }
   ],
   "source": [
    "tree.plot_scatter()"
   ]
  },
  {
   "cell_type": "code",
   "execution_count": 8,
   "metadata": {},
   "outputs": [
    {
     "data": {
      "application/vnd.jupyter.widget-view+json": {
       "model_id": "15dc71c938024cd2a9025d9f06dc3b7f",
       "version_major": 2,
       "version_minor": 0
      },
      "text/plain": [
       "Canvas(toolbar=Toolbar(toolitems=[('Home', 'Reset original view', 'home', 'home'), ('Back', 'Back to previous …"
      ]
     },
     "metadata": {},
     "output_type": "display_data"
    }
   ],
   "source": [
    "fig, ax = plt.subplots(figsize=(10,7))\n",
    "tree.plot_scatter(ax=ax)\n",
    "ax.grid()\n",
    "ax.axis('equal')\n",
    "plt.savefig('saves/sc_simple_3.png', format='png', dpi=300);"
   ]
  },
  {
   "cell_type": "code",
   "execution_count": 9,
   "metadata": {},
   "outputs": [],
   "source": [
    "# сохраняем\n",
    "tree.save_to_file('saves/sc_simple_3.bin')"
   ]
  },
  {
   "cell_type": "markdown",
   "metadata": {},
   "source": [
    "## А теперь посчитаем их все.... параллельно"
   ]
  },
  {
   "cell_type": "code",
   "execution_count": 10,
   "metadata": {},
   "outputs": [],
   "source": [
    "from dask.distributed import Client, LocalCluster"
   ]
  },
  {
   "cell_type": "code",
   "execution_count": 11,
   "metadata": {},
   "outputs": [
    {
     "data": {
      "text/html": [
       "<table style=\"border: 2px solid white;\">\n",
       "<tr>\n",
       "<td style=\"vertical-align: top; border: 0px solid white\">\n",
       "<h3 style=\"text-align: left;\">Client</h3>\n",
       "<ul style=\"text-align: left; list-style: none; margin: 0; padding: 0;\">\n",
       "  <li><b>Scheduler: </b>tcp://127.0.0.1:63670</li>\n",
       "  <li><b>Dashboard: </b><a href='http://127.0.0.1:8787/status' target='_blank'>http://127.0.0.1:8787/status</a></li>\n",
       "</ul>\n",
       "</td>\n",
       "<td style=\"vertical-align: top; border: 0px solid white\">\n",
       "<h3 style=\"text-align: left;\">Cluster</h3>\n",
       "<ul style=\"text-align: left; list-style:none; margin: 0; padding: 0;\">\n",
       "  <li><b>Workers: </b>4</li>\n",
       "  <li><b>Cores: </b>8</li>\n",
       "  <li><b>Memory: </b>17.11 GB</li>\n",
       "</ul>\n",
       "</td>\n",
       "</tr>\n",
       "</table>"
      ],
      "text/plain": [
       "<Client: 'tcp://127.0.0.1:63670' processes=4 threads=8, memory=17.11 GB>"
      ]
     },
     "execution_count": 11,
     "metadata": {},
     "output_type": "execute_result"
    }
   ],
   "source": [
    "client = Client(LocalCluster())\n",
    "client"
   ]
  },
  {
   "cell_type": "code",
   "execution_count": 22,
   "metadata": {},
   "outputs": [],
   "source": [
    "def grow_tree(scenario_name):\n",
    "    try:\n",
    "        import numpy as np\n",
    "        from missile_gym import MissileGym\n",
    "        from gymtree import GymTree, Node\n",
    "        import os\n",
    "        \n",
    "        def f(x, d0=900):\n",
    "            t = (x-d0/3)/abs(d0-d0/3)\n",
    "            return t\n",
    "\n",
    "        gym = MissileGym.make(scenario_name)\n",
    "        tree = GymTree(gym)\n",
    "        tree.reset()\n",
    "        \n",
    "        file_name = f'saves/{scenario_name}.bin'\n",
    "        if os.path.isfile(file_name):\n",
    "            tree.load_from_file(file_name)\n",
    "            \n",
    "        for i in range(1):\n",
    "            node = tree.root # \n",
    "            d0 = node.get_distance_to_trg()\n",
    "            while node:\n",
    "                d_curr = node.get_distance_to_trg()\n",
    "                node = node.walk(0)\n",
    "       \n",
    "        for i in range(177):\n",
    "            node = tree.root # np.random.choice(tree.get_not_full_nodes()) #\n",
    "            d0 = node.get_distance_to_trg()\n",
    "            while node:\n",
    "                d_curr = node.get_distance_to_trg()\n",
    "                p = f(d_curr, d0)\n",
    "                node = node.walk(p)\n",
    "        for i in range(1777):\n",
    "            node = tree.get_perspective_node2()\n",
    "            d0 = node.get_distance_to_trg()\n",
    "            while node:\n",
    "                d_curr = node.get_distance_to_trg()\n",
    "                p = f(d_curr, d0)\n",
    "                node = node.walk(p)\n",
    "        \n",
    "        tree.save_to_file(file_name)\n",
    "        \n",
    "        import matplotlib.pyplot as plt\n",
    "        \n",
    "        fig, ax = plt.subplots(figsize=(10,7))\n",
    "        tree.plot_scatter(ax=ax)\n",
    "        ax.grid()\n",
    "        ax.axis('equal')\n",
    "        plt.savefig(f'saves/{scenario_name}.png', format='png', dpi=300)\n",
    "        return True\n",
    "    except Exception as e:\n",
    "        return str(e)"
   ]
  },
  {
   "cell_type": "code",
   "execution_count": 23,
   "metadata": {},
   "outputs": [],
   "source": [
    "futs = client.map(grow_tree, MissileGym.scenario_names)"
   ]
  },
  {
   "cell_type": "code",
   "execution_count": 21,
   "metadata": {},
   "outputs": [
    {
     "data": {
      "text/plain": [
       "[<Future: finished, type: builtins.bool, key: grow_tree-9fff39bcdf22bfef365e56e4bfc374fb>,\n",
       " <Future: finished, type: builtins.bool, key: grow_tree-83abc59e6960a67dff0947ad7912ea62>,\n",
       " <Future: finished, type: builtins.bool, key: grow_tree-3933d3fd9ac9dd5170a2dbd7da01a7af>,\n",
       " <Future: finished, type: builtins.bool, key: grow_tree-43cc5977100ee30a6e398071ccf3619c>,\n",
       " <Future: finished, type: builtins.bool, key: grow_tree-cec77f1d4f4b4156b3742ef43c0763b2>,\n",
       " <Future: finished, type: builtins.bool, key: grow_tree-46ac4cffe8d3895d6eab2d536ec627cb>,\n",
       " <Future: finished, type: builtins.str, key: grow_tree-9fec3ccce8488110655fd193f91c6912>,\n",
       " <Future: finished, type: builtins.bool, key: grow_tree-8f80630ec49b4096d1418f676be1d2df>,\n",
       " <Future: finished, type: builtins.bool, key: grow_tree-87f47049ff3b3e358178958ea7316eae>,\n",
       " <Future: finished, type: builtins.bool, key: grow_tree-57a14418091b0969a9e2bd6e3adc8dca>,\n",
       " <Future: finished, type: builtins.bool, key: grow_tree-af64f8888f170ebd41c47f953d2f1eb4>,\n",
       " <Future: finished, type: builtins.bool, key: grow_tree-466fa8067a9e5a6d910b2e34ba16a288>,\n",
       " <Future: finished, type: builtins.bool, key: grow_tree-7450985ff3d7e7b36537bde08d228555>,\n",
       " <Future: finished, type: builtins.bool, key: grow_tree-6b854b3b60f516e00283adcba42e19b2>,\n",
       " <Future: finished, type: builtins.bool, key: grow_tree-309228b08ece1efc1246e3ca78e3b8a6>,\n",
       " <Future: finished, type: builtins.bool, key: grow_tree-08e9b567c1a24b93f282f65235ec4b41>,\n",
       " <Future: finished, type: builtins.bool, key: grow_tree-9883e29cba80b01b7b12998e1eed2470>,\n",
       " <Future: finished, type: builtins.bool, key: grow_tree-0f0df96d3d9db1035450528827555a8d>,\n",
       " <Future: finished, type: builtins.bool, key: grow_tree-7ed15737b195cbaa9ce63dff70866005>]"
      ]
     },
     "execution_count": 21,
     "metadata": {},
     "output_type": "execute_result"
    }
   ],
   "source": [
    "futs"
   ]
  },
  {
   "cell_type": "code",
   "execution_count": 20,
   "metadata": {},
   "outputs": [
    {
     "data": {
      "text/plain": [
       "array([1, 6, 4, 5, 7, 3, 8, 0, 9, 2])"
      ]
     },
     "execution_count": 20,
     "metadata": {},
     "output_type": "execute_result"
    }
   ],
   "source": [
    "np.random.permutation(10)"
   ]
  },
  {
   "cell_type": "code",
   "execution_count": null,
   "metadata": {},
   "outputs": [],
   "source": [
    "np."
   ]
  }
 ],
 "metadata": {
  "kernelspec": {
   "display_name": "env_neuro_missile",
   "language": "python",
   "name": "env_neuro_missile"
  },
  "language_info": {
   "codemirror_mode": {
    "name": "ipython",
    "version": 3
   },
   "file_extension": ".py",
   "mimetype": "text/x-python",
   "name": "python",
   "nbconvert_exporter": "python",
   "pygments_lexer": "ipython3",
   "version": "3.7.5"
  }
 },
 "nbformat": 4,
 "nbformat_minor": 4
}
