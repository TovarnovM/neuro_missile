{
 "cells": [
  {
   "cell_type": "code",
   "execution_count": 2,
   "metadata": {},
   "outputs": [],
   "source": [
    "import sympy as sp"
   ]
  },
  {
   "cell_type": "code",
   "execution_count": 3,
   "metadata": {},
   "outputs": [],
   "source": [
    "from sympy.vector import Vector, CoordSys3D, Point"
   ]
  },
  {
   "cell_type": "code",
   "execution_count": 4,
   "metadata": {},
   "outputs": [],
   "source": [
    "N = CoordSys3D('')"
   ]
  },
  {
   "cell_type": "code",
   "execution_count": 5,
   "metadata": {},
   "outputs": [],
   "source": [
    "Ax, Ay, Bx, By, Cx, Cy, Dx, Dy = sp.symbols(('Ax', 'Ay', 'Bx', 'By', 'Cx', 'Cy', 'Dx', 'Dy'))\n",
    "VAx, VAy, VDx, VDy, t_curr, t1, t2, delta_t,Acc_max,t = sp.symbols(('VAx', 'VAy', 'VDx', 'VDy', 't_curr', 't1', 't2', 'delta_t', 'Acc_max', 't'))"
   ]
  },
  {
   "cell_type": "code",
   "execution_count": 6,
   "metadata": {},
   "outputs": [],
   "source": [
    "A = sp.Matrix([Ax, Ay])\n",
    "VA = sp.Matrix([VAx, VAy])\n",
    "\n",
    "D = sp.Matrix([Dx, Dy])\n",
    "VD = sp.Matrix([VDx, VDy])"
   ]
  },
  {
   "cell_type": "code",
   "execution_count": 7,
   "metadata": {},
   "outputs": [],
   "source": [
    "B = A + VA*(delta_t)/3\n",
    "C = D - VD*(delta_t)/3"
   ]
  },
  {
   "cell_type": "code",
   "execution_count": 8,
   "metadata": {},
   "outputs": [
    {
     "data": {
      "text/latex": [
       "$\\displaystyle \\left[\\begin{matrix}Ax t^{3} + Dx \\left(1 - t\\right)^{3} + t^{2} \\left(1 - t\\right) \\left(Ax + \\frac{VAx \\delta_{t}}{3}\\right) + t \\left(1 - t\\right)^{2} \\left(Dx - \\frac{VDx \\delta_{t}}{3}\\right)\\\\Ay t^{3} + Dy \\left(1 - t\\right)^{3} + t^{2} \\left(1 - t\\right) \\left(Ay + \\frac{VAy \\delta_{t}}{3}\\right) + t \\left(1 - t\\right)^{2} \\left(Dy - \\frac{VDy \\delta_{t}}{3}\\right)\\end{matrix}\\right]$"
      ],
      "text/plain": [
       "Matrix([\n",
       "[Ax*t**3 + Dx*(1 - t)**3 + t**2*(1 - t)*(Ax + VAx*delta_t/3) + t*(1 - t)**2*(Dx - VDx*delta_t/3)],\n",
       "[Ay*t**3 + Dy*(1 - t)**3 + t**2*(1 - t)*(Ay + VAy*delta_t/3) + t*(1 - t)**2*(Dy - VDy*delta_t/3)]])"
      ]
     },
     "execution_count": 8,
     "metadata": {},
     "output_type": "execute_result"
    }
   ],
   "source": [
    "Traj = t**3*A + (1-t)*t**2*B + (1-t)**2*t*C + (1-t)**3*D\n",
    "Traj"
   ]
  },
  {
   "cell_type": "code",
   "execution_count": 9,
   "metadata": {},
   "outputs": [],
   "source": [
    "Vel = (3*(1-t)**2*(B-A) + 6*t*(1-t)*(C-B) + 3*t**2*(D-C))/(delta_t)\n",
    "Vel2 = Vel.dot(Vel)"
   ]
  },
  {
   "cell_type": "code",
   "execution_count": 10,
   "metadata": {},
   "outputs": [],
   "source": [
    "res = sp.solve(Vel2.diff(t), t)"
   ]
  },
  {
   "cell_type": "code",
   "execution_count": 11,
   "metadata": {},
   "outputs": [],
   "source": [
    "Acc = (-6*(B-A) + 6*t*(B-A) + 6 * (C-B) - 12*t*(C-B) + 6 * t*(D-C))/(delta_t)**2"
   ]
  },
  {
   "cell_type": "code",
   "execution_count": 12,
   "metadata": {},
   "outputs": [],
   "source": [
    "AccA = (-6*(B-A) + 6 * (C-B))/(delta_t)**2"
   ]
  },
  {
   "cell_type": "code",
   "execution_count": 13,
   "metadata": {},
   "outputs": [],
   "source": [
    "Eq1 = AccA.dot(AccA)**0.5"
   ]
  },
  {
   "cell_type": "code",
   "execution_count": 14,
   "metadata": {},
   "outputs": [],
   "source": [
    "np_foo = sp.lambdify((Ax, Ay, Dx, Dy, VAx, VAy, VDx, VDy,delta_t), Eq1, 'numpy')"
   ]
  },
  {
   "cell_type": "code",
   "execution_count": 15,
   "metadata": {},
   "outputs": [],
   "source": [
    "np_fooA_ = sp.lambdify((Ax, Ay, Dx, Dy, VAx, VAy, VDx, VDy,delta_t), Eq1.diff(delta_t), 'numpy')"
   ]
  },
  {
   "cell_type": "code",
   "execution_count": 16,
   "metadata": {},
   "outputs": [],
   "source": [
    "def foo_a(delta_t):\n",
    "    tp = (1, 1, 4, 5, -1, -2, 3, 4, delta_t)\n",
    "    #    Ax, Ay, Dx, Dy, VAx, VAy, VDx, VDy\n",
    "    aA = np_foo(*tp)\n",
    "    aD = np_fooD(*tp)\n",
    "    return max(aA, aD)"
   ]
  },
  {
   "cell_type": "code",
   "execution_count": 21,
   "metadata": {},
   "outputs": [
    {
     "data": {
      "text/plain": [
       "[<matplotlib.lines.Line2D at 0x1955d253220>]"
      ]
     },
     "execution_count": 21,
     "metadata": {},
     "output_type": "execute_result"
    },
    {
     "data": {
      "image/png": "[encoded data removed]",
      "text/plain": [
       "<Figure size 432x288 with 1 Axes>"
      ]
     },
     "metadata": {
      "needs_background": "light"
     },
     "output_type": "display_data"
    }
   ],
   "source": [
    "import matplotlib.pyplot as plt\n",
    "import numpy as np\n",
    "\n",
    "ts = np.linspace(1,10000)\n",
    "accs = [foo_a(dlt) for dlt in ts]\n",
    "\n",
    "plt.plot(ts, accs)"
   ]
  },
  {
   "cell_type": "code",
   "execution_count": 22,
   "metadata": {},
   "outputs": [
    {
     "data": {
      "text/plain": [
       "[28.844410203711913,\n",
       " 0.07546231826839721,\n",
       " 0.038001503937997894,\n",
       " 0.02539473807196009,\n",
       " 0.019068750353283044,\n",
       " 0.01526590654820531,\n",
       " 0.01272765192915917,\n",
       " 0.010913129788807962,\n",
       " 0.009551426604161172,\n",
       " 0.00849184297411104,\n",
       " 0.007643872838022689,\n",
       " 0.006949878550761641,\n",
       " 0.006371412075972685,\n",
       " 0.0058818425064611265,\n",
       " 0.005462139981531269,\n",
       " 0.005098344425236167,\n",
       " 0.0047799826572886275,\n",
       " 0.004499043699689531,\n",
       " 0.0042492953758810625,\n",
       " 0.004025816557945651,\n",
       " 0.0038246696391263,\n",
       " 0.0036426665217929406,\n",
       " 0.0034771983853205644,\n",
       " 0.0033261098346937593,\n",
       " 0.0031876044931859557,\n",
       " 0.0030601732398173194,\n",
       " 0.0029425389982788387,\n",
       " 0.002833613788478041,\n",
       " 0.002732464976618969,\n",
       " 0.0026382885045770008,\n",
       " 0.0025503874708437207,\n",
       " 0.002468154855180961,\n",
       " 0.002391059480953234,\n",
       " 0.002318634528656246,\n",
       " 0.0022504680756164296,\n",
       " 0.0021861952567930453,\n",
       " 0.0021254917315938083,\n",
       " 0.0020680682097160108,\n",
       " 0.002013665841002974,\n",
       " 0.0019620523142930787,\n",
       " 0.0019130185412320807,\n",
       " 0.0018663758252117834,\n",
       " 0.001821953434608248,\n",
       " 0.0017795965145252222,\n",
       " 0.0017391642832072264,\n",
       " 0.0017005284688544158,\n",
       " 0.001663571950267728,\n",
       " 0.0016281875709758668,\n",
       " 0.0015942771015522114,\n",
       " 0.001561750328957865]"
      ]
     },
     "execution_count": 22,
     "metadata": {},
     "output_type": "execute_result"
    }
   ],
   "source": [
    "accs"
   ]
  },
  {
   "cell_type": "code",
   "execution_count": 18,
   "metadata": {},
   "outputs": [],
   "source": [
    "AccD = (-6*(B-A) + 6*(B-A) + 6 * (C-B) - 12*(C-B) + 6 * (D-C))/(delta_t)**2\n",
    "Eq2 = AccD.dot(AccD)**0.5\n",
    "np_fooD = sp.lambdify((Ax, Ay, Dx, Dy, VAx, VAy, VDx, VDy,delta_t), Eq2, 'numpy')"
   ]
  },
  {
   "cell_type": "code",
   "execution_count": null,
   "metadata": {},
   "outputs": [],
   "source": [
    "res_teq = sp.solve(Eq1-Eq2, delta_t)"
   ]
  },
  {
   "cell_type": "code",
   "execution_count": null,
   "metadata": {},
   "outputs": [],
   "source": []
  },
  {
   "cell_type": "code",
   "execution_count": 36,
   "metadata": {},
   "outputs": [
    {
     "data": {
      "text/latex": [
       "$\\displaystyle - 2.91295063024394 \\left(\\frac{0.5 Ax^{2}}{Acc_{max}^{2}} - \\frac{Ax Dx}{Acc_{max}^{2}} - \\frac{0.666666666666667 Ax VAx t_{1}}{Acc_{max}^{2}} + \\frac{0.666666666666667 Ax VAx t_{2}}{Acc_{max}^{2}} - \\frac{0.333333333333333 Ax VDx t_{1}}{Acc_{max}^{2}} + \\frac{0.333333333333333 Ax VDx t_{2}}{Acc_{max}^{2}} + \\frac{0.5 Ay^{2}}{Acc_{max}^{2}} - \\frac{Ay Dy}{Acc_{max}^{2}} - \\frac{0.666666666666667 Ay VAy t_{1}}{Acc_{max}^{2}} + \\frac{0.666666666666667 Ay VAy t_{2}}{Acc_{max}^{2}} - \\frac{0.333333333333333 Ay VDy t_{1}}{Acc_{max}^{2}} + \\frac{0.333333333333333 Ay VDy t_{2}}{Acc_{max}^{2}} + \\frac{0.5 Dx^{2}}{Acc_{max}^{2}} + \\frac{0.666666666666667 Dx VAx t_{1}}{Acc_{max}^{2}} - \\frac{0.666666666666667 Dx VAx t_{2}}{Acc_{max}^{2}} + \\frac{0.333333333333333 Dx VDx t_{1}}{Acc_{max}^{2}} - \\frac{0.333333333333333 Dx VDx t_{2}}{Acc_{max}^{2}} + \\frac{0.5 Dy^{2}}{Acc_{max}^{2}} + \\frac{0.666666666666667 Dy VAy t_{1}}{Acc_{max}^{2}} - \\frac{0.666666666666667 Dy VAy t_{2}}{Acc_{max}^{2}} + \\frac{0.333333333333333 Dy VDy t_{1}}{Acc_{max}^{2}} - \\frac{0.333333333333333 Dy VDy t_{2}}{Acc_{max}^{2}} + \\frac{0.222222222222222 VAx^{2} t_{1}^{2}}{Acc_{max}^{2}} - \\frac{0.444444444444444 VAx^{2} t_{1} t_{2}}{Acc_{max}^{2}} + \\frac{0.222222222222222 VAx^{2} t_{2}^{2}}{Acc_{max}^{2}} + \\frac{0.222222222222222 VAx VDx t_{1}^{2}}{Acc_{max}^{2}} - \\frac{0.444444444444444 VAx VDx t_{1} t_{2}}{Acc_{max}^{2}} + \\frac{0.222222222222222 VAx VDx t_{2}^{2}}{Acc_{max}^{2}} + \\frac{0.222222222222222 VAy^{2} t_{1}^{2}}{Acc_{max}^{2}} - \\frac{0.444444444444444 VAy^{2} t_{1} t_{2}}{Acc_{max}^{2}} + \\frac{0.222222222222222 VAy^{2} t_{2}^{2}}{Acc_{max}^{2}} + \\frac{0.222222222222222 VAy VDy t_{1}^{2}}{Acc_{max}^{2}} - \\frac{0.444444444444444 VAy VDy t_{1} t_{2}}{Acc_{max}^{2}} + \\frac{0.222222222222222 VAy VDy t_{2}^{2}}{Acc_{max}^{2}} + \\frac{0.0555555555555556 VDx^{2} t_{1}^{2}}{Acc_{max}^{2}} - \\frac{0.111111111111111 VDx^{2} t_{1} t_{2}}{Acc_{max}^{2}} + \\frac{0.0555555555555556 VDx^{2} t_{2}^{2}}{Acc_{max}^{2}} + \\frac{0.0555555555555556 VDy^{2} t_{1}^{2}}{Acc_{max}^{2}} - \\frac{0.111111111111111 VDy^{2} t_{1} t_{2}}{Acc_{max}^{2}} + \\frac{0.0555555555555556 VDy^{2} t_{2}^{2}}{Acc_{max}^{2}}\\right)^{0.25}$"
      ],
      "text/plain": [
       "-2.91295063024394*(0.5*Ax**2/Acc_max**2 - Ax*Dx/Acc_max**2 - 0.666666666666667*Ax*VAx*t1/Acc_max**2 + 0.666666666666667*Ax*VAx*t2/Acc_max**2 - 0.333333333333333*Ax*VDx*t1/Acc_max**2 + 0.333333333333333*Ax*VDx*t2/Acc_max**2 + 0.5*Ay**2/Acc_max**2 - Ay*Dy/Acc_max**2 - 0.666666666666667*Ay*VAy*t1/Acc_max**2 + 0.666666666666667*Ay*VAy*t2/Acc_max**2 - 0.333333333333333*Ay*VDy*t1/Acc_max**2 + 0.333333333333333*Ay*VDy*t2/Acc_max**2 + 0.5*Dx**2/Acc_max**2 + 0.666666666666667*Dx*VAx*t1/Acc_max**2 - 0.666666666666667*Dx*VAx*t2/Acc_max**2 + 0.333333333333333*Dx*VDx*t1/Acc_max**2 - 0.333333333333333*Dx*VDx*t2/Acc_max**2 + 0.5*Dy**2/Acc_max**2 + 0.666666666666667*Dy*VAy*t1/Acc_max**2 - 0.666666666666667*Dy*VAy*t2/Acc_max**2 + 0.333333333333333*Dy*VDy*t1/Acc_max**2 - 0.333333333333333*Dy*VDy*t2/Acc_max**2 + 0.222222222222222*VAx**2*t1**2/Acc_max**2 - 0.444444444444444*VAx**2*t1*t2/Acc_max**2 + 0.222222222222222*VAx**2*t2**2/Acc_max**2 + 0.222222222222222*VAx*VDx*t1**2/Acc_max**2 - 0.444444444444444*VAx*VDx*t1*t2/Acc_max**2 + 0.222222222222222*VAx*VDx*t2**2/Acc_max**2 + 0.222222222222222*VAy**2*t1**2/Acc_max**2 - 0.444444444444444*VAy**2*t1*t2/Acc_max**2 + 0.222222222222222*VAy**2*t2**2/Acc_max**2 + 0.222222222222222*VAy*VDy*t1**2/Acc_max**2 - 0.444444444444444*VAy*VDy*t1*t2/Acc_max**2 + 0.222222222222222*VAy*VDy*t2**2/Acc_max**2 + 0.0555555555555556*VDx**2*t1**2/Acc_max**2 - 0.111111111111111*VDx**2*t1*t2/Acc_max**2 + 0.0555555555555556*VDx**2*t2**2/Acc_max**2 + 0.0555555555555556*VDy**2*t1**2/Acc_max**2 - 0.111111111111111*VDy**2*t1*t2/Acc_max**2 + 0.0555555555555556*VDy**2*t2**2/Acc_max**2)**0.25"
      ]
     },
     "execution_count": 36,
     "metadata": {},
     "output_type": "execute_result"
    }
   ],
   "source": [
    "res_accA[2].evalf(subs={\n",
    "    Ax: 1, \n",
    "    Ay:1, \n",
    "    \n",
    "    Dx: 2, \n",
    "    Dy: 3, \n",
    "    \n",
    "    \n",
    "    VAx:-13, \n",
    "    VAy:-1, \n",
    "    \n",
    "    VDx: 12, \n",
    "    VDy:-2,\n",
    "    \n",
    "    Acc_max: 10\n",
    "})"
   ]
  },
  {
   "cell_type": "code",
   "execution_count": 1,
   "metadata": {},
   "outputs": [
    {
     "name": "stderr",
     "output_type": "stream",
     "text": [
      "<frozen importlib._bootstrap>:219: RuntimeWarning: easyvec.vectors.Vec3 size changed, may indicate binary incompatibility. Expected 40 from C header, got 48 from PyObject\n"
     ]
    }
   ],
   "source": [
    "from cydrone.drone import get_max_a, get_B, get_C, Drone2d\n",
    "import numpy as np\n",
    "from easyvec import Vec2\n",
    "import matplotlib.pyplot as plt"
   ]
  },
  {
   "cell_type": "code",
   "execution_count": 2,
   "metadata": {},
   "outputs": [],
   "source": [
    "drone = Drone2d.get_DJI()"
   ]
  },
  {
   "cell_type": "code",
   "execution_count": 20,
   "metadata": {},
   "outputs": [
    {
     "name": "stdout",
     "output_type": "stream",
     "text": [
      "784 µs ± 9.06 µs per loop (mean ± std. dev. of 7 runs, 1000 loops each)\n"
     ]
    }
   ],
   "source": [
    "%timeit drone.get_delta_t_minimum((10,10),(-1,-3),5,10,1e-4)"
   ]
  },
  {
   "cell_type": "code",
   "execution_count": 17,
   "metadata": {},
   "outputs": [
    {
     "data": {
      "text/plain": [
       "[<matplotlib.lines.Line2D at 0x28ae469f940>]"
      ]
     },
     "execution_count": 17,
     "metadata": {},
     "output_type": "execute_result"
    },
    {
     "data": {
      "image/png": "[encoded data removed]",
      "text/plain": [
       "<Figure size 432x288 with 1 Axes>"
      ]
     },
     "metadata": {
      "needs_background": "light"
     },
     "output_type": "display_data"
    }
   ],
   "source": [
    "poss = drone.get_traject(delta_t, (10,10),(-1,-3))\n",
    "plt.plot(poss[:,0], poss[:,1])"
   ]
  },
  {
   "cell_type": "code",
   "execution_count": 18,
   "metadata": {},
   "outputs": [
    {
     "data": {
      "text/plain": [
       "[<matplotlib.lines.Line2D at 0x28ae4842d00>]"
      ]
     },
     "execution_count": 18,
     "metadata": {},
     "output_type": "execute_result"
    },
    {
     "data": {
      "image/png": "[encoded data removed]",
      "text/plain": [
       "<Figure size 432x288 with 1 Axes>"
      ]
     },
     "metadata": {
      "needs_background": "light"
     },
     "output_type": "display_data"
    }
   ],
   "source": [
    "poss = drone.get_traject_vels(delta_t, (10,10),(-1,-3))\n",
    "plt.plot(poss[:,0], poss[:,1])"
   ]
  },
  {
   "cell_type": "code",
   "execution_count": 65,
   "metadata": {},
   "outputs": [
    {
     "data": {
      "text/plain": [
       "2.6"
      ]
     },
     "execution_count": 65,
     "metadata": {},
     "output_type": "execute_result"
    }
   ],
   "source": [
    "A = Vec2(-100,20)\n",
    "D = Vec2(30,-50)\n",
    "Va = Vec2(-3,2)\n",
    "Vd = Vec2(-10,3)\n",
    "delta_t = 30\n",
    "\n",
    "B = get_B(delta_t, A, Va)\n",
    "C = get_C(delta_t, D, Vd)\n",
    "\n",
    "get_max_a(delta_t, A, B, C, D)"
   ]
  },
  {
   "cell_type": "code",
   "execution_count": 66,
   "metadata": {},
   "outputs": [
    {
     "data": {
      "text/plain": [
       "2.6"
      ]
     },
     "execution_count": 66,
     "metadata": {},
     "output_type": "execute_result"
    }
   ],
   "source": [
    "blend = 1\n",
    "((-6*(B-A) + 6*blend*(B-A) + 6 * (C-B) - 12*blend*(C-B) + 6 * blend*(D-C))/(delta_t)**2).len()"
   ]
  },
  {
   "cell_type": "code",
   "execution_count": 67,
   "metadata": {},
   "outputs": [
    {
     "data": {
      "text/plain": [
       "Vec2(-10.0, 3.0)"
      ]
     },
     "execution_count": 67,
     "metadata": {},
     "output_type": "execute_result"
    }
   ],
   "source": [
    "(3*(1-blend)**2*(B-A) + 6*blend*(1-blend)*(C-B) + 3*blend**2*(D-C))/(delta_t)"
   ]
  },
  {
   "cell_type": "code",
   "execution_count": 101,
   "metadata": {},
   "outputs": [
    {
     "data": {
      "text/plain": [
       "[<matplotlib.lines.Line2D at 0x1603fd466a0>]"
      ]
     },
     "execution_count": 101,
     "metadata": {},
     "output_type": "execute_result"
    },
    {
     "data": {
      "image/png": "[encoded data removed]",
      "text/plain": [
       "<Figure size 432x288 with 1 Axes>"
      ]
     },
     "metadata": {
      "needs_background": "light"
     },
     "output_type": "display_data"
    }
   ],
   "source": [
    "ts = np.linspace(0,1, 140)\n",
    "BA = B-A\n",
    "CB = C - B\n",
    "DC = D - C\n",
    "vs = []\n",
    "xs = []\n",
    "ys = []\n",
    "for blend in ts:\n",
    "    v = (BA*3*(1-blend)**2 + CB*6*blend*(1-blend)+ DC*3*blend**2)/delta_t\n",
    "#     v = (-6*BA + 6*blend*BA + 6 * CB - 12*blend*CB + 6 * blend*DC)/(delta_t**2)\n",
    "    xs.append(v[0])\n",
    "    ys.append(v[1])\n",
    "    vs.append(v.len())\n",
    "plt.plot(ts, vs)\n",
    "\n",
    "ts2 = np.linspace(0,1,1000)\n",
    "plt.plot(ts2, np.poly1d(np.polyfit(ts, vs, 4))(ts2))"
   ]
  },
  {
   "cell_type": "code",
   "execution_count": 90,
   "metadata": {},
   "outputs": [
    {
     "data": {
      "text/plain": [
       "[<matplotlib.lines.Line2D at 0x1603e9a7490>]"
      ]
     },
     "execution_count": 90,
     "metadata": {},
     "output_type": "execute_result"
    },
    {
     "data": {
      "image/png": "[encoded data removed]",
      "text/plain": [
       "<Figure size 432x288 with 1 Axes>"
      ]
     },
     "metadata": {
      "needs_background": "light"
     },
     "output_type": "display_data"
    }
   ],
   "source": [
    "plt.plot(xs, ys)"
   ]
  },
  {
   "cell_type": "code",
   "execution_count": 91,
   "metadata": {},
   "outputs": [
    {
     "data": {
      "text/plain": [
       "array([ 2.50217224,  2.08133512,  2.01362104,  2.23909338,  2.70159339,\n",
       "        3.3487402 ,  4.1319308 ,  5.00634006,  5.93092071,  6.86840336,\n",
       "        7.78529647,  8.65188639,  9.44223733, 10.13419136, 10.70936845,\n",
       "       11.1531664 , 11.4547609 , 11.60710552, 11.60693168, 11.45474867,\n",
       "       11.15484367, 10.7152817 , 10.14790568,  9.46833637,  8.69597242,\n",
       "        7.85399034,  6.96934452,  6.0727672 ,  5.19876851,  4.38563643,\n",
       "        3.67543683,  3.11401343,  2.75098783,  2.63975951,  2.83750579,\n",
       "        3.40518189,  4.40752087,  5.91303369,  7.99400916, 10.72651396])"
      ]
     },
     "execution_count": 91,
     "metadata": {},
     "output_type": "execute_result"
    }
   ],
   "source": []
  }
 ],
 "metadata": {
  "kernelspec": {
   "display_name": "Python 3",
   "language": "python",
   "name": "python3"
  },
  "language_info": {
   "codemirror_mode": {
    "name": "ipython",
    "version": 3
   },
   "file_extension": ".py",
   "mimetype": "text/x-python",
   "name": "python",
   "nbconvert_exporter": "python",
   "pygments_lexer": "ipython3",
   "version": "3.8.5"
  }
 },
 "nbformat": 4,
 "nbformat_minor": 4
}
