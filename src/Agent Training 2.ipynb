{
 "cells": [
  {
   "cell_type": "code",
   "execution_count": 1,
   "metadata": {},
   "outputs": [],
   "source": [
    "from mybot2 import MissileCoach\n",
    "from tqdm.notebook import tqdm"
   ]
  },
  {
   "cell_type": "code",
   "execution_count": null,
   "metadata": {},
   "outputs": [
    {
     "name": "stdout",
     "output_type": "stream",
     "text": [
      "loading dataset\n",
      "Loading D:\\neuro_missile\\src\\saves\\standart.bin...\n",
      "Loading D:\\neuro_missile\\src\\saves\\sc_simple_2.bin...\n"
     ]
    }
   ],
   "source": [
    "mc = MissileCoach.create_new(64,128,128,64, 0.9, 512, 64, 0.00005, 0.0005,15)"
   ]
  },
  {
   "cell_type": "code",
   "execution_count": 16,
   "metadata": {},
   "outputs": [
    {
     "name": "stderr",
     "output_type": "stream",
     "text": [
      "100%|██████████████████████████████████████████████████████████████████████████████| 1181/1181 [00:29<00:00, 39.55it/s]\n",
      "100%|██████████████████████████████████████████████████████████████████████████████| 1181/1181 [00:28<00:00, 40.89it/s]\n",
      "100%|██████████████████████████████████████████████████████████████████████████████| 1181/1181 [00:29<00:00, 40.51it/s]\n",
      "100%|██████████████████████████████████████████████████████████████████████████████| 1181/1181 [00:29<00:00, 40.33it/s]\n",
      "100%|██████████████████████████████████████████████████████████████████████████████| 1181/1181 [00:30<00:00, 38.69it/s]\n",
      "100%|██████████████████████████████████████████████████████████████████████████████| 1181/1181 [00:30<00:00, 38.23it/s]\n",
      "100%|██████████████████████████████████████████████████████████████████████████████| 1181/1181 [00:30<00:00, 38.43it/s]\n",
      "100%|██████████████████████████████████████████████████████████████████████████████| 1181/1181 [00:30<00:00, 38.71it/s]\n",
      "100%|██████████████████████████████████████████████████████████████████████████████| 1181/1181 [00:30<00:00, 39.25it/s]\n",
      "100%|██████████████████████████████████████████████████████████████████████████████| 1181/1181 [00:29<00:00, 39.60it/s]\n",
      "100%|██████████████████████████████████████████████████████████████████████████████| 1181/1181 [00:30<00:00, 38.92it/s]\n",
      "100%|██████████████████████████████████████████████████████████████████████████████| 1181/1181 [00:30<00:00, 38.84it/s]\n",
      "100%|██████████████████████████████████████████████████████████████████████████████| 1181/1181 [00:29<00:00, 40.32it/s]\n",
      "100%|██████████████████████████████████████████████████████████████████████████████| 1181/1181 [00:29<00:00, 39.89it/s]\n",
      "100%|██████████████████████████████████████████████████████████████████████████████| 1181/1181 [00:29<00:00, 39.52it/s]\n",
      "100%|██████████████████████████████████████████████████████████████████████████████| 1181/1181 [00:30<00:00, 38.49it/s]\n",
      "100%|██████████████████████████████████████████████████████████████████████████████| 1181/1181 [00:30<00:00, 39.13it/s]\n",
      "100%|██████████████████████████████████████████████████████████████████████████████| 1181/1181 [00:30<00:00, 38.36it/s]\n",
      "100%|██████████████████████████████████████████████████████████████████████████████| 1181/1181 [00:30<00:00, 38.70it/s]\n",
      "100%|██████████████████████████████████████████████████████████████████████████████| 1181/1181 [00:30<00:00, 38.65it/s]\n"
     ]
    }
   ],
   "source": [
    "for i in range(2000):\n",
    "    mc.make_epoch()"
   ]
  },
  {
   "cell_type": "code",
   "execution_count": 30,
   "metadata": {},
   "outputs": [],
   "source": [
    "import matplotlib.pyplot as plt\n",
    "import numpy as np\n",
    "\n",
    "node = mc.get_dataset().trees['standart']['tree'].root\n",
    "ts, alphas, xsm, ysm, xst, yst = mc.make_traect(node)"
   ]
  },
  {
   "cell_type": "code",
   "execution_count": 31,
   "metadata": {},
   "outputs": [
    {
     "data": {
      "text/plain": [
       "False"
      ]
     },
     "execution_count": 31,
     "metadata": {},
     "output_type": "execute_result"
    }
   ],
   "source": [
    "node.done"
   ]
  },
  {
   "cell_type": "code",
   "execution_count": 32,
   "metadata": {},
   "outputs": [
    {
     "data": {
      "image/png": "[encoded data removed]",
      "text/plain": [
       "<Figure size 432x288 with 1 Axes>"
      ]
     },
     "metadata": {
      "needs_background": "light"
     },
     "output_type": "display_data"
    }
   ],
   "source": [
    "plt.plot(xsm, ysm)\n",
    "plt.plot(xst, yst)\n",
    "plt.show()"
   ]
  },
  {
   "cell_type": "code",
   "execution_count": 17,
   "metadata": {},
   "outputs": [
    {
     "data": {
      "text/plain": [
       "[<matplotlib.lines.Line2D at 0x178ebc55248>]"
      ]
     },
     "execution_count": 17,
     "metadata": {},
     "output_type": "execute_result"
    },
    {
     "data": {
      "image/png": "[encoded data removed]",
      "text/plain": [
       "<Figure size 432x288 with 1 Axes>"
      ]
     },
     "metadata": {
      "needs_background": "light"
     },
     "output_type": "display_data"
    }
   ],
   "source": [
    "plt.plot(mc.history)"
   ]
  },
  {
   "cell_type": "code",
   "execution_count": null,
   "metadata": {},
   "outputs": [],
   "source": []
  }
 ],
 "metadata": {
  "kernelspec": {
   "display_name": "env_neuro_missile",
   "language": "python",
   "name": "env_neuro_missile"
  },
  "language_info": {
   "codemirror_mode": {
    "name": "ipython",
    "version": 3
   },
   "file_extension": ".py",
   "mimetype": "text/x-python",
   "name": "python",
   "nbconvert_exporter": "python",
   "pygments_lexer": "ipython3",
   "version": "3.7.5"
  }
 },
 "nbformat": 4,
 "nbformat_minor": 4
}
