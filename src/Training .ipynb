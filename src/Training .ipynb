{
 "cells": [
  {
   "cell_type": "code",
   "execution_count": 3,
   "metadata": {},
   "outputs": [],
   "source": [
    "%load_ext autoreload\n",
    "%autoreload 2"
   ]
  },
  {
   "cell_type": "code",
   "execution_count": 5,
   "metadata": {},
   "outputs": [],
   "source": [
    "import numpy as np\n",
    "from missile_gym import MissileGym\n",
    "from gymtree import GymTree, Node"
   ]
  },
  {
   "cell_type": "code",
   "execution_count": 15,
   "metadata": {},
   "outputs": [
    {
     "name": "stdout",
     "output_type": "stream",
     "text": [
      "True [1500. 2000.]\n",
      "[25.          0.          0.          0.92729522  0.          0.        ]\n"
     ]
    }
   ],
   "source": [
    "gym = MissileGym.make_simple_scenario((1000, 2000), (100,0))"
   ]
  },
  {
   "cell_type": "code",
   "execution_count": 16,
   "metadata": {},
   "outputs": [],
   "source": [
    "tree = GymTree(gym)"
   ]
  },
  {
   "cell_type": "code",
   "execution_count": 17,
   "metadata": {},
   "outputs": [],
   "source": [
    "tree.reset()"
   ]
  },
  {
   "cell_type": "code",
   "execution_count": 18,
   "metadata": {},
   "outputs": [],
   "source": [
    "node = tree.get_not_full_nodes()[0]"
   ]
  },
  {
   "cell_type": "code",
   "execution_count": 22,
   "metadata": {},
   "outputs": [
    {
     "ename": "AttributeError",
     "evalue": "'NoneType' object has no attribute 'produce_node'",
     "output_type": "error",
     "traceback": [
      "\u001b[1;31m---------------------------------------------------------------------------\u001b[0m",
      "\u001b[1;31mAttributeError\u001b[0m                            Traceback (most recent call last)",
      "\u001b[1;32m<ipython-input-22-8aac91453b42>\u001b[0m in \u001b[0;36m<module>\u001b[1;34m\u001b[0m\n\u001b[1;32m----> 1\u001b[1;33m \u001b[0mnode\u001b[0m\u001b[1;33m=\u001b[0m \u001b[0mnode\u001b[0m\u001b[1;33m.\u001b[0m\u001b[0mproduce_node\u001b[0m\u001b[1;33m(\u001b[0m\u001b[1;36m1\u001b[0m\u001b[1;33m)\u001b[0m\u001b[1;33m\u001b[0m\u001b[1;33m\u001b[0m\u001b[0m\n\u001b[0m",
      "\u001b[1;31mAttributeError\u001b[0m: 'NoneType' object has no attribute 'produce_node'"
     ]
    }
   ],
   "source": [
    "node= node.produce_node(1)"
   ]
  },
  {
   "cell_type": "code",
   "execution_count": 21,
   "metadata": {},
   "outputs": [
    {
     "data": {
      "text/plain": [
       "{'root_uuid': UUID('7d49559c-8d55-11ea-8bca-001a7dda7115'),\n",
       " 'nodes': {UUID('7d49559c-8d55-11ea-8bca-001a7dda7115'): {'parent_uuid': None,\n",
       "   'gym_state': array([0.        , 0.52862457, 0.025     , 0.64758362, 0.5       ,\n",
       "          0.        , 0.52862457, 0.025     , 0.64758362, 0.5       ]),\n",
       "   'action_from': None,\n",
       "   'obs': None,\n",
       "   'reward': None,\n",
       "   'done': False,\n",
       "   'info': {'is_full': False},\n",
       "   'uuid': UUID('7d49559c-8d55-11ea-8bca-001a7dda7115'),\n",
       "   'children_uuids': {1: UUID('81aa3bdc-8d55-11ea-bd10-001a7dda7115')}},\n",
       "  UUID('81aa3bdc-8d55-11ea-bd10-001a7dda7115'): {'parent_uuid': UUID('7d49559c-8d55-11ea-8bca-001a7dda7115'),\n",
       "   'gym_state': array([        nan,         nan,         nan,         nan, 12.5       ,\n",
       "           0.03333333,  3.86195791,  0.025     ,  0.68091695,  0.        ,\n",
       "                  nan,  0.        ,  0.60306613,  0.51666667]),\n",
       "   'action_from': 1,\n",
       "   'obs': array([0.        ,        nan, 0.        , 0.60306613, 0.51666667,\n",
       "          0.00166667,        nan,        nan,        nan, 0.91666667]),\n",
       "   'reward': 999,\n",
       "   'done': True,\n",
       "   'info': {'done_reason': 'мы попали', 't': 0.03333333333333333},\n",
       "   'uuid': UUID('81aa3bdc-8d55-11ea-bd10-001a7dda7115'),\n",
       "   'children_uuids': {}}}}"
      ]
     },
     "execution_count": 21,
     "metadata": {},
     "output_type": "execute_result"
    }
   ],
   "source": [
    "tree.to_dict()"
   ]
  }
 ],
 "metadata": {
  "kernelspec": {
   "display_name": "env_neuro_missile",
   "language": "python",
   "name": "env_neuro_missile"
  },
  "language_info": {
   "codemirror_mode": {
    "name": "ipython",
    "version": 3
   },
   "file_extension": ".py",
   "mimetype": "text/x-python",
   "name": "python",
   "nbconvert_exporter": "python",
   "pygments_lexer": "ipython3",
   "version": "3.7.5"
  }
 },
 "nbformat": 4,
 "nbformat_minor": 4
}
