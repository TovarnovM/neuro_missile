{
 "cells": [
  {
   "cell_type": "code",
   "execution_count": 17,
   "metadata": {},
   "outputs": [],
   "source": [
    "from uuid import uuid1\n",
    "import numpy as np"
   ]
  },
  {
   "cell_type": "code",
   "execution_count": 10,
   "metadata": {},
   "outputs": [],
   "source": [
    "u = uuid1()"
   ]
  },
  {
   "cell_type": "code",
   "execution_count": 11,
   "metadata": {},
   "outputs": [
    {
     "data": {
      "text/plain": [
       "1941172724367032477"
      ]
     },
     "execution_count": 11,
     "metadata": {},
     "output_type": "execute_result"
    }
   ],
   "source": [
    "hash(u)"
   ]
  },
  {
   "cell_type": "code",
   "execution_count": null,
   "metadata": {},
   "outputs": [],
   "source": [
    "class GymTree:\n",
    "    def __init__(self, gym):\n",
    "        self.gym = gym\n",
    "        self.root = None\n",
    "        self.nodes = {}\n",
    "        \n",
    "        \n",
    "class Node:\n",
    "    def __init__(self, \n",
    "                 owner, \n",
    "                 parent, \n",
    "                 gym_state=None, \n",
    "                 action_from=None,  \n",
    "                 obs=None, \n",
    "                 reward=None, \n",
    "                 done=False, \n",
    "                 info=None,\n",
    "                 uuid=None):\n",
    "        self.owner = owner\n",
    "        self.parent = parent\n",
    "        self.gym_state = np.array(gym_state) if gym_state is not None else None\n",
    "        self.action_from = action_from\n",
    "        self.obs = np.array(obs) if obs is not None else None\n",
    "        self.reward = reward\n",
    "        self.done = done\n",
    "        seif.info = info\n",
    "        self.uuid = uuid if uuid is not None else uuid1()        \n",
    "        self.children = {}\n",
    "        self.\n",
    "        \n",
    "        \n",
    "    def produce_node(self, action):\n",
    "        if action in self.children:\n",
    "            raise AttributeError(f'Мы уже считали это!! ')\n",
    "        self.owner.gym.set_state(self.gym_state)\n",
    "        obs, reward, done, info = self.owner.step(action)\n",
    "        child = Node(\n",
    "            owner=self.owner,\n",
    "            parent=self,\n",
    "            gym_state=self.owner.get_state(),\n",
    "            action_from = action,\n",
    "            obs = obs,\n",
    "            reward = reward,\n",
    "            done = done,\n",
    "            info = info)\n",
    "        self.children[action] = child\n",
    "        return child\n",
    "        \n",
    "    def is_full_children(self, actions=None):\n",
    "        if actions is None:\n",
    "            actions = [-1,0,1]\n",
    "        for a in actions:\n",
    "            if a not in self.children:\n",
    "                return False\n",
    "        return True\n",
    "    \n",
    "    def get_missing_actions(self, actions_full=None):\n",
    "        if actions_full is None:\n",
    "            actions_full = [-1,0,1]\n",
    "        return [a for a in actions_full if a not in self.children]\n",
    "    \n",
    "    def get_high_aver_low_rewards(self):\n",
    "        rewards = np.array([n.reward for n in self.children.values()])\n",
    "        return np.max(rewards), np.average(rewards), np.min(rewards)\n",
    "    \n",
    "    def get_best_node(self, foo=None):\n",
    "        children_list = list(self.children.values())\n",
    "        if foo:\n",
    "            scores = [foo(node) for node in children_list]\n",
    "        else:\n",
    "            scores = [node.reward for node in children_list]\n",
    "        return children_list[np.argmax(scores)]\n",
    "    \n",
    "    def get_nodes_sorted(self, foo=None)\n",
    "        children_list = list(self.children.values())\n",
    "        if foo:\n",
    "            scores = [foo(node) for node in children_list]\n",
    "        else:\n",
    "            scores = [node.reward for node in children_list]\n",
    "        return [children_list[i] for i in np.argsort(scores)]\n",
    "        \n",
    "        \n",
    "    "
   ]
  },
  {
   "cell_type": "code",
   "execution_count": 12,
   "metadata": {},
   "outputs": [],
   "source": [
    "import pickle"
   ]
  },
  {
   "cell_type": "code",
   "execution_count": 13,
   "metadata": {},
   "outputs": [
    {
     "data": {
      "text/plain": [
       "UUID('f7768574-8bbf-11ea-92cd-001a7dda7115')"
      ]
     },
     "execution_count": 13,
     "metadata": {},
     "output_type": "execute_result"
    }
   ],
   "source": [
    "u = uuid1()\n",
    "u"
   ]
  },
  {
   "cell_type": "code",
   "execution_count": 14,
   "metadata": {},
   "outputs": [
    {
     "data": {
      "text/plain": [
       "UUID('f7768574-8bbf-11ea-92cd-001a7dda7115')"
      ]
     },
     "execution_count": 14,
     "metadata": {},
     "output_type": "execute_result"
    }
   ],
   "source": [
    "b = pickle.dumps(u)\n",
    "pickle.loads(b)"
   ]
  },
  {
   "cell_type": "code",
   "execution_count": 15,
   "metadata": {},
   "outputs": [
    {
     "data": {
      "text/plain": [
       "b'\\x80\\x03cuuid\\nUUID\\nq\\x00)\\x81q\\x01}q\\x02X\\x03\\x00\\x00\\x00intq\\x03\\x8a\\x11\\x15q\\xda}\\x1a\\x00\\xcd\\x92\\xea\\x11\\xbf\\x8bt\\x85v\\xf7\\x00sb.'"
      ]
     },
     "execution_count": 15,
     "metadata": {},
     "output_type": "execute_result"
    }
   ],
   "source": [
    "b"
   ]
  },
  {
   "cell_type": "code",
   "execution_count": 19,
   "metadata": {},
   "outputs": [
    {
     "data": {
      "text/plain": [
       "array([4, 3, 0, 1, 2], dtype=int64)"
      ]
     },
     "execution_count": 19,
     "metadata": {},
     "output_type": "execute_result"
    }
   ],
   "source": [
    "np.argsort([1,2,3,-1,-2])"
   ]
  },
  {
   "cell_type": "code",
   "execution_count": 1,
   "metadata": {},
   "outputs": [],
   "source": [
    "from dask.distributed import Client"
   ]
  },
  {
   "cell_type": "code",
   "execution_count": 2,
   "metadata": {},
   "outputs": [],
   "source": [
    "client = Client()"
   ]
  },
  {
   "cell_type": "code",
   "execution_count": 3,
   "metadata": {},
   "outputs": [
    {
     "data": {
      "text/html": [
       "<table style=\"border: 2px solid white;\">\n",
       "<tr>\n",
       "<td style=\"vertical-align: top; border: 0px solid white\">\n",
       "<h3 style=\"text-align: left;\">Client</h3>\n",
       "<ul style=\"text-align: left; list-style: none; margin: 0; padding: 0;\">\n",
       "  <li><b>Scheduler: </b>tcp://127.0.0.1:50177</li>\n",
       "  <li><b>Dashboard: </b><a href='http://127.0.0.1:8787/status' target='_blank'>http://127.0.0.1:8787/status</a></li>\n",
       "</ul>\n",
       "</td>\n",
       "<td style=\"vertical-align: top; border: 0px solid white\">\n",
       "<h3 style=\"text-align: left;\">Cluster</h3>\n",
       "<ul style=\"text-align: left; list-style:none; margin: 0; padding: 0;\">\n",
       "  <li><b>Workers: </b>4</li>\n",
       "  <li><b>Cores: </b>8</li>\n",
       "  <li><b>Memory: </b>17.11 GB</li>\n",
       "</ul>\n",
       "</td>\n",
       "</tr>\n",
       "</table>"
      ],
      "text/plain": [
       "<Client: 'tcp://127.0.0.1:50177' processes=4 threads=8, memory=17.11 GB>"
      ]
     },
     "execution_count": 3,
     "metadata": {},
     "output_type": "execute_result"
    }
   ],
   "source": [
    "client"
   ]
  },
  {
   "cell_type": "code",
   "execution_count": 13,
   "metadata": {},
   "outputs": [],
   "source": [
    "client.direct_to_workers?"
   ]
  },
  {
   "cell_type": "code",
   "execution_count": 10,
   "metadata": {},
   "outputs": [],
   "source": [
    "def foo():\n",
    "    import sys\n",
    "    return sys.path\n",
    "\n",
    "fut = client.submit(foo)"
   ]
  },
  {
   "cell_type": "code",
   "execution_count": 11,
   "metadata": {},
   "outputs": [
    {
     "data": {
      "text/plain": [
       "['D:\\\\neuro_missile\\\\src\\\\dask-worker-space\\\\worker-0s9jqg86',\n",
       " 'D:\\\\neuro_missile\\\\src',\n",
       " 'd:\\\\neuro_missile\\\\env_neuro_missile\\\\scripts\\\\python37.zip',\n",
       " 'd:\\\\neuro_missile\\\\env_neuro_missile\\\\DLLs',\n",
       " 'd:\\\\neuro_missile\\\\env_neuro_missile\\\\lib',\n",
       " 'd:\\\\neuro_missile\\\\env_neuro_missile\\\\scripts',\n",
       " 'C:\\\\ProgramData\\\\Anaconda3\\\\Lib',\n",
       " 'C:\\\\ProgramData\\\\Anaconda3\\\\DLLs',\n",
       " 'd:\\\\neuro_missile\\\\env_neuro_missile',\n",
       " 'D:\\\\neuro_missile\\\\src',\n",
       " 'd:\\\\neuro_missile\\\\env_neuro_missile\\\\lib\\\\site-packages',\n",
       " 'd:\\\\neuro_missile\\\\env_neuro_missile\\\\lib\\\\site-packages\\\\win32',\n",
       " 'd:\\\\neuro_missile\\\\env_neuro_missile\\\\lib\\\\site-packages\\\\win32\\\\lib',\n",
       " 'd:\\\\neuro_missile\\\\env_neuro_missile\\\\lib\\\\site-packages\\\\Pythonwin',\n",
       " 'd:\\\\neuro_missile\\\\env_neuro_missile\\\\lib\\\\site-packages\\\\IPython\\\\extensions',\n",
       " 'C:\\\\Users\\\\User\\\\.ipython']"
      ]
     },
     "execution_count": 11,
     "metadata": {},
     "output_type": "execute_result"
    }
   ],
   "source": [
    "fut.result()"
   ]
  },
  {
   "cell_type": "code",
   "execution_count": 15,
   "metadata": {},
   "outputs": [],
   "source": [
    "class MyActor:\n",
    "    def __init__(self, name):\n",
    "        self.name = name\n",
    "    \n",
    "    def get_name(self):\n",
    "        from dask.distributed import get_worker\n",
    "        return self.name, get_worker().id"
   ]
  },
  {
   "cell_type": "code",
   "execution_count": 16,
   "metadata": {},
   "outputs": [],
   "source": [
    "fut = client.map(MyActor, [1,2,3,4,5,6,7,8,9,10,11,12], actors=True)"
   ]
  },
  {
   "cell_type": "code",
   "execution_count": 23,
   "metadata": {},
   "outputs": [
    {
     "data": {
      "text/plain": [
       "{'Worker-cd19ef33-daf4-4e01-83dd-1c8ba017c912': [1, 5, 9],\n",
       " 'Worker-b13c60e4-d8ff-44f0-81ae-21c574ae499c': [2, 6, 10],\n",
       " 'Worker-a52e5f43-b75c-42e6-9764-1c196b6bb2c6': [3, 7, 11],\n",
       " 'Worker-21dfabff-0c1e-4bb2-84c1-40c0956d1f82': [4, 8, 12]}"
      ]
     },
     "execution_count": 23,
     "metadata": {},
     "output_type": "execute_result"
    }
   ],
   "source": [
    "ctr = {}\n",
    "for i, wid in [f.result().get_name().result() for f in fut]:\n",
    "    if wid in ctr:\n",
    "        ctr[wid].append(i)\n",
    "    else:\n",
    "        ctr[wid] = [i]\n",
    "ctr"
   ]
  }
 ],
 "metadata": {
  "kernelspec": {
   "display_name": "env_neuro_missile",
   "language": "python",
   "name": "env_neuro_missile"
  },
  "language_info": {
   "codemirror_mode": {
    "name": "ipython",
    "version": 3
   },
   "file_extension": ".py",
   "mimetype": "text/x-python",
   "name": "python",
   "nbconvert_exporter": "python",
   "pygments_lexer": "ipython3",
   "version": "3.7.5"
  }
 },
 "nbformat": 4,
 "nbformat_minor": 4
}
