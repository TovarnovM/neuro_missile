{
 "cells": [
  {
   "cell_type": "code",
   "execution_count": 1,
   "metadata": {},
   "outputs": [],
   "source": [
    "%load_ext autoreload\n",
    "%autoreload 2"
   ]
  },
  {
   "cell_type": "code",
   "execution_count": 1,
   "metadata": {},
   "outputs": [],
   "source": [
    "import numpy as np\n",
    "from drone_sac import AgentParallel, BufferParallel\n",
    "from drone_gym import DroneGym\n",
    "from tqdm.notebook import tqdm\n",
    "import torch as T\n",
    "import matplotlib.pyplot as plt"
   ]
  },
  {
   "cell_type": "code",
   "execution_count": 2,
   "metadata": {},
   "outputs": [
    {
     "name": "stderr",
     "output_type": "stream",
     "text": [
      "D:\\neuro_missile\\env_neuro_missile\\lib\\site-packages\\distributed\\node.py:151: UserWarning: Port 8787 is already in use.\n",
      "Perhaps you already have a cluster running?\n",
      "Hosting the HTTP server on port 57090 instead\n",
      "  warnings.warn(\n"
     ]
    },
    {
     "data": {
      "text/html": [
       "<table style=\"border: 2px solid white;\">\n",
       "<tr>\n",
       "<td style=\"vertical-align: top; border: 0px solid white\">\n",
       "<h3 style=\"text-align: left;\">Client</h3>\n",
       "<ul style=\"text-align: left; list-style: none; margin: 0; padding: 0;\">\n",
       "  <li><b>Scheduler: </b>tcp://127.0.0.1:57093</li>\n",
       "  <li><b>Dashboard: </b><a href='http://127.0.0.1:57090/status' target='_blank'>http://127.0.0.1:57090/status</a></li>\n",
       "</ul>\n",
       "</td>\n",
       "<td style=\"vertical-align: top; border: 0px solid white\">\n",
       "<h3 style=\"text-align: left;\">Cluster</h3>\n",
       "<ul style=\"text-align: left; list-style:none; margin: 0; padding: 0;\">\n",
       "  <li><b>Workers: </b>2</li>\n",
       "  <li><b>Cores: </b>2</li>\n",
       "  <li><b>Memory: </b>15.94 GiB</li>\n",
       "</ul>\n",
       "</td>\n",
       "</tr>\n",
       "</table>"
      ],
      "text/plain": [
       "<Client: 'tcp://127.0.0.1:57093' processes=2 threads=2, memory=15.94 GiB>"
      ]
     },
     "execution_count": 2,
     "metadata": {},
     "output_type": "execute_result"
    }
   ],
   "source": [
    "from distributed import Client, LocalCluster\n",
    "\n",
    "n_workers  = 2\n",
    "cl = Client(LocalCluster(n_workers=n_workers, threads_per_worker=1))\n",
    "cl"
   ]
  },
  {
   "cell_type": "code",
   "execution_count": 3,
   "metadata": {},
   "outputs": [],
   "source": [
    "def generate_data(agent_dict, n_points):\n",
    "    try:\n",
    "        import sys\n",
    "        sys.path.append(r'D:\\neuro_missile\\src\\cydrone')\n",
    "        sys.path.append(r'D:\\neuro_missile\\src')\n",
    "        import numpy as np\n",
    "        from drone_sac import AgentParallel, BufferParallel\n",
    "        from drone_gym import DroneGym\n",
    "        \n",
    "#         import pickle\n",
    "#         with open('agent_dict.bin', 'rb') as f:\n",
    "#             agent_dict = pickle.load(f)\n",
    "        \n",
    "        env = DroneGym.make()\n",
    "        agent = AgentParallel(\n",
    "            input_dims=env.obs_max.shape, \n",
    "            n_actions=2, \n",
    "            action_space_high=env.action_space.high,\n",
    "            device_name='cpu')\n",
    "        agent.from_dict(agent_dict)\n",
    "        buffer = BufferParallel(agent)\n",
    "\n",
    "        env.record_history = False\n",
    "        env.antiflip = True\n",
    "        n = 0\n",
    "        while True:\n",
    "            observation = env.reset()\n",
    "            done = False\n",
    "            while not done:\n",
    "                action = agent.choose_action(observation)\n",
    "#                 action = np.random.uniform(0.97,1, size=2)\n",
    "                observation_, reward, done, info = env.step(action)\n",
    "                buffer.store_transition(observation, action, reward, observation_, done)\n",
    "                observation = observation_\n",
    "                n += 1\n",
    "                if n >= n_points:\n",
    "                    return True, buffer.to_dict(), info\n",
    "            return True, buffer.to_dict(), info\n",
    "    except Exception as e:\n",
    "        return False, {'error': str(e)}\n",
    "    \n",
    "    \n",
    "def generate_data_file(n_points):\n",
    "    try:\n",
    "        import sys\n",
    "        sys.path.append(r'D:\\neuro_missile\\src\\cydrone')\n",
    "        sys.path.append(r'D:\\neuro_missile\\src')\n",
    "        import numpy as np\n",
    "        from drone_sac import AgentParallel, BufferParallel\n",
    "        from drone_gym import DroneGym\n",
    "        \n",
    "        import pickle\n",
    "        with open('agent_dict.bin', 'rb') as f:\n",
    "            agent_dict = pickle.load(f)\n",
    "        \n",
    "        env = DroneGym.make()\n",
    "        agent = AgentParallel(\n",
    "            input_dims=env.obs_max.shape, \n",
    "            n_actions=2, \n",
    "            action_space_high=env.action_space.high,\n",
    "            device_name='cpu')\n",
    "        agent.from_dict(agent_dict)\n",
    "        buffer = BufferParallel(agent)\n",
    "\n",
    "        env.record_history = False\n",
    "        env.antiflip = True\n",
    "        n = 0\n",
    "        while True:\n",
    "            observation = env.reset()\n",
    "            done = False\n",
    "            while not done:\n",
    "                action = agent.choose_action(observation)\n",
    "#                 action = np.random.uniform(0.97,1, size=2)\n",
    "                observation_, reward, done, info = env.step(action)\n",
    "                buffer.store_transition(observation, action, reward, observation_, done)\n",
    "                observation = observation_\n",
    "                n += 1\n",
    "                if n >= n_points:\n",
    "                    return True, buffer.to_dict(), info\n",
    "            return True, buffer.to_dict(), info\n",
    "    except Exception as e:\n",
    "        return False, {'error': str(e)}, {}\n",
    "    \n",
    "    \n",
    "    "
   ]
  },
  {
   "cell_type": "code",
   "execution_count": 4,
   "metadata": {},
   "outputs": [],
   "source": [
    "env = DroneGym.make()\n",
    "agent = AgentParallel(input_dims=env.obs_max.shape, n_actions=2, action_space_high=env.action_space.high)\n",
    "buffer = BufferParallel(agent)\n",
    "\n",
    "import pickle\n",
    "with open('agent_dict.bin', 'rb') as f:\n",
    "    agent_dict = pickle.load(f)\n",
    "agent.from_dict(agent_dict)"
   ]
  },
  {
   "cell_type": "code",
   "execution_count": 5,
   "metadata": {},
   "outputs": [],
   "source": [
    "def run_parallel_sim(n):\n",
    "    d = agent.to_dict()\n",
    "    dicts_futs = cl.scatter([d] * n_workers)\n",
    "    n_pointss = [n] * n_workers\n",
    "    futs = cl.map(generate_data, dicts_futs, n_pointss, pure=False)\n",
    "    return futs \n",
    "\n",
    "def run_parallel_sim_file(n):\n",
    "    import pickle\n",
    "    with open('agent_dict.bin', 'wb') as f:\n",
    "        pickle.dump(agent.to_dict(), f)\n",
    "    n_pointss = [n] * n_workers\n",
    "    futs = cl.map(generate_data_file, n_pointss, pure=False)\n",
    "    return futs \n",
    "\n",
    "def extend_buff(futs):\n",
    "    results = cl.gather(futs)\n",
    "    for suc, points, info in results:\n",
    "        infos.append(info)\n",
    "        if suc:\n",
    "            buffer.extend_from_dict(points)\n",
    "            \n",
    "def learn(batch_size, refresh=True):\n",
    "    if refresh:\n",
    "        buffer.refresh()\n",
    "    losses = []\n",
    "    for batch in buffer.iter_batches(batch_size):\n",
    "        losses.append(agent.learn(*batch))\n",
    "    return np.mean(losses, axis=0)\n",
    "\n",
    "def plot_losses(ax_value, ax_actor, ax_critic, losses):\n",
    "    ax_value.plot([val for val, act, crit in losses])\n",
    "    ax_actor.plot([act for val, act, crit in losses])\n",
    "    ax_critic.plot([crit for val, act, crit in losses])\n",
    "    \n",
    "    ax_value.grid()\n",
    "    ax_actor.grid()\n",
    "    ax_critic.grid()"
   ]
  },
  {
   "cell_type": "code",
   "execution_count": 6,
   "metadata": {},
   "outputs": [],
   "source": [
    "infos = []"
   ]
  },
  {
   "cell_type": "code",
   "execution_count": 7,
   "metadata": {},
   "outputs": [],
   "source": [
    "buffer = BufferParallel(agent)"
   ]
  },
  {
   "cell_type": "code",
   "execution_count": 8,
   "metadata": {},
   "outputs": [
    {
     "data": {
      "text/plain": [
       "array([  11.570976, -116.99375 ,   17.128098], dtype=float32)"
      ]
     },
     "execution_count": 8,
     "metadata": {},
     "output_type": "execute_result"
    }
   ],
   "source": [
    "futs = run_parallel_sim_file(10000)\n",
    "extend_buff(futs)\n",
    "learn(256)"
   ]
  },
  {
   "cell_type": "code",
   "execution_count": 9,
   "metadata": {},
   "outputs": [],
   "source": [
    "losses = []"
   ]
  },
  {
   "cell_type": "code",
   "execution_count": 39,
   "metadata": {},
   "outputs": [
    {
     "data": {
      "application/vnd.jupyter.widget-view+json": {
       "model_id": "39982a4af8664d2fa4e3d7b15e69d0db",
       "version_major": 2,
       "version_minor": 0
      },
      "text/plain": [
       "  0%|          | 0/130 [00:00<?, ?it/s]"
      ]
     },
     "metadata": {},
     "output_type": "display_data"
    },
    {
     "data": {
      "text/plain": [
       "900000"
      ]
     },
     "execution_count": 39,
     "metadata": {},
     "output_type": "execute_result"
    }
   ],
   "source": [
    "for i in tqdm(range(130)):\n",
    "    futs = run_parallel_sim(30000)\n",
    "    buffer.refresh()\n",
    "    while not all([f.status in {'finished', 'error'} for f in futs]):\n",
    "        losses.append(learn(512, False))\n",
    "    extend_buff(futs)   \n",
    "    buffer.trim_oldest(900000, False)\n",
    "buffer.refresh()"
   ]
  },
  {
   "cell_type": "code",
   "execution_count": 38,
   "metadata": {},
   "outputs": [],
   "source": [
    "agent.change_lr(alpha=0.0003, beta=0.0003)"
   ]
  },
  {
   "cell_type": "code",
   "execution_count": 31,
   "metadata": {},
   "outputs": [
    {
     "data": {
      "application/vnd.jupyter.widget-view+json": {
       "model_id": "8de9a40378954887baa1bf0d9af38cd5",
       "version_major": 2,
       "version_minor": 0
      },
      "text/plain": [
       "  0%|          | 0/30 [00:00<?, ?it/s]"
      ]
     },
     "metadata": {},
     "output_type": "display_data"
    },
    {
     "ename": "KeyboardInterrupt",
     "evalue": "",
     "output_type": "error",
     "traceback": [
      "\u001b[1;31m---------------------------------------------------------------------------\u001b[0m",
      "\u001b[1;31mKeyboardInterrupt\u001b[0m                         Traceback (most recent call last)",
      "\u001b[1;32m<ipython-input-31-450e59b5e282>\u001b[0m in \u001b[0;36m<module>\u001b[1;34m\u001b[0m\n\u001b[0;32m      1\u001b[0m \u001b[1;32mfor\u001b[0m \u001b[0mi\u001b[0m \u001b[1;32min\u001b[0m \u001b[0mtqdm\u001b[0m\u001b[1;33m(\u001b[0m\u001b[0mrange\u001b[0m\u001b[1;33m(\u001b[0m\u001b[1;36m30\u001b[0m\u001b[1;33m)\u001b[0m\u001b[1;33m)\u001b[0m\u001b[1;33m:\u001b[0m\u001b[1;33m\u001b[0m\u001b[1;33m\u001b[0m\u001b[0m\n\u001b[1;32m----> 2\u001b[1;33m     \u001b[0mlosses\u001b[0m\u001b[1;33m.\u001b[0m\u001b[0mappend\u001b[0m\u001b[1;33m(\u001b[0m\u001b[0mlearn\u001b[0m\u001b[1;33m(\u001b[0m\u001b[1;36m512\u001b[0m\u001b[1;33m,\u001b[0m \u001b[1;32mFalse\u001b[0m\u001b[1;33m)\u001b[0m\u001b[1;33m)\u001b[0m\u001b[1;33m\u001b[0m\u001b[1;33m\u001b[0m\u001b[0m\n\u001b[0m",
      "\u001b[1;32m<ipython-input-5-516cf534913e>\u001b[0m in \u001b[0;36mlearn\u001b[1;34m(batch_size, refresh)\u001b[0m\n\u001b[0;32m     26\u001b[0m     \u001b[0mlosses\u001b[0m \u001b[1;33m=\u001b[0m \u001b[1;33m[\u001b[0m\u001b[1;33m]\u001b[0m\u001b[1;33m\u001b[0m\u001b[1;33m\u001b[0m\u001b[0m\n\u001b[0;32m     27\u001b[0m     \u001b[1;32mfor\u001b[0m \u001b[0mbatch\u001b[0m \u001b[1;32min\u001b[0m \u001b[0mbuffer\u001b[0m\u001b[1;33m.\u001b[0m\u001b[0miter_batches\u001b[0m\u001b[1;33m(\u001b[0m\u001b[0mbatch_size\u001b[0m\u001b[1;33m)\u001b[0m\u001b[1;33m:\u001b[0m\u001b[1;33m\u001b[0m\u001b[1;33m\u001b[0m\u001b[0m\n\u001b[1;32m---> 28\u001b[1;33m         \u001b[0mlosses\u001b[0m\u001b[1;33m.\u001b[0m\u001b[0mappend\u001b[0m\u001b[1;33m(\u001b[0m\u001b[0magent\u001b[0m\u001b[1;33m.\u001b[0m\u001b[0mlearn\u001b[0m\u001b[1;33m(\u001b[0m\u001b[1;33m*\u001b[0m\u001b[0mbatch\u001b[0m\u001b[1;33m)\u001b[0m\u001b[1;33m)\u001b[0m\u001b[1;33m\u001b[0m\u001b[1;33m\u001b[0m\u001b[0m\n\u001b[0m\u001b[0;32m     29\u001b[0m     \u001b[1;32mreturn\u001b[0m \u001b[0mnp\u001b[0m\u001b[1;33m.\u001b[0m\u001b[0mmean\u001b[0m\u001b[1;33m(\u001b[0m\u001b[0mlosses\u001b[0m\u001b[1;33m,\u001b[0m \u001b[0maxis\u001b[0m\u001b[1;33m=\u001b[0m\u001b[1;36m0\u001b[0m\u001b[1;33m)\u001b[0m\u001b[1;33m\u001b[0m\u001b[1;33m\u001b[0m\u001b[0m\n\u001b[0;32m     30\u001b[0m \u001b[1;33m\u001b[0m\u001b[0m\n",
      "\u001b[1;32mD:\\neuro_missile\\src\\drone_sac.py\u001b[0m in \u001b[0;36mlearn\u001b[1;34m(self, state, action, reward, new_state, done)\u001b[0m\n\u001b[0;32m    238\u001b[0m         \u001b[0mvalue_target\u001b[0m \u001b[1;33m=\u001b[0m \u001b[0mcritic_value\u001b[0m \u001b[1;33m-\u001b[0m \u001b[0mlog_probs\u001b[0m\u001b[1;33m\u001b[0m\u001b[1;33m\u001b[0m\u001b[0m\n\u001b[0;32m    239\u001b[0m         \u001b[0mvalue_loss\u001b[0m \u001b[1;33m=\u001b[0m \u001b[1;36m0.5\u001b[0m \u001b[1;33m*\u001b[0m \u001b[0mF\u001b[0m\u001b[1;33m.\u001b[0m\u001b[0mmse_loss\u001b[0m\u001b[1;33m(\u001b[0m\u001b[0mvalue\u001b[0m\u001b[1;33m,\u001b[0m \u001b[0mvalue_target\u001b[0m\u001b[1;33m)\u001b[0m\u001b[1;33m\u001b[0m\u001b[1;33m\u001b[0m\u001b[0m\n\u001b[1;32m--> 240\u001b[1;33m         \u001b[0mvalue_loss\u001b[0m\u001b[1;33m.\u001b[0m\u001b[0mbackward\u001b[0m\u001b[1;33m(\u001b[0m\u001b[0mretain_graph\u001b[0m\u001b[1;33m=\u001b[0m\u001b[1;32mTrue\u001b[0m\u001b[1;33m)\u001b[0m\u001b[1;33m\u001b[0m\u001b[1;33m\u001b[0m\u001b[0m\n\u001b[0m\u001b[0;32m    241\u001b[0m         \u001b[0mself\u001b[0m\u001b[1;33m.\u001b[0m\u001b[0mvalue\u001b[0m\u001b[1;33m.\u001b[0m\u001b[0moptimizer\u001b[0m\u001b[1;33m.\u001b[0m\u001b[0mstep\u001b[0m\u001b[1;33m(\u001b[0m\u001b[1;33m)\u001b[0m\u001b[1;33m\u001b[0m\u001b[1;33m\u001b[0m\u001b[0m\n\u001b[0;32m    242\u001b[0m \u001b[1;33m\u001b[0m\u001b[0m\n",
      "\u001b[1;32mD:\\neuro_missile\\env_neuro_missile\\lib\\site-packages\\torch\\tensor.py\u001b[0m in \u001b[0;36mbackward\u001b[1;34m(self, gradient, retain_graph, create_graph, inputs)\u001b[0m\n\u001b[0;32m    243\u001b[0m                 \u001b[0mcreate_graph\u001b[0m\u001b[1;33m=\u001b[0m\u001b[0mcreate_graph\u001b[0m\u001b[1;33m,\u001b[0m\u001b[1;33m\u001b[0m\u001b[1;33m\u001b[0m\u001b[0m\n\u001b[0;32m    244\u001b[0m                 inputs=inputs)\n\u001b[1;32m--> 245\u001b[1;33m         \u001b[0mtorch\u001b[0m\u001b[1;33m.\u001b[0m\u001b[0mautograd\u001b[0m\u001b[1;33m.\u001b[0m\u001b[0mbackward\u001b[0m\u001b[1;33m(\u001b[0m\u001b[0mself\u001b[0m\u001b[1;33m,\u001b[0m \u001b[0mgradient\u001b[0m\u001b[1;33m,\u001b[0m \u001b[0mretain_graph\u001b[0m\u001b[1;33m,\u001b[0m \u001b[0mcreate_graph\u001b[0m\u001b[1;33m,\u001b[0m \u001b[0minputs\u001b[0m\u001b[1;33m=\u001b[0m\u001b[0minputs\u001b[0m\u001b[1;33m)\u001b[0m\u001b[1;33m\u001b[0m\u001b[1;33m\u001b[0m\u001b[0m\n\u001b[0m\u001b[0;32m    246\u001b[0m \u001b[1;33m\u001b[0m\u001b[0m\n\u001b[0;32m    247\u001b[0m     \u001b[1;32mdef\u001b[0m \u001b[0mregister_hook\u001b[0m\u001b[1;33m(\u001b[0m\u001b[0mself\u001b[0m\u001b[1;33m,\u001b[0m \u001b[0mhook\u001b[0m\u001b[1;33m)\u001b[0m\u001b[1;33m:\u001b[0m\u001b[1;33m\u001b[0m\u001b[1;33m\u001b[0m\u001b[0m\n",
      "\u001b[1;32mD:\\neuro_missile\\env_neuro_missile\\lib\\site-packages\\torch\\autograd\\__init__.py\u001b[0m in \u001b[0;36mbackward\u001b[1;34m(tensors, grad_tensors, retain_graph, create_graph, grad_variables, inputs)\u001b[0m\n\u001b[0;32m    143\u001b[0m         \u001b[0mretain_graph\u001b[0m \u001b[1;33m=\u001b[0m \u001b[0mcreate_graph\u001b[0m\u001b[1;33m\u001b[0m\u001b[1;33m\u001b[0m\u001b[0m\n\u001b[0;32m    144\u001b[0m \u001b[1;33m\u001b[0m\u001b[0m\n\u001b[1;32m--> 145\u001b[1;33m     Variable._execution_engine.run_backward(\n\u001b[0m\u001b[0;32m    146\u001b[0m         \u001b[0mtensors\u001b[0m\u001b[1;33m,\u001b[0m \u001b[0mgrad_tensors_\u001b[0m\u001b[1;33m,\u001b[0m \u001b[0mretain_graph\u001b[0m\u001b[1;33m,\u001b[0m \u001b[0mcreate_graph\u001b[0m\u001b[1;33m,\u001b[0m \u001b[0minputs\u001b[0m\u001b[1;33m,\u001b[0m\u001b[1;33m\u001b[0m\u001b[1;33m\u001b[0m\u001b[0m\n\u001b[0;32m    147\u001b[0m         allow_unreachable=True, accumulate_grad=True)  # allow_unreachable flag\n",
      "\u001b[1;31mKeyboardInterrupt\u001b[0m: "
     ]
    }
   ],
   "source": [
    "for i in tqdm(range(30)):\n",
    "    losses.append(learn(512, False))"
   ]
  },
  {
   "cell_type": "code",
   "execution_count": 40,
   "metadata": {},
   "outputs": [
    {
     "data": {
      "image/png": "[encoded data removed]",
      "text/plain": [
       "<Figure size 648x648 with 3 Axes>"
      ]
     },
     "metadata": {
      "needs_background": "light"
     },
     "output_type": "display_data"
    }
   ],
   "source": [
    "fig, (ax1, ax2, ax3) = plt.subplots(3,1,figsize=(9,9))\n",
    "plot_losses(ax1, ax2, ax3, losses[:])\n",
    "plt.show()"
   ]
  },
  {
   "cell_type": "code",
   "execution_count": 41,
   "metadata": {},
   "outputs": [
    {
     "data": {
      "text/plain": [
       "0.8882113821138211"
      ]
     },
     "execution_count": 41,
     "metadata": {},
     "output_type": "execute_result"
    }
   ],
   "source": [
    "successes = [i for i in infos if 'result' in i and i['result'] == 'success']\n",
    "len(successes)/len(infos)"
   ]
  },
  {
   "cell_type": "code",
   "execution_count": 42,
   "metadata": {},
   "outputs": [
    {
     "data": {
      "text/plain": [
       "[{'result': 'out of Y bounds'},\n",
       " {'result': 'out of Y bounds'},\n",
       " {'result': 'out of Y bounds'},\n",
       " {'result': 'out of Y bounds'},\n",
       " {'result': 'out of Y bounds'},\n",
       " {'result': 'out of Y bounds'},\n",
       " {'result': 'out of Y bounds'},\n",
       " {'result': 'out of Y bounds'},\n",
       " {'result': 'out of Y bounds'},\n",
       " {'result': 'out of Y bounds'},\n",
       " {'result': 'out of Y bounds'},\n",
       " {'result': 'flip over'},\n",
       " {'result': 'out of Y bounds'},\n",
       " {'result': 'out of Y bounds'},\n",
       " {'result': 'out of Y bounds'},\n",
       " {'result': 'out of Y bounds'},\n",
       " {'result': 'out of Y bounds'},\n",
       " {'result': 'out of Y bounds'},\n",
       " {'result': 'flip over'},\n",
       " {'result': 'flip over'},\n",
       " {'result': 'out of X bounds'},\n",
       " {'result': 'out of X bounds'},\n",
       " {'result': 'out of Y bounds'},\n",
       " {'result': 'out of Y bounds'},\n",
       " {'result': 'flip over'},\n",
       " {'result': 'out of Y bounds'},\n",
       " {'result': 'out of Y bounds'}]"
      ]
     },
     "execution_count": 42,
     "metadata": {},
     "output_type": "execute_result"
    }
   ],
   "source": [
    "[i for i in infos if 'result' in i and i['result'] != 'success']"
   ]
  },
  {
   "cell_type": "code",
   "execution_count": 43,
   "metadata": {},
   "outputs": [
    {
     "data": {
      "text/plain": [
       "(77.41948437841191, -63.06060024805419, 36.060000453394224)"
      ]
     },
     "execution_count": 43,
     "metadata": {},
     "output_type": "execute_result"
    }
   ],
   "source": [
    "final_rewards = [i['final_reward'] for i in successes]\n",
    "max(final_rewards), min(final_rewards), np.mean(final_rewards)"
   ]
  },
  {
   "cell_type": "code",
   "execution_count": 44,
   "metadata": {},
   "outputs": [],
   "source": [
    "import pickle\n",
    "# with open('agent_dict.bin', 'rb') as f:\n",
    "#     agent_dict = pickle.load(f)\n",
    "# agent.from_dict(agent_dict)\n",
    "\n",
    "with open('agent_dict.bin', 'wb') as f:\n",
    "    pickle.dump(agent.to_dict(), f)"
   ]
  },
  {
   "cell_type": "code",
   "execution_count": 8,
   "metadata": {},
   "outputs": [],
   "source": [
    "env = DroneGym.make()"
   ]
  },
  {
   "cell_type": "code",
   "execution_count": 9,
   "metadata": {},
   "outputs": [
    {
     "data": {
      "application/vnd.jupyter.widget-view+json": {
       "model_id": "2c5e632c4aa4454cbefce105c753bc2d",
       "version_major": 2,
       "version_minor": 0
      },
      "text/plain": [
       "  0%|          | 0/1 [00:00<?, ?it/s]"
      ]
     },
     "metadata": {},
     "output_type": "display_data"
    }
   ],
   "source": [
    "score = 0\n",
    "env.record_history = True\n",
    "env.antiflip = True\n",
    "for i in tqdm(range(1)):\n",
    "    observation = env.reset()\n",
    "    done = False\n",
    "    score = 0\n",
    "    while not done:\n",
    "#         action = np.random.uniform(0.97,1, size=2)\n",
    "        action = agent.choose_action(observation)\n",
    "        observation_, reward, done, info = env.step(action)\n",
    "        score += reward\n",
    "        buffer.store_transition(observation, action, reward, observation_, done)\n",
    "        observation = observation_\n",
    "#     buffer.refresh()\n",
    "#     for batch in buffer.iter_batches(2048):\n",
    "#         agent.learn(*batch)"
   ]
  },
  {
   "cell_type": "code",
   "execution_count": 50,
   "metadata": {},
   "outputs": [
    {
     "data": {
      "text/plain": [
       "910310"
      ]
     },
     "execution_count": 50,
     "metadata": {},
     "output_type": "execute_result"
    }
   ],
   "source": [
    "buffer.refresh()"
   ]
  },
  {
   "cell_type": "code",
   "execution_count": 10,
   "metadata": {},
   "outputs": [
    {
     "data": {
      "text/plain": [
       "[<matplotlib.lines.Line2D at 0x211a9b5b760>]"
      ]
     },
     "execution_count": 10,
     "metadata": {},
     "output_type": "execute_result"
    },
    {
     "data": {
      "image/png": "[encoded data removed]",
      "text/plain": [
       "<Figure size 432x288 with 1 Axes>"
      ]
     },
     "metadata": {
      "needs_background": "light"
     },
     "output_type": "display_data"
    }
   ],
   "source": [
    "from ipywidgets import interact, interactive, fixed\n",
    "import ipywidgets\n",
    "import matplotlib.pyplot as plt\n",
    "gym = env\n",
    "\n",
    "xs = []\n",
    "ys = []\n",
    "f1s = []\n",
    "f2s = []\n",
    "rewards = []\n",
    "ts = []\n",
    "dts = []\n",
    "scores = [0]\n",
    "vels = []\n",
    "for d in gym.history:\n",
    "    gym.set_state(d['state'])\n",
    "    xs.append(gym.drone.pos.x)\n",
    "    ys.append(gym.drone.pos.y)\n",
    "    f1, f2 = d['actions']\n",
    "    f1s.append(f1)\n",
    "    f2s.append(f2)\n",
    "    ts.append(gym.time_curr)\n",
    "    rewards.append(d['reward'])\n",
    "    dts.append(d['delta_t1'])\n",
    "    scores.append(scores[-1]+d['reward'])\n",
    "    vels.append(gym.drone.vel.len())\n",
    "scores = scores[1:]\n",
    "i1=0\n",
    "i2=-1\n",
    "# plt.plot(ts[i1:i2], rewards[i1:i2])\n",
    "plt.plot(ts[i1:i2], f1s[i1:i2])\n",
    "plt.plot(ts[i1:i2], f2s[i1:i2])\n",
    "# plt.plot(ts[i1:i2], dts[i1:i2])"
   ]
  },
  {
   "cell_type": "code",
   "execution_count": 11,
   "metadata": {},
   "outputs": [
    {
     "data": {
      "application/vnd.jupyter.widget-view+json": {
       "model_id": "d10dbdca894e49a59cdeee8367d50977",
       "version_major": 2,
       "version_minor": 0
      },
      "text/plain": [
       "interactive(children=(IntSlider(value=0, description='i', max=1029), Output()), _dom_classes=('widget-interact…"
      ]
     },
     "metadata": {},
     "output_type": "display_data"
    }
   ],
   "source": [
    "@interact(i=ipywidgets.IntSlider(min=0,max=len(gym.history)-1,step=1, value=0))\n",
    "def plot_history(i):\n",
    "    d = gym.history[i]\n",
    "    i1=0#max(0,i-30)\n",
    "    i2=i+1\n",
    "    gym.set_state(d['state'])\n",
    "    fig, (ax, ax2, ax3) = plt.subplots(1,3, figsize=(14,7))\n",
    "    gym.plot(ax, drone_mashtb=20, vec_mashtb=1, actions=d['actions'],ideal_traj=True)\n",
    "    ax.plot(xs[i1:i],ys[i1:i],ls=':')\n",
    "    ax.set_aspect('equal', adjustable='box')\n",
    "    \n",
    "    \n",
    "#     ax2.plot(ts[i1:i2], f1s[i1:i2])\n",
    "#     ax2.plot(ts[i1:i2], f2s[i1:i2])\n",
    "    ax2.grid()\n",
    "    ax2.plot(ts[:i2], vels[:i2])\n",
    "    \n",
    "    ax3.plot(ts[:i2], rewards[:i2])\n",
    "    ax3.grid()\n",
    "    ax.grid()\n",
    "    plt.show()"
   ]
  },
  {
   "cell_type": "code",
   "execution_count": 53,
   "metadata": {},
   "outputs": [
    {
     "data": {
      "text/plain": [
       "{'result': 'success',\n",
       " 'final_reward': 49.82569265810762,\n",
       " 'pos_diff': 0.9985963845497348,\n",
       " 'dir_diff': 0.3144402667067876,\n",
       " 'vel_diff': 0.7827148633523866}"
      ]
     },
     "execution_count": 53,
     "metadata": {},
     "output_type": "execute_result"
    }
   ],
   "source": [
    "info"
   ]
  },
  {
   "cell_type": "code",
   "execution_count": null,
   "metadata": {},
   "outputs": [],
   "source": []
  }
 ],
 "metadata": {
  "kernelspec": {
   "display_name": "env_neuro_missile",
   "language": "python",
   "name": "env_neuro_missile"
  },
  "language_info": {
   "codemirror_mode": {
    "name": "ipython",
    "version": 3
   },
   "file_extension": ".py",
   "mimetype": "text/x-python",
   "name": "python",
   "nbconvert_exporter": "python",
   "pygments_lexer": "ipython3",
   "version": "3.8.5"
  }
 },
 "nbformat": 4,
 "nbformat_minor": 4
}
