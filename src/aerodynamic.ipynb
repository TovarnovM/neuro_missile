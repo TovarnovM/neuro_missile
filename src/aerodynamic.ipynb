{
 "cells": [
  {
   "cell_type": "code",
   "execution_count": 1,
   "metadata": {},
   "outputs": [
    {
     "data": {
      "text/html": [
       "<div>\n",
       "<style scoped>\n",
       "    .dataframe tbody tr th:only-of-type {\n",
       "        vertical-align: middle;\n",
       "    }\n",
       "\n",
       "    .dataframe tbody tr th {\n",
       "        vertical-align: top;\n",
       "    }\n",
       "\n",
       "    .dataframe thead th {\n",
       "        text-align: right;\n",
       "    }\n",
       "</style>\n",
       "<table border=\"1\" class=\"dataframe\">\n",
       "  <thead>\n",
       "    <tr style=\"text-align: right;\">\n",
       "      <th></th>\n",
       "      <th>M</th>\n",
       "      <th>D</th>\n",
       "      <th>A</th>\n",
       "      <th>Cya</th>\n",
       "      <th>Cy</th>\n",
       "      <th>Cx</th>\n",
       "      <th>mz</th>\n",
       "      <th>Cxa</th>\n",
       "    </tr>\n",
       "  </thead>\n",
       "  <tbody>\n",
       "    <tr>\n",
       "      <th>0</th>\n",
       "      <td>0.6</td>\n",
       "      <td>-30</td>\n",
       "      <td>-40</td>\n",
       "      <td>-3.249</td>\n",
       "      <td>-6.075</td>\n",
       "      <td>2.185</td>\n",
       "      <td>0.415294</td>\n",
       "      <td>5.811</td>\n",
       "    </tr>\n",
       "    <tr>\n",
       "      <th>1</th>\n",
       "      <td>0.6</td>\n",
       "      <td>-30</td>\n",
       "      <td>-36</td>\n",
       "      <td>-2.793</td>\n",
       "      <td>-5.082</td>\n",
       "      <td>2.243</td>\n",
       "      <td>0.361787</td>\n",
       "      <td>5.022</td>\n",
       "    </tr>\n",
       "    <tr>\n",
       "      <th>2</th>\n",
       "      <td>0.6</td>\n",
       "      <td>-30</td>\n",
       "      <td>-32</td>\n",
       "      <td>-2.480</td>\n",
       "      <td>-4.356</td>\n",
       "      <td>2.292</td>\n",
       "      <td>0.308280</td>\n",
       "      <td>4.454</td>\n",
       "    </tr>\n",
       "    <tr>\n",
       "      <th>3</th>\n",
       "      <td>0.6</td>\n",
       "      <td>-30</td>\n",
       "      <td>-28</td>\n",
       "      <td>-2.233</td>\n",
       "      <td>-3.768</td>\n",
       "      <td>2.330</td>\n",
       "      <td>0.254773</td>\n",
       "      <td>4.008</td>\n",
       "    </tr>\n",
       "    <tr>\n",
       "      <th>4</th>\n",
       "      <td>0.6</td>\n",
       "      <td>-30</td>\n",
       "      <td>-24</td>\n",
       "      <td>-2.024</td>\n",
       "      <td>-3.266</td>\n",
       "      <td>2.358</td>\n",
       "      <td>0.201266</td>\n",
       "      <td>3.640</td>\n",
       "    </tr>\n",
       "    <tr>\n",
       "      <th>5</th>\n",
       "      <td>0.6</td>\n",
       "      <td>-30</td>\n",
       "      <td>-20</td>\n",
       "      <td>-1.849</td>\n",
       "      <td>-2.831</td>\n",
       "      <td>2.374</td>\n",
       "      <td>0.147759</td>\n",
       "      <td>3.331</td>\n",
       "    </tr>\n",
       "    <tr>\n",
       "      <th>6</th>\n",
       "      <td>0.6</td>\n",
       "      <td>-30</td>\n",
       "      <td>-16</td>\n",
       "      <td>-1.687</td>\n",
       "      <td>-2.437</td>\n",
       "      <td>2.379</td>\n",
       "      <td>0.094253</td>\n",
       "      <td>3.063</td>\n",
       "    </tr>\n",
       "    <tr>\n",
       "      <th>7</th>\n",
       "      <td>0.6</td>\n",
       "      <td>-30</td>\n",
       "      <td>-12</td>\n",
       "      <td>-1.542</td>\n",
       "      <td>-2.081</td>\n",
       "      <td>2.374</td>\n",
       "      <td>0.040746</td>\n",
       "      <td>2.831</td>\n",
       "    </tr>\n",
       "    <tr>\n",
       "      <th>8</th>\n",
       "      <td>0.6</td>\n",
       "      <td>-30</td>\n",
       "      <td>-8</td>\n",
       "      <td>-1.411</td>\n",
       "      <td>-1.756</td>\n",
       "      <td>2.357</td>\n",
       "      <td>-0.012761</td>\n",
       "      <td>2.628</td>\n",
       "    </tr>\n",
       "    <tr>\n",
       "      <th>9</th>\n",
       "      <td>0.6</td>\n",
       "      <td>-30</td>\n",
       "      <td>-4</td>\n",
       "      <td>-1.293</td>\n",
       "      <td>-1.459</td>\n",
       "      <td>2.331</td>\n",
       "      <td>-0.066268</td>\n",
       "      <td>2.450</td>\n",
       "    </tr>\n",
       "    <tr>\n",
       "      <th>10</th>\n",
       "      <td>0.6</td>\n",
       "      <td>-30</td>\n",
       "      <td>0</td>\n",
       "      <td>-1.192</td>\n",
       "      <td>-1.192</td>\n",
       "      <td>2.295</td>\n",
       "      <td>-0.119775</td>\n",
       "      <td>2.295</td>\n",
       "    </tr>\n",
       "    <tr>\n",
       "      <th>11</th>\n",
       "      <td>0.6</td>\n",
       "      <td>-30</td>\n",
       "      <td>4</td>\n",
       "      <td>-1.047</td>\n",
       "      <td>-0.892</td>\n",
       "      <td>2.249</td>\n",
       "      <td>-0.173282</td>\n",
       "      <td>2.157</td>\n",
       "    </tr>\n",
       "    <tr>\n",
       "      <th>12</th>\n",
       "      <td>0.6</td>\n",
       "      <td>-30</td>\n",
       "      <td>8</td>\n",
       "      <td>-0.799</td>\n",
       "      <td>-0.498</td>\n",
       "      <td>2.196</td>\n",
       "      <td>-0.226789</td>\n",
       "      <td>2.053</td>\n",
       "    </tr>\n",
       "    <tr>\n",
       "      <th>13</th>\n",
       "      <td>0.6</td>\n",
       "      <td>-30</td>\n",
       "      <td>12</td>\n",
       "      <td>-0.457</td>\n",
       "      <td>-0.013</td>\n",
       "      <td>2.135</td>\n",
       "      <td>-0.280296</td>\n",
       "      <td>2.001</td>\n",
       "    </tr>\n",
       "    <tr>\n",
       "      <th>14</th>\n",
       "      <td>0.6</td>\n",
       "      <td>-30</td>\n",
       "      <td>16</td>\n",
       "      <td>-0.033</td>\n",
       "      <td>0.559</td>\n",
       "      <td>2.068</td>\n",
       "      <td>-0.333802</td>\n",
       "      <td>2.022</td>\n",
       "    </tr>\n",
       "    <tr>\n",
       "      <th>15</th>\n",
       "      <td>0.6</td>\n",
       "      <td>-30</td>\n",
       "      <td>20</td>\n",
       "      <td>0.462</td>\n",
       "      <td>1.218</td>\n",
       "      <td>1.997</td>\n",
       "      <td>-0.387309</td>\n",
       "      <td>2.135</td>\n",
       "    </tr>\n",
       "    <tr>\n",
       "      <th>16</th>\n",
       "      <td>0.6</td>\n",
       "      <td>-30</td>\n",
       "      <td>24</td>\n",
       "      <td>1.008</td>\n",
       "      <td>1.959</td>\n",
       "      <td>1.923</td>\n",
       "      <td>-0.440816</td>\n",
       "      <td>2.357</td>\n",
       "    </tr>\n",
       "    <tr>\n",
       "      <th>17</th>\n",
       "      <td>0.6</td>\n",
       "      <td>-30</td>\n",
       "      <td>28</td>\n",
       "      <td>1.606</td>\n",
       "      <td>2.801</td>\n",
       "      <td>1.848</td>\n",
       "      <td>-0.494323</td>\n",
       "      <td>2.709</td>\n",
       "    </tr>\n",
       "    <tr>\n",
       "      <th>18</th>\n",
       "      <td>0.6</td>\n",
       "      <td>-30</td>\n",
       "      <td>32</td>\n",
       "      <td>2.248</td>\n",
       "      <td>3.758</td>\n",
       "      <td>1.772</td>\n",
       "      <td>-0.547830</td>\n",
       "      <td>3.217</td>\n",
       "    </tr>\n",
       "    <tr>\n",
       "      <th>19</th>\n",
       "      <td>0.6</td>\n",
       "      <td>-30</td>\n",
       "      <td>36</td>\n",
       "      <td>2.943</td>\n",
       "      <td>4.870</td>\n",
       "      <td>1.696</td>\n",
       "      <td>-0.601337</td>\n",
       "      <td>3.919</td>\n",
       "    </tr>\n",
       "    <tr>\n",
       "      <th>20</th>\n",
       "      <td>0.6</td>\n",
       "      <td>-30</td>\n",
       "      <td>40</td>\n",
       "      <td>3.747</td>\n",
       "      <td>6.254</td>\n",
       "      <td>1.624</td>\n",
       "      <td>-0.654844</td>\n",
       "      <td>4.912</td>\n",
       "    </tr>\n",
       "  </tbody>\n",
       "</table>\n",
       "</div>"
      ],
      "text/plain": [
       "      M   D   A    Cya     Cy     Cx        mz    Cxa\n",
       "0   0.6 -30 -40 -3.249 -6.075  2.185  0.415294  5.811\n",
       "1   0.6 -30 -36 -2.793 -5.082  2.243  0.361787  5.022\n",
       "2   0.6 -30 -32 -2.480 -4.356  2.292  0.308280  4.454\n",
       "3   0.6 -30 -28 -2.233 -3.768  2.330  0.254773  4.008\n",
       "4   0.6 -30 -24 -2.024 -3.266  2.358  0.201266  3.640\n",
       "5   0.6 -30 -20 -1.849 -2.831  2.374  0.147759  3.331\n",
       "6   0.6 -30 -16 -1.687 -2.437  2.379  0.094253  3.063\n",
       "7   0.6 -30 -12 -1.542 -2.081  2.374  0.040746  2.831\n",
       "8   0.6 -30  -8 -1.411 -1.756  2.357 -0.012761  2.628\n",
       "9   0.6 -30  -4 -1.293 -1.459  2.331 -0.066268  2.450\n",
       "10  0.6 -30   0 -1.192 -1.192  2.295 -0.119775  2.295\n",
       "11  0.6 -30   4 -1.047 -0.892  2.249 -0.173282  2.157\n",
       "12  0.6 -30   8 -0.799 -0.498  2.196 -0.226789  2.053\n",
       "13  0.6 -30  12 -0.457 -0.013  2.135 -0.280296  2.001\n",
       "14  0.6 -30  16 -0.033  0.559  2.068 -0.333802  2.022\n",
       "15  0.6 -30  20  0.462  1.218  1.997 -0.387309  2.135\n",
       "16  0.6 -30  24  1.008  1.959  1.923 -0.440816  2.357\n",
       "17  0.6 -30  28  1.606  2.801  1.848 -0.494323  2.709\n",
       "18  0.6 -30  32  2.248  3.758  1.772 -0.547830  3.217\n",
       "19  0.6 -30  36  2.943  4.870  1.696 -0.601337  3.919\n",
       "20  0.6 -30  40  3.747  6.254  1.624 -0.654844  4.912"
      ]
     },
     "execution_count": 1,
     "metadata": {},
     "output_type": "execute_result"
    }
   ],
   "source": [
    "import pandas as pd\n",
    "import numpy as np\n",
    "import matplotlib.pyplot as plt\n",
    "\n",
    "df = pd.read_csv('constants/aerodynamic.csv')\n",
    "df = df.filter(items=[\"M\",\"D\",\"A\",\"Cya\",\"Cy\", \"Cx\", \"mz\", \"Cxa\"])\n",
    "df.head(21)\n"
   ]
  },
  {
   "cell_type": "code",
   "execution_count": 13,
   "metadata": {},
   "outputs": [
    {
     "data": {
      "text/plain": [
       "array([0.6, 0.9, 1.1, 1.5, 2. , 3. ])"
      ]
     },
     "execution_count": 13,
     "metadata": {},
     "output_type": "execute_result"
    }
   ],
   "source": [
    "df_D_20 = df[df['D'] == -20]\n",
    "df_D_10 = df[df['D'] == -10]\n",
    "df_D0 = df[df['D'] == 0]\n",
    "df_D10 = df[df['D'] == 10]\n",
    "df_D20 = df[df['D'] == 20]\n",
    "M = df['M'].drop_duplicates().to_numpy()\n",
    "A = df['A'].drop_duplicates().to_numpy()\n",
    "\n",
    "Cya = np.zeros((5,len(M),len(A)))\n",
    "Cy = np.zeros((5,len(M),len(A)))\n",
    "Cx = np.zeros((5,len(M),len(A)))\n",
    "mz = np.zeros((5,len(M),len(A)))\n",
    "Cxa = np.zeros((5,len(M),len(A)))\n",
    "for i in range(len(M)-1):\n",
    "    for j in range(len(A)):     \n",
    "        Cya[0][i][j], Cy[0][i][j], Cx[0][i][j], mz[0][i][j], Cxa[0][i][j] = df_D_20.query('M == {0} & A == {1} '.format(M[i], A[j])).values.tolist()[0][3:]\n",
    "        Cya[1][i][j], Cy[1][i][j], Cx[1][i][j], mz[1][i][j], Cxa[1][i][j] = df_D_10.query('M == {0} & A == {1} '.format(M[i], A[j])).values.tolist()[0][3:]\n",
    "        Cya[2][i][j], Cy[2][i][j], Cx[2][i][j], mz[2][i][j], Cxa[2][i][j] = df_D0.query('M == {0} & A == {1} '.format(M[i], A[j])).values.tolist()[0][3:]\n",
    "        Cya[3][i][j], Cy[3][i][j], Cx[3][i][j], mz[3][i][j], Cxa[3][i][j] = df_D10.query('M == {0} & A == {1} '.format(M[i], A[j])).values.tolist()[0][3:]\n",
    "        Cya[4][i][j], Cy[4][i][j], Cx[4][i][j], mz[4][i][j], Cxa[4][i][j] = df_D20.query('M == {0} & A == {1} '.format(M[i], A[j])).values.tolist()[0][3:]\n",
    "M"
   ]
  },
  {
   "cell_type": "code",
   "execution_count": 14,
   "metadata": {},
   "outputs": [
    {
     "data": {
      "application/vnd.jupyter.widget-view+json": {
       "model_id": "ce2d9db4d4ef425993a9c67391d3345f",
       "version_major": 2,
       "version_minor": 0
      },
      "text/plain": [
       "Canvas(toolbar=Toolbar(toolitems=[('Home', 'Reset original view', 'home', 'home'), ('Back', 'Back to previous …"
      ]
     },
     "metadata": {},
     "output_type": "display_data"
    }
   ],
   "source": [
    "%matplotlib widget\n",
    "\n",
    "colors = [\n",
    "    '#cfcfcf',\n",
    "    '#969696',\n",
    "    '#575757',\n",
    "    '#2e2e2e',\n",
    "    '#000000'\n",
    "]\n",
    "for i in range(5):\n",
    "    for cya in Cya[i]:\n",
    "        plt.plot(A, cya, color=colors[i])\n",
    "plt.grid()\n",
    "plt.ylim(-2.5, 2.5)\n",
    "plt.xlim(-22, 22)\n",
    "plt.show()"
   ]
  },
  {
   "cell_type": "code",
   "execution_count": 15,
   "metadata": {},
   "outputs": [
    {
     "data": {
      "application/vnd.jupyter.widget-view+json": {
       "model_id": "9b674ea2b1da41c9ac11afa058235324",
       "version_major": 2,
       "version_minor": 0
      },
      "text/plain": [
       "Canvas(toolbar=Toolbar(toolitems=[('Home', 'Reset original view', 'home', 'home'), ('Back', 'Back to previous …"
      ]
     },
     "metadata": {},
     "output_type": "display_data"
    }
   ],
   "source": [
    "%matplotlib widget\n",
    "\n",
    "for i in range(5):\n",
    "    for cy in Cy[i]:\n",
    "        plt.plot(A, cy, color=colors[i])\n",
    "plt.grid()\n",
    "plt.ylim(-2.5, 2.5)\n",
    "plt.xlim(-22, 22)\n",
    "plt.show()"
   ]
  },
  {
   "cell_type": "code",
   "execution_count": 16,
   "metadata": {},
   "outputs": [
    {
     "data": {
      "application/vnd.jupyter.widget-view+json": {
       "model_id": "e5928b06bf124a798f14940e1b0400bd",
       "version_major": 2,
       "version_minor": 0
      },
      "text/plain": [
       "Canvas(toolbar=Toolbar(toolitems=[('Home', 'Reset original view', 'home', 'home'), ('Back', 'Back to previous …"
      ]
     },
     "metadata": {},
     "output_type": "display_data"
    }
   ],
   "source": [
    "%matplotlib widget\n",
    "\n",
    "for i in range(5):\n",
    "    for cx in Cx[i]:\n",
    "        plt.plot(A, cx, color=colors[i])\n",
    "plt.grid()\n",
    "plt.xlim(-22, 22)\n",
    "plt.show()"
   ]
  },
  {
   "cell_type": "code",
   "execution_count": 17,
   "metadata": {},
   "outputs": [
    {
     "data": {
      "application/vnd.jupyter.widget-view+json": {
       "model_id": "6c4c5b5884e94b60ac66fd8d397fa3d0",
       "version_major": 2,
       "version_minor": 0
      },
      "text/plain": [
       "Canvas(toolbar=Toolbar(toolitems=[('Home', 'Reset original view', 'home', 'home'), ('Back', 'Back to previous …"
      ]
     },
     "metadata": {},
     "output_type": "display_data"
    }
   ],
   "source": [
    "%matplotlib widget\n",
    "\n",
    "for i in range(5):\n",
    "    for cxa in Cxa[i]:\n",
    "        plt.plot(A, cxa, color=colors[i])\n",
    "plt.grid()\n",
    "plt.xlim(-22, 22)\n",
    "plt.show()"
   ]
  },
  {
   "cell_type": "code",
   "execution_count": 18,
   "metadata": {},
   "outputs": [
    {
     "data": {
      "application/vnd.jupyter.widget-view+json": {
       "model_id": "c0d0099a1f1343d4b2a0a3dfffb48430",
       "version_major": 2,
       "version_minor": 0
      },
      "text/plain": [
       "Canvas(toolbar=Toolbar(toolitems=[('Home', 'Reset original view', 'home', 'home'), ('Back', 'Back to previous …"
      ]
     },
     "metadata": {},
     "output_type": "display_data"
    }
   ],
   "source": [
    "%matplotlib widget\n",
    "\n",
    "for i in range(5):\n",
    "    for mzz in mz[i]:\n",
    "        plt.plot(A, mzz, color=colors[i])\n",
    "plt.ylim(-1.0, 1.0)\n",
    "plt.xlim(-22, 22)\n",
    "plt.grid()\n",
    "plt.show()"
   ]
  },
  {
   "cell_type": "code",
   "execution_count": null,
   "metadata": {},
   "outputs": [],
   "source": []
  },
  {
   "cell_type": "code",
   "execution_count": null,
   "metadata": {},
   "outputs": [],
   "source": []
  },
  {
   "cell_type": "code",
   "execution_count": null,
   "metadata": {},
   "outputs": [],
   "source": []
  }
 ],
 "metadata": {
  "kernelspec": {
   "display_name": "Python 3",
   "language": "python",
   "name": "python3"
  },
  "language_info": {
   "codemirror_mode": {
    "name": "ipython",
    "version": 3
   },
   "file_extension": ".py",
   "mimetype": "text/x-python",
   "name": "python",
   "nbconvert_exporter": "python",
   "pygments_lexer": "ipython3",
   "version": "3.7.6"
  }
 },
 "nbformat": 4,
 "nbformat_minor": 4
}
